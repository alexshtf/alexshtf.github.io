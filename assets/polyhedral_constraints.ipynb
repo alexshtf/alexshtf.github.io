{
  "nbformat": 4,
  "nbformat_minor": 0,
  "metadata": {
    "colab": {
      "provenance": [],
      "machine_shape": "hm",
      "gpuType": "L4",
      "authorship_tag": "ABX9TyNAahRqPKtB6bY2/+UmzmeK",
      "include_colab_link": true
    },
    "kernelspec": {
      "name": "python3",
      "display_name": "Python 3"
    },
    "language_info": {
      "name": "python"
    },
    "accelerator": "GPU",
    "widgets": {
      "application/vnd.jupyter.widget-state+json": {
        "5fb36db9125646caa85faee50f849b39": {
          "model_module": "@jupyter-widgets/controls",
          "model_name": "HBoxModel",
          "model_module_version": "1.5.0",
          "state": {
            "_dom_classes": [],
            "_model_module": "@jupyter-widgets/controls",
            "_model_module_version": "1.5.0",
            "_model_name": "HBoxModel",
            "_view_count": null,
            "_view_module": "@jupyter-widgets/controls",
            "_view_module_version": "1.5.0",
            "_view_name": "HBoxView",
            "box_style": "",
            "children": [
              "IPY_MODEL_21fd072e74c84f0e95e32f9d2056ddae",
              "IPY_MODEL_c0a6478aedd0442e9aa5f927b3e6c4d5",
              "IPY_MODEL_70bdd8f94ad24d618adc154c5cb2b3f8"
            ],
            "layout": "IPY_MODEL_416d2621580e4932a0b951b5485c84b2"
          }
        },
        "21fd072e74c84f0e95e32f9d2056ddae": {
          "model_module": "@jupyter-widgets/controls",
          "model_name": "HTMLModel",
          "model_module_version": "1.5.0",
          "state": {
            "_dom_classes": [],
            "_model_module": "@jupyter-widgets/controls",
            "_model_module_version": "1.5.0",
            "_model_name": "HTMLModel",
            "_view_count": null,
            "_view_module": "@jupyter-widgets/controls",
            "_view_module_version": "1.5.0",
            "_view_name": "HTMLView",
            "description": "",
            "description_tooltip": null,
            "layout": "IPY_MODEL_4dc6121c18b24f0ba30381960f8622c9",
            "placeholder": "​",
            "style": "IPY_MODEL_4c55b591a46c40a8833971d8a07dec64",
            "value": "Validation loss = 0.00126: 100%"
          }
        },
        "c0a6478aedd0442e9aa5f927b3e6c4d5": {
          "model_module": "@jupyter-widgets/controls",
          "model_name": "FloatProgressModel",
          "model_module_version": "1.5.0",
          "state": {
            "_dom_classes": [],
            "_model_module": "@jupyter-widgets/controls",
            "_model_module_version": "1.5.0",
            "_model_name": "FloatProgressModel",
            "_view_count": null,
            "_view_module": "@jupyter-widgets/controls",
            "_view_module_version": "1.5.0",
            "_view_name": "ProgressView",
            "bar_style": "success",
            "description": "",
            "description_tooltip": null,
            "layout": "IPY_MODEL_6b993999ace546b3a59ee8dde63924b2",
            "max": 100,
            "min": 0,
            "orientation": "horizontal",
            "style": "IPY_MODEL_6e1adce2f7204ab095d4f032a1722839",
            "value": 100
          }
        },
        "70bdd8f94ad24d618adc154c5cb2b3f8": {
          "model_module": "@jupyter-widgets/controls",
          "model_name": "HTMLModel",
          "model_module_version": "1.5.0",
          "state": {
            "_dom_classes": [],
            "_model_module": "@jupyter-widgets/controls",
            "_model_module_version": "1.5.0",
            "_model_name": "HTMLModel",
            "_view_count": null,
            "_view_module": "@jupyter-widgets/controls",
            "_view_module_version": "1.5.0",
            "_view_name": "HTMLView",
            "description": "",
            "description_tooltip": null,
            "layout": "IPY_MODEL_073a0b47bbcb413daabb607545d5e31a",
            "placeholder": "​",
            "style": "IPY_MODEL_2a0de748174e41529fa57600279b54ec",
            "value": " 100/100 [00:56&lt;00:00,  1.79it/s]"
          }
        },
        "416d2621580e4932a0b951b5485c84b2": {
          "model_module": "@jupyter-widgets/base",
          "model_name": "LayoutModel",
          "model_module_version": "1.2.0",
          "state": {
            "_model_module": "@jupyter-widgets/base",
            "_model_module_version": "1.2.0",
            "_model_name": "LayoutModel",
            "_view_count": null,
            "_view_module": "@jupyter-widgets/base",
            "_view_module_version": "1.2.0",
            "_view_name": "LayoutView",
            "align_content": null,
            "align_items": null,
            "align_self": null,
            "border": null,
            "bottom": null,
            "display": null,
            "flex": null,
            "flex_flow": null,
            "grid_area": null,
            "grid_auto_columns": null,
            "grid_auto_flow": null,
            "grid_auto_rows": null,
            "grid_column": null,
            "grid_gap": null,
            "grid_row": null,
            "grid_template_areas": null,
            "grid_template_columns": null,
            "grid_template_rows": null,
            "height": null,
            "justify_content": null,
            "justify_items": null,
            "left": null,
            "margin": null,
            "max_height": null,
            "max_width": null,
            "min_height": null,
            "min_width": null,
            "object_fit": null,
            "object_position": null,
            "order": null,
            "overflow": null,
            "overflow_x": null,
            "overflow_y": null,
            "padding": null,
            "right": null,
            "top": null,
            "visibility": null,
            "width": null
          }
        },
        "4dc6121c18b24f0ba30381960f8622c9": {
          "model_module": "@jupyter-widgets/base",
          "model_name": "LayoutModel",
          "model_module_version": "1.2.0",
          "state": {
            "_model_module": "@jupyter-widgets/base",
            "_model_module_version": "1.2.0",
            "_model_name": "LayoutModel",
            "_view_count": null,
            "_view_module": "@jupyter-widgets/base",
            "_view_module_version": "1.2.0",
            "_view_name": "LayoutView",
            "align_content": null,
            "align_items": null,
            "align_self": null,
            "border": null,
            "bottom": null,
            "display": null,
            "flex": null,
            "flex_flow": null,
            "grid_area": null,
            "grid_auto_columns": null,
            "grid_auto_flow": null,
            "grid_auto_rows": null,
            "grid_column": null,
            "grid_gap": null,
            "grid_row": null,
            "grid_template_areas": null,
            "grid_template_columns": null,
            "grid_template_rows": null,
            "height": null,
            "justify_content": null,
            "justify_items": null,
            "left": null,
            "margin": null,
            "max_height": null,
            "max_width": null,
            "min_height": null,
            "min_width": null,
            "object_fit": null,
            "object_position": null,
            "order": null,
            "overflow": null,
            "overflow_x": null,
            "overflow_y": null,
            "padding": null,
            "right": null,
            "top": null,
            "visibility": null,
            "width": null
          }
        },
        "4c55b591a46c40a8833971d8a07dec64": {
          "model_module": "@jupyter-widgets/controls",
          "model_name": "DescriptionStyleModel",
          "model_module_version": "1.5.0",
          "state": {
            "_model_module": "@jupyter-widgets/controls",
            "_model_module_version": "1.5.0",
            "_model_name": "DescriptionStyleModel",
            "_view_count": null,
            "_view_module": "@jupyter-widgets/base",
            "_view_module_version": "1.2.0",
            "_view_name": "StyleView",
            "description_width": ""
          }
        },
        "6b993999ace546b3a59ee8dde63924b2": {
          "model_module": "@jupyter-widgets/base",
          "model_name": "LayoutModel",
          "model_module_version": "1.2.0",
          "state": {
            "_model_module": "@jupyter-widgets/base",
            "_model_module_version": "1.2.0",
            "_model_name": "LayoutModel",
            "_view_count": null,
            "_view_module": "@jupyter-widgets/base",
            "_view_module_version": "1.2.0",
            "_view_name": "LayoutView",
            "align_content": null,
            "align_items": null,
            "align_self": null,
            "border": null,
            "bottom": null,
            "display": null,
            "flex": null,
            "flex_flow": null,
            "grid_area": null,
            "grid_auto_columns": null,
            "grid_auto_flow": null,
            "grid_auto_rows": null,
            "grid_column": null,
            "grid_gap": null,
            "grid_row": null,
            "grid_template_areas": null,
            "grid_template_columns": null,
            "grid_template_rows": null,
            "height": null,
            "justify_content": null,
            "justify_items": null,
            "left": null,
            "margin": null,
            "max_height": null,
            "max_width": null,
            "min_height": null,
            "min_width": null,
            "object_fit": null,
            "object_position": null,
            "order": null,
            "overflow": null,
            "overflow_x": null,
            "overflow_y": null,
            "padding": null,
            "right": null,
            "top": null,
            "visibility": null,
            "width": null
          }
        },
        "6e1adce2f7204ab095d4f032a1722839": {
          "model_module": "@jupyter-widgets/controls",
          "model_name": "ProgressStyleModel",
          "model_module_version": "1.5.0",
          "state": {
            "_model_module": "@jupyter-widgets/controls",
            "_model_module_version": "1.5.0",
            "_model_name": "ProgressStyleModel",
            "_view_count": null,
            "_view_module": "@jupyter-widgets/base",
            "_view_module_version": "1.2.0",
            "_view_name": "StyleView",
            "bar_color": null,
            "description_width": ""
          }
        },
        "073a0b47bbcb413daabb607545d5e31a": {
          "model_module": "@jupyter-widgets/base",
          "model_name": "LayoutModel",
          "model_module_version": "1.2.0",
          "state": {
            "_model_module": "@jupyter-widgets/base",
            "_model_module_version": "1.2.0",
            "_model_name": "LayoutModel",
            "_view_count": null,
            "_view_module": "@jupyter-widgets/base",
            "_view_module_version": "1.2.0",
            "_view_name": "LayoutView",
            "align_content": null,
            "align_items": null,
            "align_self": null,
            "border": null,
            "bottom": null,
            "display": null,
            "flex": null,
            "flex_flow": null,
            "grid_area": null,
            "grid_auto_columns": null,
            "grid_auto_flow": null,
            "grid_auto_rows": null,
            "grid_column": null,
            "grid_gap": null,
            "grid_row": null,
            "grid_template_areas": null,
            "grid_template_columns": null,
            "grid_template_rows": null,
            "height": null,
            "justify_content": null,
            "justify_items": null,
            "left": null,
            "margin": null,
            "max_height": null,
            "max_width": null,
            "min_height": null,
            "min_width": null,
            "object_fit": null,
            "object_position": null,
            "order": null,
            "overflow": null,
            "overflow_x": null,
            "overflow_y": null,
            "padding": null,
            "right": null,
            "top": null,
            "visibility": null,
            "width": null
          }
        },
        "2a0de748174e41529fa57600279b54ec": {
          "model_module": "@jupyter-widgets/controls",
          "model_name": "DescriptionStyleModel",
          "model_module_version": "1.5.0",
          "state": {
            "_model_module": "@jupyter-widgets/controls",
            "_model_module_version": "1.5.0",
            "_model_name": "DescriptionStyleModel",
            "_view_count": null,
            "_view_module": "@jupyter-widgets/base",
            "_view_module_version": "1.2.0",
            "_view_name": "StyleView",
            "description_width": ""
          }
        },
        "beed3ca936ac400f99cbb46fdeaf7bc8": {
          "model_module": "@jupyter-widgets/controls",
          "model_name": "HBoxModel",
          "model_module_version": "1.5.0",
          "state": {
            "_dom_classes": [],
            "_model_module": "@jupyter-widgets/controls",
            "_model_module_version": "1.5.0",
            "_model_name": "HBoxModel",
            "_view_count": null,
            "_view_module": "@jupyter-widgets/controls",
            "_view_module_version": "1.5.0",
            "_view_name": "HBoxView",
            "box_style": "",
            "children": [
              "IPY_MODEL_ec92a54d32ce409f93b7537a4ebee5d9",
              "IPY_MODEL_076d06651ace41a696fa09b9a4927a08",
              "IPY_MODEL_40fdec76b258467da1b7ac517122d17f"
            ],
            "layout": "IPY_MODEL_ec4fcaac72ad4871963a8b68d09a404d"
          }
        },
        "ec92a54d32ce409f93b7537a4ebee5d9": {
          "model_module": "@jupyter-widgets/controls",
          "model_name": "HTMLModel",
          "model_module_version": "1.5.0",
          "state": {
            "_dom_classes": [],
            "_model_module": "@jupyter-widgets/controls",
            "_model_module_version": "1.5.0",
            "_model_name": "HTMLModel",
            "_view_count": null,
            "_view_module": "@jupyter-widgets/controls",
            "_view_module_version": "1.5.0",
            "_view_name": "HTMLView",
            "description": "",
            "description_tooltip": null,
            "layout": "IPY_MODEL_d63e3b324faa48bcbfb6af8fa0c089c0",
            "placeholder": "​",
            "style": "IPY_MODEL_2160944d9b984a96a7866a31e84f63f4",
            "value": "Validation loss = 0.00086: 100%"
          }
        },
        "076d06651ace41a696fa09b9a4927a08": {
          "model_module": "@jupyter-widgets/controls",
          "model_name": "FloatProgressModel",
          "model_module_version": "1.5.0",
          "state": {
            "_dom_classes": [],
            "_model_module": "@jupyter-widgets/controls",
            "_model_module_version": "1.5.0",
            "_model_name": "FloatProgressModel",
            "_view_count": null,
            "_view_module": "@jupyter-widgets/controls",
            "_view_module_version": "1.5.0",
            "_view_name": "ProgressView",
            "bar_style": "success",
            "description": "",
            "description_tooltip": null,
            "layout": "IPY_MODEL_26d70480ef504eb1a7be57c0936ca143",
            "max": 100,
            "min": 0,
            "orientation": "horizontal",
            "style": "IPY_MODEL_0751d23a67cb49f1b5ea81ec0bb484e6",
            "value": 100
          }
        },
        "40fdec76b258467da1b7ac517122d17f": {
          "model_module": "@jupyter-widgets/controls",
          "model_name": "HTMLModel",
          "model_module_version": "1.5.0",
          "state": {
            "_dom_classes": [],
            "_model_module": "@jupyter-widgets/controls",
            "_model_module_version": "1.5.0",
            "_model_name": "HTMLModel",
            "_view_count": null,
            "_view_module": "@jupyter-widgets/controls",
            "_view_module_version": "1.5.0",
            "_view_name": "HTMLView",
            "description": "",
            "description_tooltip": null,
            "layout": "IPY_MODEL_643833301bb84451ab4d4a14c9a2d555",
            "placeholder": "​",
            "style": "IPY_MODEL_b26b4523df5844e5b706c2a048a2f838",
            "value": " 100/100 [00:38&lt;00:00,  2.71it/s]"
          }
        },
        "ec4fcaac72ad4871963a8b68d09a404d": {
          "model_module": "@jupyter-widgets/base",
          "model_name": "LayoutModel",
          "model_module_version": "1.2.0",
          "state": {
            "_model_module": "@jupyter-widgets/base",
            "_model_module_version": "1.2.0",
            "_model_name": "LayoutModel",
            "_view_count": null,
            "_view_module": "@jupyter-widgets/base",
            "_view_module_version": "1.2.0",
            "_view_name": "LayoutView",
            "align_content": null,
            "align_items": null,
            "align_self": null,
            "border": null,
            "bottom": null,
            "display": null,
            "flex": null,
            "flex_flow": null,
            "grid_area": null,
            "grid_auto_columns": null,
            "grid_auto_flow": null,
            "grid_auto_rows": null,
            "grid_column": null,
            "grid_gap": null,
            "grid_row": null,
            "grid_template_areas": null,
            "grid_template_columns": null,
            "grid_template_rows": null,
            "height": null,
            "justify_content": null,
            "justify_items": null,
            "left": null,
            "margin": null,
            "max_height": null,
            "max_width": null,
            "min_height": null,
            "min_width": null,
            "object_fit": null,
            "object_position": null,
            "order": null,
            "overflow": null,
            "overflow_x": null,
            "overflow_y": null,
            "padding": null,
            "right": null,
            "top": null,
            "visibility": null,
            "width": null
          }
        },
        "d63e3b324faa48bcbfb6af8fa0c089c0": {
          "model_module": "@jupyter-widgets/base",
          "model_name": "LayoutModel",
          "model_module_version": "1.2.0",
          "state": {
            "_model_module": "@jupyter-widgets/base",
            "_model_module_version": "1.2.0",
            "_model_name": "LayoutModel",
            "_view_count": null,
            "_view_module": "@jupyter-widgets/base",
            "_view_module_version": "1.2.0",
            "_view_name": "LayoutView",
            "align_content": null,
            "align_items": null,
            "align_self": null,
            "border": null,
            "bottom": null,
            "display": null,
            "flex": null,
            "flex_flow": null,
            "grid_area": null,
            "grid_auto_columns": null,
            "grid_auto_flow": null,
            "grid_auto_rows": null,
            "grid_column": null,
            "grid_gap": null,
            "grid_row": null,
            "grid_template_areas": null,
            "grid_template_columns": null,
            "grid_template_rows": null,
            "height": null,
            "justify_content": null,
            "justify_items": null,
            "left": null,
            "margin": null,
            "max_height": null,
            "max_width": null,
            "min_height": null,
            "min_width": null,
            "object_fit": null,
            "object_position": null,
            "order": null,
            "overflow": null,
            "overflow_x": null,
            "overflow_y": null,
            "padding": null,
            "right": null,
            "top": null,
            "visibility": null,
            "width": null
          }
        },
        "2160944d9b984a96a7866a31e84f63f4": {
          "model_module": "@jupyter-widgets/controls",
          "model_name": "DescriptionStyleModel",
          "model_module_version": "1.5.0",
          "state": {
            "_model_module": "@jupyter-widgets/controls",
            "_model_module_version": "1.5.0",
            "_model_name": "DescriptionStyleModel",
            "_view_count": null,
            "_view_module": "@jupyter-widgets/base",
            "_view_module_version": "1.2.0",
            "_view_name": "StyleView",
            "description_width": ""
          }
        },
        "26d70480ef504eb1a7be57c0936ca143": {
          "model_module": "@jupyter-widgets/base",
          "model_name": "LayoutModel",
          "model_module_version": "1.2.0",
          "state": {
            "_model_module": "@jupyter-widgets/base",
            "_model_module_version": "1.2.0",
            "_model_name": "LayoutModel",
            "_view_count": null,
            "_view_module": "@jupyter-widgets/base",
            "_view_module_version": "1.2.0",
            "_view_name": "LayoutView",
            "align_content": null,
            "align_items": null,
            "align_self": null,
            "border": null,
            "bottom": null,
            "display": null,
            "flex": null,
            "flex_flow": null,
            "grid_area": null,
            "grid_auto_columns": null,
            "grid_auto_flow": null,
            "grid_auto_rows": null,
            "grid_column": null,
            "grid_gap": null,
            "grid_row": null,
            "grid_template_areas": null,
            "grid_template_columns": null,
            "grid_template_rows": null,
            "height": null,
            "justify_content": null,
            "justify_items": null,
            "left": null,
            "margin": null,
            "max_height": null,
            "max_width": null,
            "min_height": null,
            "min_width": null,
            "object_fit": null,
            "object_position": null,
            "order": null,
            "overflow": null,
            "overflow_x": null,
            "overflow_y": null,
            "padding": null,
            "right": null,
            "top": null,
            "visibility": null,
            "width": null
          }
        },
        "0751d23a67cb49f1b5ea81ec0bb484e6": {
          "model_module": "@jupyter-widgets/controls",
          "model_name": "ProgressStyleModel",
          "model_module_version": "1.5.0",
          "state": {
            "_model_module": "@jupyter-widgets/controls",
            "_model_module_version": "1.5.0",
            "_model_name": "ProgressStyleModel",
            "_view_count": null,
            "_view_module": "@jupyter-widgets/base",
            "_view_module_version": "1.2.0",
            "_view_name": "StyleView",
            "bar_color": null,
            "description_width": ""
          }
        },
        "643833301bb84451ab4d4a14c9a2d555": {
          "model_module": "@jupyter-widgets/base",
          "model_name": "LayoutModel",
          "model_module_version": "1.2.0",
          "state": {
            "_model_module": "@jupyter-widgets/base",
            "_model_module_version": "1.2.0",
            "_model_name": "LayoutModel",
            "_view_count": null,
            "_view_module": "@jupyter-widgets/base",
            "_view_module_version": "1.2.0",
            "_view_name": "LayoutView",
            "align_content": null,
            "align_items": null,
            "align_self": null,
            "border": null,
            "bottom": null,
            "display": null,
            "flex": null,
            "flex_flow": null,
            "grid_area": null,
            "grid_auto_columns": null,
            "grid_auto_flow": null,
            "grid_auto_rows": null,
            "grid_column": null,
            "grid_gap": null,
            "grid_row": null,
            "grid_template_areas": null,
            "grid_template_columns": null,
            "grid_template_rows": null,
            "height": null,
            "justify_content": null,
            "justify_items": null,
            "left": null,
            "margin": null,
            "max_height": null,
            "max_width": null,
            "min_height": null,
            "min_width": null,
            "object_fit": null,
            "object_position": null,
            "order": null,
            "overflow": null,
            "overflow_x": null,
            "overflow_y": null,
            "padding": null,
            "right": null,
            "top": null,
            "visibility": null,
            "width": null
          }
        },
        "b26b4523df5844e5b706c2a048a2f838": {
          "model_module": "@jupyter-widgets/controls",
          "model_name": "DescriptionStyleModel",
          "model_module_version": "1.5.0",
          "state": {
            "_model_module": "@jupyter-widgets/controls",
            "_model_module_version": "1.5.0",
            "_model_name": "DescriptionStyleModel",
            "_view_count": null,
            "_view_module": "@jupyter-widgets/base",
            "_view_module_version": "1.2.0",
            "_view_name": "StyleView",
            "description_width": ""
          }
        }
      }
    }
  },
  "cells": [
    {
      "cell_type": "markdown",
      "metadata": {
        "id": "view-in-github",
        "colab_type": "text"
      },
      "source": [
        "<a href=\"https://colab.research.google.com/github/alexshtf/alexshtf.github.io/blob/master/assets/polyhedral_constraints.ipynb\" target=\"_parent\"><img src=\"https://colab.research.google.com/assets/colab-badge.svg\" alt=\"Open In Colab\"/></a>"
      ]
    },
    {
      "cell_type": "code",
      "source": [
        "%pip install batch-iter pycddlib-standalone"
      ],
      "metadata": {
        "colab": {
          "base_uri": "https://localhost:8080/"
        },
        "id": "U454v-svPSD_",
        "outputId": "e093bc5e-cd17-411e-a9fc-65e8f921bd95"
      },
      "execution_count": null,
      "outputs": [
        {
          "output_type": "stream",
          "name": "stdout",
          "text": [
            "Requirement already satisfied: batch-iter in /usr/local/lib/python3.10/dist-packages (0.1)\n",
            "Requirement already satisfied: pycddlib-standalone in /usr/local/lib/python3.10/dist-packages (3.0.0)\n",
            "Requirement already satisfied: torch>=2.1.0 in /usr/local/lib/python3.10/dist-packages (from batch-iter) (2.5.0+cu121)\n",
            "Requirement already satisfied: filelock in /usr/local/lib/python3.10/dist-packages (from torch>=2.1.0->batch-iter) (3.16.1)\n",
            "Requirement already satisfied: typing-extensions>=4.8.0 in /usr/local/lib/python3.10/dist-packages (from torch>=2.1.0->batch-iter) (4.12.2)\n",
            "Requirement already satisfied: networkx in /usr/local/lib/python3.10/dist-packages (from torch>=2.1.0->batch-iter) (3.4.2)\n",
            "Requirement already satisfied: jinja2 in /usr/local/lib/python3.10/dist-packages (from torch>=2.1.0->batch-iter) (3.1.4)\n",
            "Requirement already satisfied: fsspec in /usr/local/lib/python3.10/dist-packages (from torch>=2.1.0->batch-iter) (2024.10.0)\n",
            "Requirement already satisfied: sympy==1.13.1 in /usr/local/lib/python3.10/dist-packages (from torch>=2.1.0->batch-iter) (1.13.1)\n",
            "Requirement already satisfied: mpmath<1.4,>=1.1.0 in /usr/local/lib/python3.10/dist-packages (from sympy==1.13.1->torch>=2.1.0->batch-iter) (1.3.0)\n",
            "Requirement already satisfied: MarkupSafe>=2.0 in /usr/local/lib/python3.10/dist-packages (from jinja2->torch>=2.1.0->batch-iter) (3.0.2)\n"
          ]
        }
      ]
    },
    {
      "cell_type": "markdown",
      "source": [
        "# Framework for polyhedral cone layers"
      ],
      "metadata": {
        "id": "7qPDUOpIZWJS"
      }
    },
    {
      "cell_type": "code",
      "source": [
        "import torch\n",
        "from torch import nn\n",
        "\n",
        "class MaskedActivation(nn.Module):\n",
        "  def __init__(self, mask=None, activation=nn.ReLU):\n",
        "    \"\"\"\n",
        "    Applies activation to (potentially) a subset of the input components.\n",
        "    Args:\n",
        "      mask: The mask of coordinates to which we should NOT apply the activation.\n",
        "        `None` means applying the activation to all components. It is assumed\n",
        "        that `mask` is a 1D tensor, that applies to the last dimension of the input\n",
        "      activation: The activation to apply.\n",
        "    \"\"\"\n",
        "    super().__init__()\n",
        "    self.activation = activation()\n",
        "    self.register_buffer('mask', mask)\n",
        "\n",
        "  def forward(self, x):\n",
        "    if self.mask is None:\n",
        "      return self.activation(x)\n",
        "    else:\n",
        "      activated = self.activation(x[..., ~self.mask])\n",
        "      result = x.masked_scatter(~self.mask, activated)\n",
        "      return result"
      ],
      "metadata": {
        "id": "oG0okqXLV3pq"
      },
      "execution_count": null,
      "outputs": []
    },
    {
      "cell_type": "code",
      "source": [
        "activation = MaskedActivation(mask=torch.tensor([False, False, False, False, True, True]))\n",
        "activation(torch.tensor([1., 2, -3, -4, -5, -6]))"
      ],
      "metadata": {
        "colab": {
          "base_uri": "https://localhost:8080/"
        },
        "id": "i1xzsRbKCcEG",
        "outputId": "f9da5168-2141-43ad-f3c4-253eb94603fb"
      },
      "execution_count": null,
      "outputs": [
        {
          "output_type": "execute_result",
          "data": {
            "text/plain": [
              "tensor([ 1.,  2.,  0.,  0., -5., -6.])"
            ]
          },
          "metadata": {},
          "execution_count": 47
        }
      ]
    },
    {
      "cell_type": "code",
      "source": [
        "def frozen_linear(weights):\n",
        "  in_dim, out_dim = weights.shape\n",
        "  layer = nn.Linear(in_dim, out_dim, bias=False)\n",
        "  layer.weight = nn.Parameter(weights, requires_grad=False)\n",
        "  return layer"
      ],
      "metadata": {
        "id": "BCG0lf5sWg23"
      },
      "execution_count": null,
      "outputs": []
    },
    {
      "cell_type": "code",
      "source": [
        "def polyhedral_cone_module(generators, linear_mask=None, nonneg_activation=nn.ReLU):\n",
        "  generators = generators / torch.linalg.vector_norm(generators, dim=0, keepdim=True)\n",
        "  return nn.Sequential(\n",
        "  \tMaskedActivation(linear_mask, nonneg_activation),\n",
        "    frozen_linear(generators)\n",
        "  )"
      ],
      "metadata": {
        "id": "HAL_enyjZQaj"
      },
      "execution_count": null,
      "outputs": []
    },
    {
      "cell_type": "markdown",
      "source": [
        "# Nondecreasing polyheral activation"
      ],
      "metadata": {
        "id": "TIusjbagZaAL"
      }
    },
    {
      "cell_type": "code",
      "source": [
        "def nondecreasing_module(n):\n",
        "  generators = torch.tril(torch.ones(n, n)) # the matrix of ones under the diagonal\n",
        "  linear_mask = torch.zeros(n, dtype=bool)\n",
        "  linear_mask[0] = True\n",
        "  return polyhedral_cone_module(generators, linear_mask)"
      ],
      "metadata": {
        "id": "nRwoDJ8cXEQQ"
      },
      "execution_count": null,
      "outputs": []
    },
    {
      "cell_type": "code",
      "source": [
        "n = 8\n",
        "mod = nondecreasing_module(n)\n",
        "\n",
        "torch.manual_seed(42)\n",
        "print(mod(torch.randn(n)))\n",
        "print(mod(torch.randn(n)))\n",
        "print(mod(torch.randn(n)))"
      ],
      "metadata": {
        "colab": {
          "base_uri": "https://localhost:8080/"
        },
        "id": "kJbHdM99X7OH",
        "outputId": "344e2380-79c6-4c84-d8f6-002636bd636c"
      },
      "execution_count": null,
      "outputs": [
        {
          "output_type": "stream",
          "name": "stdout",
          "text": [
            "tensor([0.1190, 0.1677, 0.2634, 0.3665, 0.3665, 0.3665, 1.9279, 1.9279])\n",
            "tensor([0.1632, 0.2643, 0.4826, 0.8446, 1.3997, 1.3997, 1.3997, 2.3577])\n",
            "tensor([0.4674, 0.7763, 0.7763, 0.7763, 1.4526, 1.8488, 1.8488, 2.6438])\n"
          ]
        }
      ]
    },
    {
      "cell_type": "code",
      "source": [
        "import numpy as np\n",
        "import cdd\n",
        "\n",
        "def make_cdd_cone(A):\n",
        "  \"\"\"Creates a libcdd polyhedral cone given the matrix describing the inequalities A x ≥ 0. \"\"\"\n",
        "  # define the RHS of the inequalities. In our case - everything is ≥ 0\n",
        "  b = np.zeros((A.shape[0], 1))\n",
        "\n",
        "  # the library operates assuming we describe inequalities in the form:\n",
        "  #    b + A x ≥ 0\n",
        "  # and expects b and A to be concatenated into one big matrix.\n",
        "  Ab = np.hstack([b, A])\n",
        "\n",
        "  # create and print the polyhedral cone object\n",
        "  mat = cdd.matrix_from_array(Ab, rep_type=cdd.RepType.INEQUALITY)\n",
        "  poly = cdd.polyhedron_from_matrix(mat)\n",
        "  return poly\n",
        "\n",
        "# polyhedral cone for non-decreasing sequences:\n",
        "cone = make_cdd_cone(np.array(\n",
        "    [[-1,  1,  0,  0,  0,  0,  0,  0],\n",
        "     [ 0, -1,  1,  0,  0,  0,  0,  0],\n",
        "     [ 0,  0, -1,  1,  0,  0,  0,  0],\n",
        "     [ 0,  0,  0, -1,  1,  0,  0,  0],\n",
        "     [ 0,  0,  0,  0, -1,  1,  0,  0],\n",
        "     [ 0,  0,  0,  0,  0, -1,  1,  0],\n",
        "     [ 0,  0,  0,  0,  0,  0, -1,  1]]))\n",
        "print(cone)"
      ],
      "metadata": {
        "colab": {
          "base_uri": "https://localhost:8080/"
        },
        "id": "qN2Ek2H7pRXz",
        "outputId": "fe301d14-a566-465c-8cff-9714c71ec849"
      },
      "execution_count": null,
      "outputs": [
        {
          "output_type": "stream",
          "name": "stdout",
          "text": [
            "begin\n",
            " 7 9 real\n",
            "  0 -1  1  0  0  0  0  0  0\n",
            "  0  0 -1  1  0  0  0  0  0\n",
            "  0  0  0 -1  1  0  0  0  0\n",
            "  0  0  0  0 -1  1  0  0  0\n",
            "  0  0  0  0  0 -1  1  0  0\n",
            "  0  0  0  0  0  0 -1  1  0\n",
            "  0  0  0  0  0  0  0 -1  1\n",
            "end\n"
          ]
        }
      ]
    },
    {
      "cell_type": "code",
      "source": [
        "generators = cdd.copy_generators(cone)\n",
        "print(generators)"
      ],
      "metadata": {
        "colab": {
          "base_uri": "https://localhost:8080/"
        },
        "id": "hRR6LoOsrYbi",
        "outputId": "5bf0b506-32a4-4aeb-8ff6-c0f5b0f4cf8d"
      },
      "execution_count": null,
      "outputs": [
        {
          "output_type": "stream",
          "name": "stdout",
          "text": [
            "V-representation\n",
            "linearity 1  8\n",
            "begin\n",
            " 8 9 real\n",
            "  0 -1  0  0  0  0  0  0  0\n",
            "  0 -1 -1  0  0  0  0  0  0\n",
            "  0 -1 -1 -1  0  0  0  0  0\n",
            "  0 -1 -1 -1 -1  0  0  0  0\n",
            "  0 -1 -1 -1 -1 -1  0  0  0\n",
            "  0 -1 -1 -1 -1 -1 -1  0  0\n",
            "  0 -1 -1 -1 -1 -1 -1 -1  0\n",
            "  0  1  1  1  1  1  1  1  1\n",
            "end\n"
          ]
        }
      ]
    },
    {
      "cell_type": "code",
      "source": [
        "def print_generators(cone):\n",
        "  generators = cdd.copy_generators(cone)\n",
        "  print('Linear generators: ', generators.lin_set)\n",
        "  print('Generator matrix: ')\n",
        "  gen_mat = np.array(generators.array)\n",
        "  gen_mat = gen_mat[:, 1:] # discard the first column of zeros\n",
        "  gen_mat = gen_mat.T\n",
        "  print(gen_mat)\n",
        "\n",
        "print_generators(cone)"
      ],
      "metadata": {
        "colab": {
          "base_uri": "https://localhost:8080/"
        },
        "id": "TJLMI0sK8UzB",
        "outputId": "72e61e50-4e83-442e-a899-f7ffe444b56f"
      },
      "execution_count": null,
      "outputs": [
        {
          "output_type": "stream",
          "name": "stdout",
          "text": [
            "Linear generators:  {7}\n",
            "Generator matrix: \n",
            "[[-1. -1. -1. -1. -1. -1. -1.  1.]\n",
            " [ 0. -1. -1. -1. -1. -1. -1.  1.]\n",
            " [ 0.  0. -1. -1. -1. -1. -1.  1.]\n",
            " [ 0.  0.  0. -1. -1. -1. -1.  1.]\n",
            " [ 0.  0.  0.  0. -1. -1. -1.  1.]\n",
            " [ 0.  0.  0.  0.  0. -1. -1.  1.]\n",
            " [ 0.  0.  0.  0.  0.  0. -1.  1.]\n",
            " [ 0.  0.  0.  0.  0.  0.  0.  1.]]\n"
          ]
        }
      ]
    },
    {
      "cell_type": "markdown",
      "source": [
        "# Nonincreasing polyhedral activation"
      ],
      "metadata": {
        "id": "7OPDS-U_3-97"
      }
    },
    {
      "cell_type": "code",
      "source": [
        "# print generators for non-increasing sequences\n",
        "# note - the matrix is exactly the negated matrix of non-decreasing sequences\n",
        "# we used above.\n",
        "cone = print_generators(make_cdd_cone(np.array(\n",
        "    [[1,  -1,  0,  0,  0,  0,  0,  0],\n",
        "     [ 0, 1,  -1,  0,  0,  0,  0,  0],\n",
        "     [ 0,  0, 1,  -1,  0,  0,  0,  0],\n",
        "     [ 0,  0,  0, 1,  -1,  0,  0,  0],\n",
        "     [ 0,  0,  0,  0, 1,  -1,  0,  0],\n",
        "     [ 0,  0,  0,  0,  0, 1,  -1,  0],\n",
        "     [ 0,  0,  0,  0,  0,  0, 1,  -1]])))"
      ],
      "metadata": {
        "colab": {
          "base_uri": "https://localhost:8080/"
        },
        "id": "i8FwaeemKAEd",
        "outputId": "8d3de225-d999-4a69-80da-94d300b5c6fb"
      },
      "execution_count": null,
      "outputs": [
        {
          "output_type": "stream",
          "name": "stdout",
          "text": [
            "Linear generators:  {7}\n",
            "Generator matrix: \n",
            "[[1. 1. 1. 1. 1. 1. 1. 1.]\n",
            " [0. 1. 1. 1. 1. 1. 1. 1.]\n",
            " [0. 0. 1. 1. 1. 1. 1. 1.]\n",
            " [0. 0. 0. 1. 1. 1. 1. 1.]\n",
            " [0. 0. 0. 0. 1. 1. 1. 1.]\n",
            " [0. 0. 0. 0. 0. 1. 1. 1.]\n",
            " [0. 0. 0. 0. 0. 0. 1. 1.]\n",
            " [0. 0. 0. 0. 0. 0. 0. 1.]]\n"
          ]
        }
      ]
    },
    {
      "cell_type": "code",
      "source": [
        "def nonincreasing_module(n):\n",
        "  generators = torch.triu(torch.ones(n, n))\n",
        "\n",
        "  linear_mask = torch.zeros(n, dtype=bool)\n",
        "  linear_mask[n-1] = True # the last generator is linear\n",
        "\n",
        "  return polyhedral_cone_module(generators, linear_mask)"
      ],
      "metadata": {
        "id": "DZZE26-tP4Ow"
      },
      "execution_count": null,
      "outputs": []
    },
    {
      "cell_type": "code",
      "source": [
        "n = 8\n",
        "mod = nonincreasing_module(n)\n",
        "\n",
        "torch.manual_seed(42)\n",
        "print(mod(torch.randn(n)))\n",
        "print(mod(torch.randn(n)))\n",
        "print(mod(torch.randn(n)))"
      ],
      "metadata": {
        "colab": {
          "base_uri": "https://localhost:8080/"
        },
        "id": "7vdWrWhCP5eB",
        "outputId": "dca3e97a-e44b-4faa-a720-610b3b9048af"
      },
      "execution_count": null,
      "outputs": [
        {
          "output_type": "stream",
          "name": "stdout",
          "text": [
            "tensor([ 1.2874,  0.9507,  0.8596,  0.7242,  0.6091,  0.6091,  0.6091, -0.2256])\n",
            "tensor([2.1994, 1.7378, 1.5487, 1.2399, 0.8352, 0.3387, 0.3387, 0.3387])\n",
            "tensor([3.0661, 1.7440, 1.1661, 1.1661, 1.1661, 0.5613, 0.2811, 0.2811])\n"
          ]
        }
      ]
    },
    {
      "cell_type": "markdown",
      "source": [
        "# Convex sequences\n",
        "\n"
      ],
      "metadata": {
        "id": "ZqHQUpTx9E9Z"
      }
    },
    {
      "cell_type": "code",
      "source": [
        "# print generators for a convex sequence\n",
        "cone = print_generators(make_cdd_cone(np.array(\n",
        "    [[1,  -2,  1,  0,  0,  0,  0,  0],\n",
        "     [ 0, 1,  -2,  1,  0,  0,  0,  0],\n",
        "     [ 0,  0, 1,  -2,  1,  0,  0,  0],\n",
        "     [ 0,  0,  0, 1,  -2,  1,  0,  0],\n",
        "     [ 0,  0,  0,  0, 1,  -2,  1,  0],\n",
        "     [ 0,  0,  0,  0,  0, 1,  -2,  1]])))"
      ],
      "metadata": {
        "colab": {
          "base_uri": "https://localhost:8080/"
        },
        "id": "YbrnNxI_9Dya",
        "outputId": "77c589f4-49f0-4e90-ccf8-7f87833c6f1b"
      },
      "execution_count": null,
      "outputs": [
        {
          "output_type": "stream",
          "name": "stdout",
          "text": [
            "Linear generators:  {6, 7}\n",
            "Generator matrix: \n",
            "[[ 1.  2.  3.  4.  5.  6.  7. -6.]\n",
            " [ 0.  1.  2.  3.  4.  5.  6. -5.]\n",
            " [ 0.  0.  1.  2.  3.  4.  5. -4.]\n",
            " [ 0.  0.  0.  1.  2.  3.  4. -3.]\n",
            " [ 0.  0.  0.  0.  1.  2.  3. -2.]\n",
            " [ 0.  0.  0.  0.  0.  1.  2. -1.]\n",
            " [ 0.  0.  0.  0.  0.  0.  1.  0.]\n",
            " [ 0.  0.  0.  0.  0.  0.  0.  1.]]\n"
          ]
        }
      ]
    },
    {
      "cell_type": "markdown",
      "source": [
        "Convex sequence generator pattern\n",
        "$$\n",
        "\\left(\n",
        "\\begin{array}{ccccc|c}\n",
        "1 & 2 & 3 & \\dots & n - 1 & -(n - 2) \\\\\n",
        "0 & 1 & 2 & \\dots & n - 2 & -(n - 3) \\\\\n",
        "\\vdots & \\ddots & \\ddots & 1 & 2 & -1 \\\\\n",
        "0 & 0 & \\dots & 0 & 1 & 0 \\\\\n",
        "\\hline\n",
        "0 & 0 & \\dots & 0 & 0 & 1\n",
        "\\end{array}\n",
        "\\right)\n",
        "$$\n",
        "The top-left block is a triangular matrix of arithmetic progressions. The top-right block is a column of increasing numbers from $-(n-2)$ up to $0$. The bottom-left block is zeros, and the bottom-right block is a one. Overall, the matrix is a square $n \\times n$ matrix."
      ],
      "metadata": {
        "id": "cTP4geE_9d_v"
      }
    },
    {
      "cell_type": "code",
      "source": [
        "def make_convex_generators(n):\n",
        "  top_left = torch.cumsum(torch.triu(torch.ones((n - 1, n - 1))), dim=1)\n",
        "  top_right = torch.arange(-(n-2), 1).reshape(-1, 1)\n",
        "  top = torch.cat([top_left, top_right], dim=1)\n",
        "\n",
        "  bottom_left = torch.zeros((1, n - 1))\n",
        "  bottom_right = torch.ones((1, 1))\n",
        "  bottom = torch.cat([bottom_left, bottom_right], dim=1)\n",
        "\n",
        "  generators = torch.cat([top, bottom], dim=0)\n",
        "  return generators\n",
        "\n",
        "make_convex_generators(8)"
      ],
      "metadata": {
        "colab": {
          "base_uri": "https://localhost:8080/"
        },
        "id": "jBCcs83S9cXj",
        "outputId": "c77e8494-a7eb-4159-be4b-35dd2c08ef4b"
      },
      "execution_count": null,
      "outputs": [
        {
          "output_type": "execute_result",
          "data": {
            "text/plain": [
              "tensor([[ 1.,  2.,  3.,  4.,  5.,  6.,  7., -6.],\n",
              "        [ 0.,  1.,  2.,  3.,  4.,  5.,  6., -5.],\n",
              "        [ 0.,  0.,  1.,  2.,  3.,  4.,  5., -4.],\n",
              "        [ 0.,  0.,  0.,  1.,  2.,  3.,  4., -3.],\n",
              "        [ 0.,  0.,  0.,  0.,  1.,  2.,  3., -2.],\n",
              "        [ 0.,  0.,  0.,  0.,  0.,  1.,  2., -1.],\n",
              "        [ 0.,  0.,  0.,  0.,  0.,  0.,  1.,  0.],\n",
              "        [ 0.,  0.,  0.,  0.,  0.,  0.,  0.,  1.]])"
            ]
          },
          "metadata": {},
          "execution_count": 59
        }
      ]
    },
    {
      "cell_type": "code",
      "source": [
        "def convex_module(n):\n",
        "  generators = make_convex_generators(n)\n",
        "  linear_mask = torch.zeros(n, dtype=bool)\n",
        "  linear_mask[-2:] = True\n",
        "  return polyhedral_cone_module(generators, linear_mask)"
      ],
      "metadata": {
        "id": "jmI_Nh6mBxCu"
      },
      "execution_count": null,
      "outputs": []
    },
    {
      "cell_type": "code",
      "source": [
        "import matplotlib.pyplot as plt\n",
        "\n",
        "n = 32\n",
        "layer = convex_module(n)\n",
        "\n",
        "torch.manual_seed(56)\n",
        "for i in range(6):\n",
        "  t = torch.randn(n)\n",
        "  plt.plot(layer(t))\n",
        "plt.show()"
      ],
      "metadata": {
        "colab": {
          "base_uri": "https://localhost:8080/",
          "height": 430
        },
        "id": "bybNOGGkCN3s",
        "outputId": "4e4cc5cb-0811-43ed-d0e4-cc90f12d9941"
      },
      "execution_count": null,
      "outputs": [
        {
          "output_type": "display_data",
          "data": {
            "text/plain": [
              "<Figure size 640x480 with 1 Axes>"
            ],
            "image/png": "[encoded data removed]"
          },
          "metadata": {}
        }
      ]
    },
    {
      "cell_type": "code",
      "source": [
        "t = (torch.linspace(-1, 1, n)).square()\n",
        "t[-1] = n / 2\n",
        "t[-2] = -n / 2\n",
        "plt.plot(layer(t))"
      ],
      "metadata": {
        "colab": {
          "base_uri": "https://localhost:8080/",
          "height": 447
        },
        "id": "P5xZ6diAUPR3",
        "outputId": "31cf5325-7e41-467f-d141-277ea8df3092"
      },
      "execution_count": null,
      "outputs": [
        {
          "output_type": "execute_result",
          "data": {
            "text/plain": [
              "[<matplotlib.lines.Line2D at 0x7d997bf9b280>]"
            ]
          },
          "metadata": {},
          "execution_count": 62
        },
        {
          "output_type": "display_data",
          "data": {
            "text/plain": [
              "<Figure size 640x480 with 1 Axes>"
            ],
            "image/png": "[encoded data removed]"
          },
          "metadata": {}
        }
      ]
    },
    {
      "cell_type": "markdown",
      "source": [
        "# Concave sequences"
      ],
      "metadata": {
        "id": "QnlS5mhbNw5h"
      }
    },
    {
      "cell_type": "code",
      "source": [
        "# print generators for a convex sequence\n",
        "cone = print_generators(make_cdd_cone(np.array(\n",
        "    [[-1,  2,  -1,  0,  0,  0,  0,  0],\n",
        "     [ 0, -1,  2,  -1,  0,  0,  0,  0],\n",
        "     [ 0,  0, -1,  2,  -1,  0,  0,  0],\n",
        "     [ 0,  0,  0, -1,  2,  -1,  0,  0],\n",
        "     [ 0,  0,  0,  0, -1,  2,  -1,  0],\n",
        "     [ 0,  0,  0,  0,  0, -1,  2,  -1]])))"
      ],
      "metadata": {
        "colab": {
          "base_uri": "https://localhost:8080/"
        },
        "id": "lWetzG_cNy9t",
        "outputId": "3b81720c-cbab-4e19-8631-41587e9c08a9"
      },
      "execution_count": null,
      "outputs": [
        {
          "output_type": "stream",
          "name": "stdout",
          "text": [
            "Linear generators:  {6, 7}\n",
            "Generator matrix: \n",
            "[[-1. -2. -3. -4. -5. -6.  7. -6.]\n",
            " [ 0. -1. -2. -3. -4. -5.  6. -5.]\n",
            " [ 0.  0. -1. -2. -3. -4.  5. -4.]\n",
            " [ 0.  0.  0. -1. -2. -3.  4. -3.]\n",
            " [ 0.  0.  0.  0. -1. -2.  3. -2.]\n",
            " [ 0.  0.  0.  0.  0. -1.  2. -1.]\n",
            " [ 0.  0.  0.  0.  0.  0.  1.  0.]\n",
            " [ 0.  0.  0.  0.  0.  0.  0.  1.]]\n"
          ]
        }
      ]
    },
    {
      "cell_type": "code",
      "source": [
        "def make_concave_generators(n):\n",
        "  top_left = torch.cumsum(torch.triu(torch.ones((n - 1, n - 1))), dim=1)\n",
        "  top_right = torch.arange(-(n-2), 1).reshape(-1, 1)\n",
        "  top = torch.cat([top_left, top_right], dim=1)\n",
        "\n",
        "  bottom_left = torch.zeros((1, n - 1))\n",
        "  bottom_right = torch.ones((1, 1))\n",
        "  bottom = torch.cat([bottom_left, bottom_right], dim=1)\n",
        "\n",
        "  mat = torch.cat([top, bottom], dim=0)\n",
        "  mat[:n-2, :n-2] *= -1\n",
        "  return mat\n",
        "\n",
        "make_concave_generators(8)"
      ],
      "metadata": {
        "colab": {
          "base_uri": "https://localhost:8080/"
        },
        "id": "voGPixFEOMKy",
        "outputId": "ed407dbf-58e2-4edb-f7ce-69393fe561e7"
      },
      "execution_count": null,
      "outputs": [
        {
          "output_type": "execute_result",
          "data": {
            "text/plain": [
              "tensor([[-1., -2., -3., -4., -5., -6.,  7., -6.],\n",
              "        [-0., -1., -2., -3., -4., -5.,  6., -5.],\n",
              "        [-0., -0., -1., -2., -3., -4.,  5., -4.],\n",
              "        [-0., -0., -0., -1., -2., -3.,  4., -3.],\n",
              "        [-0., -0., -0., -0., -1., -2.,  3., -2.],\n",
              "        [-0., -0., -0., -0., -0., -1.,  2., -1.],\n",
              "        [ 0.,  0.,  0.,  0.,  0.,  0.,  1.,  0.],\n",
              "        [ 0.,  0.,  0.,  0.,  0.,  0.,  0.,  1.]])"
            ]
          },
          "metadata": {},
          "execution_count": 64
        }
      ]
    },
    {
      "cell_type": "code",
      "source": [
        "def concave_module(n):\n",
        "  generators = make_concave_generators(n)\n",
        "  linear_mask = torch.zeros(n, dtype=bool)\n",
        "  linear_mask[-2:] = True\n",
        "  return polyhedral_cone_module(generators, linear_mask)"
      ],
      "metadata": {
        "id": "AQI8nkyGObWO"
      },
      "execution_count": null,
      "outputs": []
    },
    {
      "cell_type": "code",
      "source": [
        "n = 32\n",
        "layer = concave_module(n)\n",
        "\n",
        "torch.manual_seed(42)\n",
        "for i in range(10):\n",
        "  t = torch.randn(n)\n",
        "  plt.plot(layer(t))\n",
        "plt.show()"
      ],
      "metadata": {
        "colab": {
          "base_uri": "https://localhost:8080/",
          "height": 430
        },
        "id": "hWH99W-_OjS2",
        "outputId": "ee4f13b6-ea81-45ac-dc89-d19bf9c71a40"
      },
      "execution_count": null,
      "outputs": [
        {
          "output_type": "display_data",
          "data": {
            "text/plain": [
              "<Figure size 640x480 with 1 Axes>"
            ],
            "image/png": "[encoded data removed]"
          },
          "metadata": {}
        }
      ]
    },
    {
      "cell_type": "markdown",
      "source": [
        "# Concave increasing increasing"
      ],
      "metadata": {
        "id": "Mib-1irFO9gb"
      }
    },
    {
      "cell_type": "code",
      "source": [
        "# print generators for concave non-decreasing sequences\n",
        "print_generators(make_cdd_cone(np.array(\n",
        "    [[-1,  2,  -1,  0,  0,  0,  0,  0],\n",
        "     [ 0, -1,  2,  -1,  0,  0,  0,  0],\n",
        "     [ 0,  0, -1,  2,  -1,  0,  0,  0],\n",
        "     [ 0,  0,  0, -1,  2,  -1,  0,  0],\n",
        "     [ 0,  0,  0,  0, -1,  2,  -1,  0],\n",
        "     [ 0,  0,  0,  0,  0, -1,  2,  -1],\n",
        "     [-1,  1,  0,  0,  0,  0,  0,   0],\n",
        "     [ 0, -1,  1,  0,  0,  0,  0,   0],\n",
        "     [ 0,  0, -1,  1,  0,  0,  0,   0],\n",
        "     [ 0,  0,  0, -1,  1,  0,  0,   0],\n",
        "     [ 0,  0,  0,  0, -1,  1,  0,   0],\n",
        "     [ 0,  0,  0,  0,  0, -1,  1,   0],\n",
        "     [ 0,  0,  0,  0,  0,  0, -1,   1]]\n",
        "    )))"
      ],
      "metadata": {
        "colab": {
          "base_uri": "https://localhost:8080/"
        },
        "id": "cRJzrrBrO80l",
        "outputId": "da58a8db-b0a3-41a1-ba81-a9701670bf92"
      },
      "execution_count": null,
      "outputs": [
        {
          "output_type": "stream",
          "name": "stdout",
          "text": [
            "Linear generators:  {7}\n",
            "Generator matrix: \n",
            "[[-7. -6. -5. -4. -3. -2. -1.  1.]\n",
            " [-6. -5. -4. -3. -2. -1.  0.  1.]\n",
            " [-5. -4. -3. -2. -1.  0.  0.  1.]\n",
            " [-4. -3. -2. -1.  0.  0.  0.  1.]\n",
            " [-3. -2. -1.  0.  0.  0.  0.  1.]\n",
            " [-2. -1.  0.  0.  0.  0.  0.  1.]\n",
            " [-1.  0.  0.  0.  0.  0.  0.  1.]\n",
            " [ 0.  0.  0.  0.  0.  0.  0.  1.]]\n"
          ]
        }
      ]
    },
    {
      "cell_type": "code",
      "source": [
        "def concave_nondecreasing_generators(n):\n",
        "  generators = -torch.ones(n, n).triu(1).cumsum(dim=1).fliplr()\n",
        "  generators[:, -1] = torch.ones(n)\n",
        "  return generators\n",
        "\n",
        "concave_nondecreasing_generators(8)"
      ],
      "metadata": {
        "colab": {
          "base_uri": "https://localhost:8080/"
        },
        "id": "h9ZPlOZnQ1Up",
        "outputId": "a6fafaa4-1cc4-48ff-e6bf-17270a761531"
      },
      "execution_count": null,
      "outputs": [
        {
          "output_type": "execute_result",
          "data": {
            "text/plain": [
              "tensor([[-7., -6., -5., -4., -3., -2., -1.,  1.],\n",
              "        [-6., -5., -4., -3., -2., -1., -0.,  1.],\n",
              "        [-5., -4., -3., -2., -1., -0., -0.,  1.],\n",
              "        [-4., -3., -2., -1., -0., -0., -0.,  1.],\n",
              "        [-3., -2., -1., -0., -0., -0., -0.,  1.],\n",
              "        [-2., -1., -0., -0., -0., -0., -0.,  1.],\n",
              "        [-1., -0., -0., -0., -0., -0., -0.,  1.],\n",
              "        [-0., -0., -0., -0., -0., -0., -0.,  1.]])"
            ]
          },
          "metadata": {},
          "execution_count": 68
        }
      ]
    },
    {
      "cell_type": "code",
      "source": [
        "def concave_nondecreasing_cone_module(n):\n",
        "  generators = concave_nondecreasing_generators(n)\n",
        "  linear_mask = torch.zeros(n, dtype=bool)\n",
        "  linear_mask[-1] = True\n",
        "  return polyhedral_cone_module(generators, linear_mask)"
      ],
      "metadata": {
        "id": "cqw21TW0Scn9"
      },
      "execution_count": null,
      "outputs": []
    },
    {
      "cell_type": "code",
      "source": [
        "n = 32\n",
        "layer = concave_nondecreasing_cone_module(n)\n",
        "\n",
        "torch.manual_seed(42)\n",
        "for i in range(10):\n",
        "  t = torch.randn(n)\n",
        "  plt.plot(layer(t))\n",
        "plt.show()"
      ],
      "metadata": {
        "colab": {
          "base_uri": "https://localhost:8080/",
          "height": 430
        },
        "id": "qWeBeWq6Sgvx",
        "outputId": "a608c2b0-0ee5-4b99-8215-da1984343110"
      },
      "execution_count": null,
      "outputs": [
        {
          "output_type": "display_data",
          "data": {
            "text/plain": [
              "<Figure size 640x480 with 1 Axes>"
            ],
            "image/png": "[encoded data removed]"
          },
          "metadata": {}
        }
      ]
    },
    {
      "cell_type": "markdown",
      "source": [
        "# Bernstein shape-constrained module"
      ],
      "metadata": {
        "id": "WOKV_2FXGLbT"
      }
    },
    {
      "cell_type": "code",
      "source": [
        "def log_binom_coef(n: torch.Tensor, k: torch.Tensor):\n",
        "  return (\n",
        "      torch.lgamma(n + 1)\n",
        "      - torch.lgamma(k + 1)\n",
        "      - torch.lgamma(n - k + 1)\n",
        "  )"
      ],
      "metadata": {
        "id": "Oaaq9C11qxsl"
      },
      "execution_count": null,
      "outputs": []
    },
    {
      "cell_type": "code",
      "source": [
        "n = torch.tensor(5)\n",
        "k = torch.arange(6)\n",
        "print(log_binom_coef(n, k).exp())"
      ],
      "metadata": {
        "colab": {
          "base_uri": "https://localhost:8080/"
        },
        "id": "gHQS1LW_48U4",
        "outputId": "7489e87f-088c-4665-e27f-f2e67bc4805a"
      },
      "execution_count": null,
      "outputs": [
        {
          "output_type": "stream",
          "name": "stdout",
          "text": [
            "tensor([ 1.,  5., 10., 10.,  5.,  1.])\n"
          ]
        }
      ]
    },
    {
      "cell_type": "code",
      "source": [
        "def bernstein_basis(degree: int, z: torch.Tensor):\n",
        "  \"\"\"\n",
        "  Computes a matrix containing the Bernstein basis of a given degree, where\n",
        "  each row corresponds to an entry in the input tensor `z`.\n",
        "  \"\"\"\n",
        "\n",
        "  # entries of `z` in rows, and basis indices in columns\n",
        "  z = z.view(-1, 1)\n",
        "  ks = torch.arange(degree + 1, device=z.device).view(1, -1)\n",
        "\n",
        "  # degree in a tensor to call log_binom_coef\n",
        "  degree_tensor = torch.as_tensor(degree, device=z.device)\n",
        "\n",
        "  # now we compute the Bernstein basis by definition\n",
        "  binom_coef = torch.exp(log_binom_coef(degree_tensor, ks))\n",
        "  return binom_coef * (z ** ks) * ((1 - z) ** (degree_tensor - ks))"
      ],
      "metadata": {
        "id": "qtlBP5rB_V8N"
      },
      "execution_count": null,
      "outputs": []
    },
    {
      "cell_type": "code",
      "source": [
        "from torch import nn\n",
        "\n",
        "class BernsteinPolynomialModel(nn.Module):\n",
        "  def __init__(self, x_model, coef_transformer):\n",
        "    super().__init__()\n",
        "    self.x_model = x_model\n",
        "    self.coef_transformer = coef_transformer\n",
        "\n",
        "  def forward(self, x, z):\n",
        "    coefs = self.coef_transformer(self.x_model(x))\n",
        "    degree = coefs.shape[-1] - 1\n",
        "    basis = bernstein_basis(degree, z)\n",
        "    return torch.sum(coefs * basis, dim=-1)"
      ],
      "metadata": {
        "id": "GO9oU6AuFE8b"
      },
      "execution_count": null,
      "outputs": []
    },
    {
      "cell_type": "markdown",
      "source": [
        "# Fitting concave nondecreasing function"
      ],
      "metadata": {
        "id": "ENi_kNUXuPBZ"
      }
    },
    {
      "cell_type": "code",
      "source": [
        "import numpy as np\n",
        "\n",
        "def np_softplus(x):\n",
        "  return np.log1p(np.exp(x))\n",
        "\n",
        "def hairy_concave_func(x, z):\n",
        "  x1, x2, x3 = x[..., 0], x[..., 1], x[..., 2]\n",
        "  return np_softplus(x1) * np.sqrt(0.05 + z) - np_softplus(x3) * (z - np.cos(x2) ** 2) ** 2"
      ],
      "metadata": {
        "id": "w9LeQLZiuSi0"
      },
      "execution_count": null,
      "outputs": []
    },
    {
      "cell_type": "code",
      "source": [
        "import matplotlib.pyplot as plt\n",
        "\n",
        "zs = np.linspace(0, 1, 1000)\n",
        "plt.plot(zs, hairy_concave_func(np.array([-1, 0.1, 0.5]), zs), label='function 1')\n",
        "plt.plot(zs, hairy_concave_func(np.array([1, 0.5, -0.5]), zs), label='function 2')\n",
        "plt.plot(zs, hairy_concave_func(np.array([-1.5, 0.8, 0.1]), zs), label='function 3')\n",
        "plt.legend()\n",
        "plt.show()"
      ],
      "metadata": {
        "colab": {
          "base_uri": "https://localhost:8080/",
          "height": 430
        },
        "id": "-Sbs9aXuuQ5y",
        "outputId": "0d825e63-5343-4368-ba71-af99b679871c"
      },
      "execution_count": null,
      "outputs": [
        {
          "output_type": "display_data",
          "data": {
            "text/plain": [
              "<Figure size 640x480 with 1 Axes>"
            ],
            "image/png": "[encoded data removed]"
          },
          "metadata": {}
        }
      ]
    },
    {
      "cell_type": "code",
      "source": [
        "def make_model(layer_dims, constrained=True):\n",
        "  # create a fully connected ReLU network\n",
        "  layers = [\n",
        "      layer\n",
        "      for in_dim, out_dim in zip(layer_dims[:-1], layer_dims[1:])\n",
        "      for layer in [nn.Linear(in_dim, out_dim), nn.ReLU()]\n",
        "  ]\n",
        "\n",
        "  if constrained:\n",
        "    # define a model for x\n",
        "    x_model = nn.Sequential(*layers[:-1])\n",
        "\n",
        "    # construct a network for predicting non-decreasing functions\n",
        "    # the polynomial degree is the output dimension of the last\n",
        "    # layer.\n",
        "    return BernsteinPolynomialModel(\n",
        "        x_model,\n",
        "        concave_module(layer_dims[-1])\n",
        "    )\n",
        "  else:\n",
        "    layers.append(nn.Linear(layer_dims[-1], 1))\n",
        "    return nn.Sequential(*layers)"
      ],
      "metadata": {
        "id": "ETMahUrMuYSx"
      },
      "execution_count": null,
      "outputs": []
    },
    {
      "cell_type": "code",
      "source": [
        "from tqdm.auto import tqdm\n",
        "\n",
        "def train_epoch(data_iter, model, loss_fn, optim, constrained):\n",
        "  for x, z, label in data_iter:\n",
        "    if constrained:\n",
        "      pred = model(x, z)\n",
        "    else:\n",
        "      pred = model(torch.cat([x, z.reshape(-1, 1)], dim=-1)).squeeze()\n",
        "    loss = loss_fn(pred, label)\n",
        "\n",
        "    optim.zero_grad()\n",
        "    loss.backward()\n",
        "    optim.step()\n",
        "\n",
        "\n",
        "@torch.no_grad()\n",
        "def evaluate_epoch(data_iter, model, loss_fn, constrained):\n",
        "  epoch_loss = 0.\n",
        "  num_samples = 0\n",
        "  for x, z, label in data_iter:\n",
        "    if constrained:\n",
        "      pred = model(x, z)\n",
        "    else:\n",
        "      pred = model(torch.cat([x, z.reshape(-1, 1)], dim=-1)).squeeze()\n",
        "    loss = loss_fn(pred, label)\n",
        "    epoch_loss += loss * label.size(0)\n",
        "    num_samples += label.size(0)\n",
        "  return epoch_loss.cpu().item() / num_samples\n",
        "\n",
        "\n",
        "def train_model(train_iter, valid_iter, layer_dims, constrained=True,\n",
        "                optim_fn=torch.optim.SGD, optim_params=None, num_epochs=100):\n",
        "  if optim_params is None:\n",
        "    optim_params = {}\n",
        "\n",
        "  torch.manual_seed(42)\n",
        "  torch.cuda.manual_seed(42)\n",
        "  model = make_model(layer_dims, constrained=constrained)\n",
        "  optim = optim_fn(model.parameters(), **optim_params)\n",
        "  loss_fn = nn.MSELoss()\n",
        "\n",
        "  if torch.cuda.is_available():\n",
        "    model = model.cuda()\n",
        "\n",
        "  with tqdm(range(num_epochs)) as epoch_range:\n",
        "    for epoch in epoch_range:\n",
        "      train_epoch(train_iter, model, loss_fn, optim, constrained)\n",
        "      epoch_loss = evaluate_epoch(valid_iter, model, loss_fn, constrained)\n",
        "      epoch_range.set_description(f'Validation loss = {epoch_loss:.5f}')\n",
        "  return model, epoch_loss"
      ],
      "metadata": {
        "id": "oDUFrpDe2oXe"
      },
      "execution_count": null,
      "outputs": []
    },
    {
      "cell_type": "code",
      "source": [
        "def generate_dataset(n_rows, noise=0.02, mean=0, std=1):\n",
        "  xs = std * np.random.randn(n_rows, 3) + mean\n",
        "  zs = np.random.rand(n_rows)\n",
        "  labels = hairy_concave_func(xs, zs) + np.random.randn(n_rows) * noise\n",
        "\n",
        "  xs = torch.as_tensor(xs).to(dtype=torch.float32)\n",
        "  zs = torch.as_tensor(zs).to(dtype=torch.float32)\n",
        "  labels = torch.as_tensor(labels).to(dtype=torch.float32)\n",
        "  if torch.cuda.is_available():\n",
        "    xs = xs.cuda()\n",
        "    zs = zs.cuda()\n",
        "    labels = labels.cuda()\n",
        "\n",
        "  return xs, zs, labels"
      ],
      "metadata": {
        "id": "W8TNX1OxUhxq"
      },
      "execution_count": null,
      "outputs": []
    },
    {
      "cell_type": "code",
      "source": [
        "from batch_iter import BatchIter\n",
        "\n",
        "batch_size = 256\n",
        "train_iter = BatchIter(*generate_dataset(50000), batch_size=batch_size)\n",
        "valid_iter = BatchIter(*generate_dataset(10000), batch_size=batch_size)"
      ],
      "metadata": {
        "id": "AcqsjT4GPOic"
      },
      "execution_count": null,
      "outputs": []
    },
    {
      "cell_type": "code",
      "source": [
        "lr = 1e-3\n",
        "weight_decay = 0.\n",
        "degree = 20\n",
        "layer_dims = [3,\n",
        "              4 * degree,\n",
        "              3 * degree,\n",
        "              2 * degree,\n",
        "              degree]\n",
        "model, val_loss = train_model(\n",
        "    train_iter, valid_iter, layer_dims,\n",
        "    optim_fn=torch.optim.AdamW,\n",
        "    optim_params=dict(lr=lr, weight_decay=weight_decay))\n",
        "model = model.cpu()"
      ],
      "metadata": {
        "colab": {
          "base_uri": "https://localhost:8080/",
          "height": 49,
          "referenced_widgets": [
            "5fb36db9125646caa85faee50f849b39",
            "21fd072e74c84f0e95e32f9d2056ddae",
            "c0a6478aedd0442e9aa5f927b3e6c4d5",
            "70bdd8f94ad24d618adc154c5cb2b3f8",
            "416d2621580e4932a0b951b5485c84b2",
            "4dc6121c18b24f0ba30381960f8622c9",
            "4c55b591a46c40a8833971d8a07dec64",
            "6b993999ace546b3a59ee8dde63924b2",
            "6e1adce2f7204ab095d4f032a1722839",
            "073a0b47bbcb413daabb607545d5e31a",
            "2a0de748174e41529fa57600279b54ec"
          ]
        },
        "id": "eFy66LGceyGR",
        "outputId": "35609036-c1d6-4a69-caf4-69f1aea6ae02"
      },
      "execution_count": null,
      "outputs": [
        {
          "output_type": "display_data",
          "data": {
            "text/plain": [
              "  0%|          | 0/100 [00:00<?, ?it/s]"
            ],
            "application/vnd.jupyter.widget-view+json": {
              "version_major": 2,
              "version_minor": 0,
              "model_id": "5fb36db9125646caa85faee50f849b39"
            }
          },
          "metadata": {}
        }
      ]
    },
    {
      "cell_type": "code",
      "source": [
        "from functools import partial\n",
        "\n",
        "plot_zs = torch.linspace(0, 1, 100)\n",
        "features = torch.tensor([-1, 0.1, 0.5]).repeat(100, 1)\n",
        "func = partial(model, features)\n",
        "plt.plot(plot_zs, func(plot_zs).detach().numpy(), label='Model function')\n",
        "plt.plot(plot_zs, hairy_concave_func(features.numpy(), plot_zs.numpy()), label='True function')\n",
        "\n",
        "plt.legend()\n",
        "plt.show()"
      ],
      "metadata": {
        "colab": {
          "base_uri": "https://localhost:8080/",
          "height": 430
        },
        "id": "qs-76Q8zPaI3",
        "outputId": "4bf4e7bc-bcab-48a6-f6bf-aecaaf0594b4"
      },
      "execution_count": null,
      "outputs": [
        {
          "output_type": "display_data",
          "data": {
            "text/plain": [
              "<Figure size 640x480 with 1 Axes>"
            ],
            "image/png": "[encoded data removed]"
          },
          "metadata": {}
        }
      ]
    },
    {
      "cell_type": "code",
      "source": [
        "features = torch.tensor([-2., -3., -4.]).repeat(100, 1)\n",
        "func = partial(model, features)\n",
        "plt.plot(plot_zs, func(plot_zs).detach().numpy(), label='Model function')\n",
        "plt.plot(plot_zs, hairy_concave_func(features.numpy(), plot_zs.numpy()), label='True function')\n",
        "\n",
        "plt.legend()\n",
        "plt.show()"
      ],
      "metadata": {
        "colab": {
          "base_uri": "https://localhost:8080/",
          "height": 430
        },
        "id": "XEJsu955Sqxk",
        "outputId": "161afeb0-50b0-480b-db57-b4c2ffdf2411"
      },
      "execution_count": null,
      "outputs": [
        {
          "output_type": "display_data",
          "data": {
            "text/plain": [
              "<Figure size 640x480 with 1 Axes>"
            ],
            "image/png": "[encoded data removed]"
          },
          "metadata": {}
        }
      ]
    },
    {
      "cell_type": "code",
      "source": [
        "lr = 1e-3\n",
        "weight_decay = 0.\n",
        "degree = 20\n",
        "layer_dims = [4,\n",
        "              4 * degree,\n",
        "              3 * degree,\n",
        "              2 * degree,\n",
        "              degree]\n",
        "unconstrained_model, val_loss = train_model(\n",
        "    train_iter, valid_iter, layer_dims, constrained=False,\n",
        "    optim_fn=torch.optim.AdamW,\n",
        "    optim_params=dict(lr=lr, weight_decay=weight_decay))\n",
        "unconstrained_model = unconstrained_model.cpu()"
      ],
      "metadata": {
        "id": "vRUiCd-3TQiT",
        "colab": {
          "base_uri": "https://localhost:8080/",
          "height": 49,
          "referenced_widgets": [
            "beed3ca936ac400f99cbb46fdeaf7bc8",
            "ec92a54d32ce409f93b7537a4ebee5d9",
            "076d06651ace41a696fa09b9a4927a08",
            "40fdec76b258467da1b7ac517122d17f",
            "ec4fcaac72ad4871963a8b68d09a404d",
            "d63e3b324faa48bcbfb6af8fa0c089c0",
            "2160944d9b984a96a7866a31e84f63f4",
            "26d70480ef504eb1a7be57c0936ca143",
            "0751d23a67cb49f1b5ea81ec0bb484e6",
            "643833301bb84451ab4d4a14c9a2d555",
            "b26b4523df5844e5b706c2a048a2f838"
          ]
        },
        "outputId": "cc0dbd9d-ed96-4115-b9b8-9ecbeaed9574"
      },
      "execution_count": null,
      "outputs": [
        {
          "output_type": "display_data",
          "data": {
            "text/plain": [
              "  0%|          | 0/100 [00:00<?, ?it/s]"
            ],
            "application/vnd.jupyter.widget-view+json": {
              "version_major": 2,
              "version_minor": 0,
              "model_id": "beed3ca936ac400f99cbb46fdeaf7bc8"
            }
          },
          "metadata": {}
        }
      ]
    },
    {
      "cell_type": "code",
      "source": [
        "features = torch.cat([\n",
        "    torch.tensor([-1, 0.1, 0.5]).repeat(100, 1),\n",
        "    plot_zs.reshape(-1, 1)\n",
        "], axis=-1)\n",
        "plt.plot(plot_zs, unconstrained_model(features).detach().numpy(), label='Model function')\n",
        "plt.plot(plot_zs, hairy_concave_func(features.numpy(), plot_zs.numpy()), label='True function')\n",
        "\n",
        "plt.legend()\n",
        "plt.show()"
      ],
      "metadata": {
        "colab": {
          "base_uri": "https://localhost:8080/",
          "height": 430
        },
        "id": "w5gP13Iio6ku",
        "outputId": "e6d01257-cf67-41a2-9ea5-b5a67e43d341"
      },
      "execution_count": null,
      "outputs": [
        {
          "output_type": "display_data",
          "data": {
            "text/plain": [
              "<Figure size 640x480 with 1 Axes>"
            ],
            "image/png": "[encoded data removed]"
          },
          "metadata": {}
        }
      ]
    },
    {
      "cell_type": "code",
      "source": [
        "features = torch.cat([\n",
        "    torch.tensor([-2., -3., -4.]).repeat(100, 1),\n",
        "    plot_zs.reshape(-1, 1)\n",
        "], axis=-1)\n",
        "plt.plot(plot_zs, unconstrained_model(features).detach().numpy(), label='Model function')\n",
        "plt.plot(plot_zs, hairy_concave_func(features.numpy(), plot_zs.numpy()), label='True function')\n",
        "\n",
        "plt.legend()\n",
        "plt.show()"
      ],
      "metadata": {
        "colab": {
          "base_uri": "https://localhost:8080/",
          "height": 434
        },
        "id": "AF9HSRcvo9ni",
        "outputId": "25dc1600-6b50-4c17-9d73-9cf168b89198"
      },
      "execution_count": null,
      "outputs": [
        {
          "output_type": "display_data",
          "data": {
            "text/plain": [
              "<Figure size 640x480 with 1 Axes>"
            ],
            "image/png": "[encoded data removed]"
          },
          "metadata": {}
        }
      ]
    },
    {
      "cell_type": "code",
      "source": [],
      "metadata": {
        "id": "2sxJjO9JgHv5"
      },
      "execution_count": null,
      "outputs": []
    }
  ]
}