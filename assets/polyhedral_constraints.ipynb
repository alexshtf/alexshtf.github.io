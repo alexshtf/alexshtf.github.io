{
  "nbformat": 4,
  "nbformat_minor": 0,
  "metadata": {
    "colab": {
      "provenance": [],
      "machine_shape": "hm",
      "gpuType": "L4",
      "authorship_tag": "ABX9TyOIVuoCSBqd4Vtmv+DA+QgD",
      "include_colab_link": true
    },
    "kernelspec": {
      "name": "python3",
      "display_name": "Python 3"
    },
    "language_info": {
      "name": "python"
    },
    "accelerator": "GPU",
    "widgets": {
      "application/vnd.jupyter.widget-state+json": {
        "fb460b8f6c594a5089b8b659d3c2bf55": {
          "model_module": "@jupyter-widgets/controls",
          "model_name": "HBoxModel",
          "model_module_version": "1.5.0",
          "state": {
            "_dom_classes": [],
            "_model_module": "@jupyter-widgets/controls",
            "_model_module_version": "1.5.0",
            "_model_name": "HBoxModel",
            "_view_count": null,
            "_view_module": "@jupyter-widgets/controls",
            "_view_module_version": "1.5.0",
            "_view_name": "HBoxView",
            "box_style": "",
            "children": [
              "IPY_MODEL_7b19ace5bcf541da86fa936bec4a4aa6",
              "IPY_MODEL_70ecd123111e43a1b8b90082723537d8",
              "IPY_MODEL_825bc34b1ff146d58dae3d33cf06186a"
            ],
            "layout": "IPY_MODEL_37713a589ea84a74b70719251b15e06b"
          }
        },
        "7b19ace5bcf541da86fa936bec4a4aa6": {
          "model_module": "@jupyter-widgets/controls",
          "model_name": "HTMLModel",
          "model_module_version": "1.5.0",
          "state": {
            "_dom_classes": [],
            "_model_module": "@jupyter-widgets/controls",
            "_model_module_version": "1.5.0",
            "_model_name": "HTMLModel",
            "_view_count": null,
            "_view_module": "@jupyter-widgets/controls",
            "_view_module_version": "1.5.0",
            "_view_name": "HTMLView",
            "description": "",
            "description_tooltip": null,
            "layout": "IPY_MODEL_a8ca6eb7a1e6404a977286754936d625",
            "placeholder": "​",
            "style": "IPY_MODEL_7e230803f3764313a812f341e597cc8a",
            "value": "Validation loss = 0.00099: 100%"
          }
        },
        "70ecd123111e43a1b8b90082723537d8": {
          "model_module": "@jupyter-widgets/controls",
          "model_name": "FloatProgressModel",
          "model_module_version": "1.5.0",
          "state": {
            "_dom_classes": [],
            "_model_module": "@jupyter-widgets/controls",
            "_model_module_version": "1.5.0",
            "_model_name": "FloatProgressModel",
            "_view_count": null,
            "_view_module": "@jupyter-widgets/controls",
            "_view_module_version": "1.5.0",
            "_view_name": "ProgressView",
            "bar_style": "success",
            "description": "",
            "description_tooltip": null,
            "layout": "IPY_MODEL_0f3d282f57d34d368b2240ba4e582396",
            "max": 100,
            "min": 0,
            "orientation": "horizontal",
            "style": "IPY_MODEL_6f5defe333f4497192f14722b4a8a887",
            "value": 100
          }
        },
        "825bc34b1ff146d58dae3d33cf06186a": {
          "model_module": "@jupyter-widgets/controls",
          "model_name": "HTMLModel",
          "model_module_version": "1.5.0",
          "state": {
            "_dom_classes": [],
            "_model_module": "@jupyter-widgets/controls",
            "_model_module_version": "1.5.0",
            "_model_name": "HTMLModel",
            "_view_count": null,
            "_view_module": "@jupyter-widgets/controls",
            "_view_module_version": "1.5.0",
            "_view_name": "HTMLView",
            "description": "",
            "description_tooltip": null,
            "layout": "IPY_MODEL_e1b3fba1858d4d04bc33cb6a798993cf",
            "placeholder": "​",
            "style": "IPY_MODEL_55078115cffe4954ab5176842b99a232",
            "value": " 100/100 [00:59&lt;00:00,  1.77it/s]"
          }
        },
        "37713a589ea84a74b70719251b15e06b": {
          "model_module": "@jupyter-widgets/base",
          "model_name": "LayoutModel",
          "model_module_version": "1.2.0",
          "state": {
            "_model_module": "@jupyter-widgets/base",
            "_model_module_version": "1.2.0",
            "_model_name": "LayoutModel",
            "_view_count": null,
            "_view_module": "@jupyter-widgets/base",
            "_view_module_version": "1.2.0",
            "_view_name": "LayoutView",
            "align_content": null,
            "align_items": null,
            "align_self": null,
            "border": null,
            "bottom": null,
            "display": null,
            "flex": null,
            "flex_flow": null,
            "grid_area": null,
            "grid_auto_columns": null,
            "grid_auto_flow": null,
            "grid_auto_rows": null,
            "grid_column": null,
            "grid_gap": null,
            "grid_row": null,
            "grid_template_areas": null,
            "grid_template_columns": null,
            "grid_template_rows": null,
            "height": null,
            "justify_content": null,
            "justify_items": null,
            "left": null,
            "margin": null,
            "max_height": null,
            "max_width": null,
            "min_height": null,
            "min_width": null,
            "object_fit": null,
            "object_position": null,
            "order": null,
            "overflow": null,
            "overflow_x": null,
            "overflow_y": null,
            "padding": null,
            "right": null,
            "top": null,
            "visibility": null,
            "width": null
          }
        },
        "a8ca6eb7a1e6404a977286754936d625": {
          "model_module": "@jupyter-widgets/base",
          "model_name": "LayoutModel",
          "model_module_version": "1.2.0",
          "state": {
            "_model_module": "@jupyter-widgets/base",
            "_model_module_version": "1.2.0",
            "_model_name": "LayoutModel",
            "_view_count": null,
            "_view_module": "@jupyter-widgets/base",
            "_view_module_version": "1.2.0",
            "_view_name": "LayoutView",
            "align_content": null,
            "align_items": null,
            "align_self": null,
            "border": null,
            "bottom": null,
            "display": null,
            "flex": null,
            "flex_flow": null,
            "grid_area": null,
            "grid_auto_columns": null,
            "grid_auto_flow": null,
            "grid_auto_rows": null,
            "grid_column": null,
            "grid_gap": null,
            "grid_row": null,
            "grid_template_areas": null,
            "grid_template_columns": null,
            "grid_template_rows": null,
            "height": null,
            "justify_content": null,
            "justify_items": null,
            "left": null,
            "margin": null,
            "max_height": null,
            "max_width": null,
            "min_height": null,
            "min_width": null,
            "object_fit": null,
            "object_position": null,
            "order": null,
            "overflow": null,
            "overflow_x": null,
            "overflow_y": null,
            "padding": null,
            "right": null,
            "top": null,
            "visibility": null,
            "width": null
          }
        },
        "7e230803f3764313a812f341e597cc8a": {
          "model_module": "@jupyter-widgets/controls",
          "model_name": "DescriptionStyleModel",
          "model_module_version": "1.5.0",
          "state": {
            "_model_module": "@jupyter-widgets/controls",
            "_model_module_version": "1.5.0",
            "_model_name": "DescriptionStyleModel",
            "_view_count": null,
            "_view_module": "@jupyter-widgets/base",
            "_view_module_version": "1.2.0",
            "_view_name": "StyleView",
            "description_width": ""
          }
        },
        "0f3d282f57d34d368b2240ba4e582396": {
          "model_module": "@jupyter-widgets/base",
          "model_name": "LayoutModel",
          "model_module_version": "1.2.0",
          "state": {
            "_model_module": "@jupyter-widgets/base",
            "_model_module_version": "1.2.0",
            "_model_name": "LayoutModel",
            "_view_count": null,
            "_view_module": "@jupyter-widgets/base",
            "_view_module_version": "1.2.0",
            "_view_name": "LayoutView",
            "align_content": null,
            "align_items": null,
            "align_self": null,
            "border": null,
            "bottom": null,
            "display": null,
            "flex": null,
            "flex_flow": null,
            "grid_area": null,
            "grid_auto_columns": null,
            "grid_auto_flow": null,
            "grid_auto_rows": null,
            "grid_column": null,
            "grid_gap": null,
            "grid_row": null,
            "grid_template_areas": null,
            "grid_template_columns": null,
            "grid_template_rows": null,
            "height": null,
            "justify_content": null,
            "justify_items": null,
            "left": null,
            "margin": null,
            "max_height": null,
            "max_width": null,
            "min_height": null,
            "min_width": null,
            "object_fit": null,
            "object_position": null,
            "order": null,
            "overflow": null,
            "overflow_x": null,
            "overflow_y": null,
            "padding": null,
            "right": null,
            "top": null,
            "visibility": null,
            "width": null
          }
        },
        "6f5defe333f4497192f14722b4a8a887": {
          "model_module": "@jupyter-widgets/controls",
          "model_name": "ProgressStyleModel",
          "model_module_version": "1.5.0",
          "state": {
            "_model_module": "@jupyter-widgets/controls",
            "_model_module_version": "1.5.0",
            "_model_name": "ProgressStyleModel",
            "_view_count": null,
            "_view_module": "@jupyter-widgets/base",
            "_view_module_version": "1.2.0",
            "_view_name": "StyleView",
            "bar_color": null,
            "description_width": ""
          }
        },
        "e1b3fba1858d4d04bc33cb6a798993cf": {
          "model_module": "@jupyter-widgets/base",
          "model_name": "LayoutModel",
          "model_module_version": "1.2.0",
          "state": {
            "_model_module": "@jupyter-widgets/base",
            "_model_module_version": "1.2.0",
            "_model_name": "LayoutModel",
            "_view_count": null,
            "_view_module": "@jupyter-widgets/base",
            "_view_module_version": "1.2.0",
            "_view_name": "LayoutView",
            "align_content": null,
            "align_items": null,
            "align_self": null,
            "border": null,
            "bottom": null,
            "display": null,
            "flex": null,
            "flex_flow": null,
            "grid_area": null,
            "grid_auto_columns": null,
            "grid_auto_flow": null,
            "grid_auto_rows": null,
            "grid_column": null,
            "grid_gap": null,
            "grid_row": null,
            "grid_template_areas": null,
            "grid_template_columns": null,
            "grid_template_rows": null,
            "height": null,
            "justify_content": null,
            "justify_items": null,
            "left": null,
            "margin": null,
            "max_height": null,
            "max_width": null,
            "min_height": null,
            "min_width": null,
            "object_fit": null,
            "object_position": null,
            "order": null,
            "overflow": null,
            "overflow_x": null,
            "overflow_y": null,
            "padding": null,
            "right": null,
            "top": null,
            "visibility": null,
            "width": null
          }
        },
        "55078115cffe4954ab5176842b99a232": {
          "model_module": "@jupyter-widgets/controls",
          "model_name": "DescriptionStyleModel",
          "model_module_version": "1.5.0",
          "state": {
            "_model_module": "@jupyter-widgets/controls",
            "_model_module_version": "1.5.0",
            "_model_name": "DescriptionStyleModel",
            "_view_count": null,
            "_view_module": "@jupyter-widgets/base",
            "_view_module_version": "1.2.0",
            "_view_name": "StyleView",
            "description_width": ""
          }
        },
        "dfbddb10bc284f67a8b8d14a9e8b9b66": {
          "model_module": "@jupyter-widgets/controls",
          "model_name": "HBoxModel",
          "model_module_version": "1.5.0",
          "state": {
            "_dom_classes": [],
            "_model_module": "@jupyter-widgets/controls",
            "_model_module_version": "1.5.0",
            "_model_name": "HBoxModel",
            "_view_count": null,
            "_view_module": "@jupyter-widgets/controls",
            "_view_module_version": "1.5.0",
            "_view_name": "HBoxView",
            "box_style": "",
            "children": [
              "IPY_MODEL_d1ca40face6a4689ba89e6c3143c9dc7",
              "IPY_MODEL_17f1693cf2594a9dab978941d6ca4770",
              "IPY_MODEL_78e0db96fda541a3b196ccaadb261ede"
            ],
            "layout": "IPY_MODEL_6f42a0f1b64447d6a81328f805537d2e"
          }
        },
        "d1ca40face6a4689ba89e6c3143c9dc7": {
          "model_module": "@jupyter-widgets/controls",
          "model_name": "HTMLModel",
          "model_module_version": "1.5.0",
          "state": {
            "_dom_classes": [],
            "_model_module": "@jupyter-widgets/controls",
            "_model_module_version": "1.5.0",
            "_model_name": "HTMLModel",
            "_view_count": null,
            "_view_module": "@jupyter-widgets/controls",
            "_view_module_version": "1.5.0",
            "_view_name": "HTMLView",
            "description": "",
            "description_tooltip": null,
            "layout": "IPY_MODEL_3775ad85e8b4408eb29b1fa03a353375",
            "placeholder": "​",
            "style": "IPY_MODEL_0f96d7f865c4497d84884bf6287b1877",
            "value": "Validation loss = 0.00091: 100%"
          }
        },
        "17f1693cf2594a9dab978941d6ca4770": {
          "model_module": "@jupyter-widgets/controls",
          "model_name": "FloatProgressModel",
          "model_module_version": "1.5.0",
          "state": {
            "_dom_classes": [],
            "_model_module": "@jupyter-widgets/controls",
            "_model_module_version": "1.5.0",
            "_model_name": "FloatProgressModel",
            "_view_count": null,
            "_view_module": "@jupyter-widgets/controls",
            "_view_module_version": "1.5.0",
            "_view_name": "ProgressView",
            "bar_style": "success",
            "description": "",
            "description_tooltip": null,
            "layout": "IPY_MODEL_3ebcf49f2769431b94e1b7a275f547ec",
            "max": 100,
            "min": 0,
            "orientation": "horizontal",
            "style": "IPY_MODEL_8dfe02fd9b7849288a071aedaadbdb55",
            "value": 100
          }
        },
        "78e0db96fda541a3b196ccaadb261ede": {
          "model_module": "@jupyter-widgets/controls",
          "model_name": "HTMLModel",
          "model_module_version": "1.5.0",
          "state": {
            "_dom_classes": [],
            "_model_module": "@jupyter-widgets/controls",
            "_model_module_version": "1.5.0",
            "_model_name": "HTMLModel",
            "_view_count": null,
            "_view_module": "@jupyter-widgets/controls",
            "_view_module_version": "1.5.0",
            "_view_name": "HTMLView",
            "description": "",
            "description_tooltip": null,
            "layout": "IPY_MODEL_78462069a48e410093f43cd73b2aa056",
            "placeholder": "​",
            "style": "IPY_MODEL_7ef3673317b446f9bbb4b2565b5a3681",
            "value": " 100/100 [00:38&lt;00:00,  2.65it/s]"
          }
        },
        "6f42a0f1b64447d6a81328f805537d2e": {
          "model_module": "@jupyter-widgets/base",
          "model_name": "LayoutModel",
          "model_module_version": "1.2.0",
          "state": {
            "_model_module": "@jupyter-widgets/base",
            "_model_module_version": "1.2.0",
            "_model_name": "LayoutModel",
            "_view_count": null,
            "_view_module": "@jupyter-widgets/base",
            "_view_module_version": "1.2.0",
            "_view_name": "LayoutView",
            "align_content": null,
            "align_items": null,
            "align_self": null,
            "border": null,
            "bottom": null,
            "display": null,
            "flex": null,
            "flex_flow": null,
            "grid_area": null,
            "grid_auto_columns": null,
            "grid_auto_flow": null,
            "grid_auto_rows": null,
            "grid_column": null,
            "grid_gap": null,
            "grid_row": null,
            "grid_template_areas": null,
            "grid_template_columns": null,
            "grid_template_rows": null,
            "height": null,
            "justify_content": null,
            "justify_items": null,
            "left": null,
            "margin": null,
            "max_height": null,
            "max_width": null,
            "min_height": null,
            "min_width": null,
            "object_fit": null,
            "object_position": null,
            "order": null,
            "overflow": null,
            "overflow_x": null,
            "overflow_y": null,
            "padding": null,
            "right": null,
            "top": null,
            "visibility": null,
            "width": null
          }
        },
        "3775ad85e8b4408eb29b1fa03a353375": {
          "model_module": "@jupyter-widgets/base",
          "model_name": "LayoutModel",
          "model_module_version": "1.2.0",
          "state": {
            "_model_module": "@jupyter-widgets/base",
            "_model_module_version": "1.2.0",
            "_model_name": "LayoutModel",
            "_view_count": null,
            "_view_module": "@jupyter-widgets/base",
            "_view_module_version": "1.2.0",
            "_view_name": "LayoutView",
            "align_content": null,
            "align_items": null,
            "align_self": null,
            "border": null,
            "bottom": null,
            "display": null,
            "flex": null,
            "flex_flow": null,
            "grid_area": null,
            "grid_auto_columns": null,
            "grid_auto_flow": null,
            "grid_auto_rows": null,
            "grid_column": null,
            "grid_gap": null,
            "grid_row": null,
            "grid_template_areas": null,
            "grid_template_columns": null,
            "grid_template_rows": null,
            "height": null,
            "justify_content": null,
            "justify_items": null,
            "left": null,
            "margin": null,
            "max_height": null,
            "max_width": null,
            "min_height": null,
            "min_width": null,
            "object_fit": null,
            "object_position": null,
            "order": null,
            "overflow": null,
            "overflow_x": null,
            "overflow_y": null,
            "padding": null,
            "right": null,
            "top": null,
            "visibility": null,
            "width": null
          }
        },
        "0f96d7f865c4497d84884bf6287b1877": {
          "model_module": "@jupyter-widgets/controls",
          "model_name": "DescriptionStyleModel",
          "model_module_version": "1.5.0",
          "state": {
            "_model_module": "@jupyter-widgets/controls",
            "_model_module_version": "1.5.0",
            "_model_name": "DescriptionStyleModel",
            "_view_count": null,
            "_view_module": "@jupyter-widgets/base",
            "_view_module_version": "1.2.0",
            "_view_name": "StyleView",
            "description_width": ""
          }
        },
        "3ebcf49f2769431b94e1b7a275f547ec": {
          "model_module": "@jupyter-widgets/base",
          "model_name": "LayoutModel",
          "model_module_version": "1.2.0",
          "state": {
            "_model_module": "@jupyter-widgets/base",
            "_model_module_version": "1.2.0",
            "_model_name": "LayoutModel",
            "_view_count": null,
            "_view_module": "@jupyter-widgets/base",
            "_view_module_version": "1.2.0",
            "_view_name": "LayoutView",
            "align_content": null,
            "align_items": null,
            "align_self": null,
            "border": null,
            "bottom": null,
            "display": null,
            "flex": null,
            "flex_flow": null,
            "grid_area": null,
            "grid_auto_columns": null,
            "grid_auto_flow": null,
            "grid_auto_rows": null,
            "grid_column": null,
            "grid_gap": null,
            "grid_row": null,
            "grid_template_areas": null,
            "grid_template_columns": null,
            "grid_template_rows": null,
            "height": null,
            "justify_content": null,
            "justify_items": null,
            "left": null,
            "margin": null,
            "max_height": null,
            "max_width": null,
            "min_height": null,
            "min_width": null,
            "object_fit": null,
            "object_position": null,
            "order": null,
            "overflow": null,
            "overflow_x": null,
            "overflow_y": null,
            "padding": null,
            "right": null,
            "top": null,
            "visibility": null,
            "width": null
          }
        },
        "8dfe02fd9b7849288a071aedaadbdb55": {
          "model_module": "@jupyter-widgets/controls",
          "model_name": "ProgressStyleModel",
          "model_module_version": "1.5.0",
          "state": {
            "_model_module": "@jupyter-widgets/controls",
            "_model_module_version": "1.5.0",
            "_model_name": "ProgressStyleModel",
            "_view_count": null,
            "_view_module": "@jupyter-widgets/base",
            "_view_module_version": "1.2.0",
            "_view_name": "StyleView",
            "bar_color": null,
            "description_width": ""
          }
        },
        "78462069a48e410093f43cd73b2aa056": {
          "model_module": "@jupyter-widgets/base",
          "model_name": "LayoutModel",
          "model_module_version": "1.2.0",
          "state": {
            "_model_module": "@jupyter-widgets/base",
            "_model_module_version": "1.2.0",
            "_model_name": "LayoutModel",
            "_view_count": null,
            "_view_module": "@jupyter-widgets/base",
            "_view_module_version": "1.2.0",
            "_view_name": "LayoutView",
            "align_content": null,
            "align_items": null,
            "align_self": null,
            "border": null,
            "bottom": null,
            "display": null,
            "flex": null,
            "flex_flow": null,
            "grid_area": null,
            "grid_auto_columns": null,
            "grid_auto_flow": null,
            "grid_auto_rows": null,
            "grid_column": null,
            "grid_gap": null,
            "grid_row": null,
            "grid_template_areas": null,
            "grid_template_columns": null,
            "grid_template_rows": null,
            "height": null,
            "justify_content": null,
            "justify_items": null,
            "left": null,
            "margin": null,
            "max_height": null,
            "max_width": null,
            "min_height": null,
            "min_width": null,
            "object_fit": null,
            "object_position": null,
            "order": null,
            "overflow": null,
            "overflow_x": null,
            "overflow_y": null,
            "padding": null,
            "right": null,
            "top": null,
            "visibility": null,
            "width": null
          }
        },
        "7ef3673317b446f9bbb4b2565b5a3681": {
          "model_module": "@jupyter-widgets/controls",
          "model_name": "DescriptionStyleModel",
          "model_module_version": "1.5.0",
          "state": {
            "_model_module": "@jupyter-widgets/controls",
            "_model_module_version": "1.5.0",
            "_model_name": "DescriptionStyleModel",
            "_view_count": null,
            "_view_module": "@jupyter-widgets/base",
            "_view_module_version": "1.2.0",
            "_view_name": "StyleView",
            "description_width": ""
          }
        }
      }
    }
  },
  "cells": [
    {
      "cell_type": "markdown",
      "metadata": {
        "id": "view-in-github",
        "colab_type": "text"
      },
      "source": [
        "<a href=\"https://colab.research.google.com/github/alexshtf/alexshtf.github.io/blob/master/assets/polyhedral_constraints.ipynb\" target=\"_parent\"><img src=\"https://colab.research.google.com/assets/colab-badge.svg\" alt=\"Open In Colab\"/></a>"
      ]
    },
    {
      "cell_type": "code",
      "source": [
        "%pip install batch-iter pycddlib-standalone"
      ],
      "metadata": {
        "colab": {
          "base_uri": "https://localhost:8080/"
        },
        "id": "U454v-svPSD_",
        "outputId": "9806707c-0f66-4183-d017-cb649d26ba84"
      },
      "execution_count": 1,
      "outputs": [
        {
          "output_type": "stream",
          "name": "stdout",
          "text": [
            "Collecting batch-iter\n",
            "  Downloading batch_iter-0.1-py3-none-any.whl.metadata (698 bytes)\n",
            "Collecting optuna\n",
            "  Downloading optuna-4.0.0-py3-none-any.whl.metadata (16 kB)\n",
            "Collecting pycddlib-standalone\n",
            "  Downloading pycddlib_standalone-3.0.0.tar.gz (90 kB)\n",
            "\u001b[2K     \u001b[90m━━━━━━━━━━━━━━━━━━━━━━━━━━━━━━━━━━━━━━━━\u001b[0m \u001b[32m91.0/91.0 kB\u001b[0m \u001b[31m3.4 MB/s\u001b[0m eta \u001b[36m0:00:00\u001b[0m\n",
            "\u001b[?25h  Installing build dependencies ... \u001b[?25l\u001b[?25hdone\n",
            "  Getting requirements to build wheel ... \u001b[?25l\u001b[?25hdone\n",
            "  Preparing metadata (pyproject.toml) ... \u001b[?25l\u001b[?25hdone\n",
            "Requirement already satisfied: torch>=2.1.0 in /usr/local/lib/python3.10/dist-packages (from batch-iter) (2.5.0+cu121)\n",
            "Collecting alembic>=1.5.0 (from optuna)\n",
            "  Downloading alembic-1.14.0-py3-none-any.whl.metadata (7.4 kB)\n",
            "Collecting colorlog (from optuna)\n",
            "  Downloading colorlog-6.9.0-py3-none-any.whl.metadata (10 kB)\n",
            "Requirement already satisfied: numpy in /usr/local/lib/python3.10/dist-packages (from optuna) (1.26.4)\n",
            "Requirement already satisfied: packaging>=20.0 in /usr/local/lib/python3.10/dist-packages (from optuna) (24.1)\n",
            "Requirement already satisfied: sqlalchemy>=1.3.0 in /usr/local/lib/python3.10/dist-packages (from optuna) (2.0.36)\n",
            "Requirement already satisfied: tqdm in /usr/local/lib/python3.10/dist-packages (from optuna) (4.66.6)\n",
            "Requirement already satisfied: PyYAML in /usr/local/lib/python3.10/dist-packages (from optuna) (6.0.2)\n",
            "Collecting Mako (from alembic>=1.5.0->optuna)\n",
            "  Downloading Mako-1.3.6-py3-none-any.whl.metadata (2.9 kB)\n",
            "Requirement already satisfied: typing-extensions>=4 in /usr/local/lib/python3.10/dist-packages (from alembic>=1.5.0->optuna) (4.12.2)\n",
            "Requirement already satisfied: greenlet!=0.4.17 in /usr/local/lib/python3.10/dist-packages (from sqlalchemy>=1.3.0->optuna) (3.1.1)\n",
            "Requirement already satisfied: filelock in /usr/local/lib/python3.10/dist-packages (from torch>=2.1.0->batch-iter) (3.16.1)\n",
            "Requirement already satisfied: networkx in /usr/local/lib/python3.10/dist-packages (from torch>=2.1.0->batch-iter) (3.4.2)\n",
            "Requirement already satisfied: jinja2 in /usr/local/lib/python3.10/dist-packages (from torch>=2.1.0->batch-iter) (3.1.4)\n",
            "Requirement already satisfied: fsspec in /usr/local/lib/python3.10/dist-packages (from torch>=2.1.0->batch-iter) (2024.10.0)\n",
            "Requirement already satisfied: sympy==1.13.1 in /usr/local/lib/python3.10/dist-packages (from torch>=2.1.0->batch-iter) (1.13.1)\n",
            "Requirement already satisfied: mpmath<1.4,>=1.1.0 in /usr/local/lib/python3.10/dist-packages (from sympy==1.13.1->torch>=2.1.0->batch-iter) (1.3.0)\n",
            "Requirement already satisfied: MarkupSafe>=2.0 in /usr/local/lib/python3.10/dist-packages (from jinja2->torch>=2.1.0->batch-iter) (3.0.2)\n",
            "Downloading batch_iter-0.1-py3-none-any.whl (5.1 kB)\n",
            "Downloading optuna-4.0.0-py3-none-any.whl (362 kB)\n",
            "\u001b[2K   \u001b[90m━━━━━━━━━━━━━━━━━━━━━━━━━━━━━━━━━━━━━━━━\u001b[0m \u001b[32m362.8/362.8 kB\u001b[0m \u001b[31m16.6 MB/s\u001b[0m eta \u001b[36m0:00:00\u001b[0m\n",
            "\u001b[?25hDownloading alembic-1.14.0-py3-none-any.whl (233 kB)\n",
            "\u001b[2K   \u001b[90m━━━━━━━━━━━━━━━━━━━━━━━━━━━━━━━━━━━━━━━━\u001b[0m \u001b[32m233.5/233.5 kB\u001b[0m \u001b[31m25.0 MB/s\u001b[0m eta \u001b[36m0:00:00\u001b[0m\n",
            "\u001b[?25hDownloading colorlog-6.9.0-py3-none-any.whl (11 kB)\n",
            "Downloading Mako-1.3.6-py3-none-any.whl (78 kB)\n",
            "\u001b[2K   \u001b[90m━━━━━━━━━━━━━━━━━━━━━━━━━━━━━━━━━━━━━━━━\u001b[0m \u001b[32m78.6/78.6 kB\u001b[0m \u001b[31m9.1 MB/s\u001b[0m eta \u001b[36m0:00:00\u001b[0m\n",
            "\u001b[?25hBuilding wheels for collected packages: pycddlib-standalone\n",
            "  Building wheel for pycddlib-standalone (pyproject.toml) ... \u001b[?25l\u001b[?25hdone\n",
            "  Created wheel for pycddlib-standalone: filename=pycddlib_standalone-3.0.0-cp310-cp310-linux_x86_64.whl size=573725 sha256=78ccb5509773db1b266c0b6ff3fa93bd3a9d223780c6dea16854f9ca9a5fed02\n",
            "  Stored in directory: /root/.cache/pip/wheels/bc/95/a0/cac501ced7827a0d91cce9e487fc6ab564ff39e2b078cb5c70\n",
            "Successfully built pycddlib-standalone\n",
            "Installing collected packages: pycddlib-standalone, Mako, colorlog, alembic, optuna, batch-iter\n",
            "Successfully installed Mako-1.3.6 alembic-1.14.0 batch-iter-0.1 colorlog-6.9.0 optuna-4.0.0 pycddlib-standalone-3.0.0\n"
          ]
        }
      ]
    },
    {
      "cell_type": "markdown",
      "source": [
        "# Framework for polyhedral cone layers"
      ],
      "metadata": {
        "id": "7qPDUOpIZWJS"
      }
    },
    {
      "cell_type": "code",
      "source": [
        "import torch\n",
        "from torch import nn\n",
        "\n",
        "class MaskedActivation(nn.Module):\n",
        "  def __init__(self, mask=None, activation=nn.ReLU):\n",
        "    \"\"\"\n",
        "    Applies activation to (potentially) a subset of the input components.\n",
        "    Args:\n",
        "      mask: The mask of coordinates to which we should NOT apply the activation.\n",
        "        `None` means applying the activation to all components. It is assumed\n",
        "        that `mask` is a 1D tensor, that applies to the last dimension of the input\n",
        "      activation: The activation to apply.\n",
        "    \"\"\"\n",
        "    super().__init__()\n",
        "    self.activation = activation()\n",
        "    self.register_buffer('mask', mask)\n",
        "\n",
        "  def forward(self, x):\n",
        "    if self.mask is None:\n",
        "      return self.activation(x)\n",
        "    else:\n",
        "      activated = self.activation(x[..., ~self.mask])\n",
        "      result = x.masked_scatter(~self.mask, activated)\n",
        "      return result"
      ],
      "metadata": {
        "id": "oG0okqXLV3pq"
      },
      "execution_count": 2,
      "outputs": []
    },
    {
      "cell_type": "code",
      "source": [
        "activation = MaskedActivation(mask=torch.tensor([False, False, False, False, True, True]))\n",
        "activation(torch.tensor([1., 2, -3, -4, -5, -6]))"
      ],
      "metadata": {
        "colab": {
          "base_uri": "https://localhost:8080/"
        },
        "id": "i1xzsRbKCcEG",
        "outputId": "043db666-b361-4090-b45c-832afea57ae2"
      },
      "execution_count": 3,
      "outputs": [
        {
          "output_type": "execute_result",
          "data": {
            "text/plain": [
              "tensor([ 1.,  2.,  0.,  0., -5., -6.])"
            ]
          },
          "metadata": {},
          "execution_count": 3
        }
      ]
    },
    {
      "cell_type": "code",
      "source": [
        "def frozen_linear(weights):\n",
        "  in_dim, out_dim = weights.shape\n",
        "  layer = nn.Linear(in_dim, out_dim, bias=False)\n",
        "  layer.weight = nn.Parameter(weights, requires_grad=False)\n",
        "  return layer"
      ],
      "metadata": {
        "id": "BCG0lf5sWg23"
      },
      "execution_count": 4,
      "outputs": []
    },
    {
      "cell_type": "code",
      "source": [
        "def polyhedral_cone_module(generators, linear_mask=None, nonneg_activation=nn.ReLU):\n",
        "  generators = generators / torch.linalg.vector_norm(generators, dim=0, keepdim=True)\n",
        "  return nn.Sequential(\n",
        "  \tMaskedActivation(linear_mask, nonneg_activation),\n",
        "    frozen_linear(generators)\n",
        "  )"
      ],
      "metadata": {
        "id": "HAL_enyjZQaj"
      },
      "execution_count": 5,
      "outputs": []
    },
    {
      "cell_type": "markdown",
      "source": [
        "# Nondecreasing polyheral activation"
      ],
      "metadata": {
        "id": "TIusjbagZaAL"
      }
    },
    {
      "cell_type": "code",
      "source": [
        "def nondecreasing_module(n):\n",
        "  generators = torch.tril(torch.ones(n, n)) # the matrix of ones under the diagonal\n",
        "  linear_mask = torch.zeros(n, dtype=bool)\n",
        "  linear_mask[0] = True\n",
        "  return polyhedral_cone_module(generators, linear_mask)"
      ],
      "metadata": {
        "id": "nRwoDJ8cXEQQ"
      },
      "execution_count": 6,
      "outputs": []
    },
    {
      "cell_type": "code",
      "source": [
        "n = 8\n",
        "mod = nondecreasing_module(n)\n",
        "\n",
        "torch.manual_seed(42)\n",
        "print(mod(torch.randn(n)))\n",
        "print(mod(torch.randn(n)))\n",
        "print(mod(torch.randn(n)))"
      ],
      "metadata": {
        "colab": {
          "base_uri": "https://localhost:8080/"
        },
        "id": "kJbHdM99X7OH",
        "outputId": "1c27950b-95d8-48db-c32a-6353a6a1b0a7"
      },
      "execution_count": 7,
      "outputs": [
        {
          "output_type": "stream",
          "name": "stdout",
          "text": [
            "tensor([0.1190, 0.1677, 0.2634, 0.3665, 0.3665, 0.3665, 1.9279, 1.9279])\n",
            "tensor([0.1632, 0.2643, 0.4826, 0.8446, 1.3997, 1.3997, 1.3997, 2.3577])\n",
            "tensor([0.4674, 0.7763, 0.7763, 0.7763, 1.4526, 1.8488, 1.8488, 2.6438])\n"
          ]
        }
      ]
    },
    {
      "cell_type": "code",
      "source": [
        "import numpy as np\n",
        "import cdd\n",
        "\n",
        "def make_cdd_cone(A):\n",
        "  \"\"\"Creates a libcdd polyhedral cone given the matrix describing the inequalities A x ≥ 0. \"\"\"\n",
        "  # define the RHS of the inequalities. In our case - everything is ≥ 0\n",
        "  b = np.zeros((A.shape[0], 1))\n",
        "\n",
        "  # the library operates assuming we describe inequalities in the form:\n",
        "  #    b + A x ≥ 0\n",
        "  # and expects b and A to be concatenated into one big matrix.\n",
        "  Ab = np.hstack([b, A])\n",
        "\n",
        "  # create and print the polyhedral cone object\n",
        "  mat = cdd.matrix_from_array(Ab, rep_type=cdd.RepType.INEQUALITY)\n",
        "  poly = cdd.polyhedron_from_matrix(mat)\n",
        "  return poly\n",
        "\n",
        "# polyhedral cone for non-decreasing sequences:\n",
        "cone = make_cdd_cone(np.array(\n",
        "    [[-1,  1,  0,  0,  0,  0,  0,  0],\n",
        "     [ 0, -1,  1,  0,  0,  0,  0,  0],\n",
        "     [ 0,  0, -1,  1,  0,  0,  0,  0],\n",
        "     [ 0,  0,  0, -1,  1,  0,  0,  0],\n",
        "     [ 0,  0,  0,  0, -1,  1,  0,  0],\n",
        "     [ 0,  0,  0,  0,  0, -1,  1,  0],\n",
        "     [ 0,  0,  0,  0,  0,  0, -1,  1]]))\n",
        "print(cone)"
      ],
      "metadata": {
        "colab": {
          "base_uri": "https://localhost:8080/"
        },
        "id": "qN2Ek2H7pRXz",
        "outputId": "2954615e-4d9a-4500-e1f6-b3aa4af7256f"
      },
      "execution_count": 8,
      "outputs": [
        {
          "output_type": "stream",
          "name": "stdout",
          "text": [
            "begin\n",
            " 7 9 real\n",
            "  0 -1  1  0  0  0  0  0  0\n",
            "  0  0 -1  1  0  0  0  0  0\n",
            "  0  0  0 -1  1  0  0  0  0\n",
            "  0  0  0  0 -1  1  0  0  0\n",
            "  0  0  0  0  0 -1  1  0  0\n",
            "  0  0  0  0  0  0 -1  1  0\n",
            "  0  0  0  0  0  0  0 -1  1\n",
            "end\n"
          ]
        }
      ]
    },
    {
      "cell_type": "code",
      "source": [
        "generators = cdd.copy_generators(cone)\n",
        "print(generators)"
      ],
      "metadata": {
        "colab": {
          "base_uri": "https://localhost:8080/"
        },
        "id": "hRR6LoOsrYbi",
        "outputId": "ef2bbb1a-838e-422f-91ce-b0a1401c1565"
      },
      "execution_count": 9,
      "outputs": [
        {
          "output_type": "stream",
          "name": "stdout",
          "text": [
            "V-representation\n",
            "linearity 1  8\n",
            "begin\n",
            " 8 9 real\n",
            "  0 -1  0  0  0  0  0  0  0\n",
            "  0 -1 -1  0  0  0  0  0  0\n",
            "  0 -1 -1 -1  0  0  0  0  0\n",
            "  0 -1 -1 -1 -1  0  0  0  0\n",
            "  0 -1 -1 -1 -1 -1  0  0  0\n",
            "  0 -1 -1 -1 -1 -1 -1  0  0\n",
            "  0 -1 -1 -1 -1 -1 -1 -1  0\n",
            "  0  1  1  1  1  1  1  1  1\n",
            "end\n"
          ]
        }
      ]
    },
    {
      "cell_type": "code",
      "source": [
        "def print_generators(cone):\n",
        "  generators = cdd.copy_generators(cone)\n",
        "  print('Linear generators: ', generators.lin_set)\n",
        "  print('Generator matrix: ')\n",
        "  gen_mat = np.array(generators.array)\n",
        "  gen_mat = gen_mat[:, 1:] # discard the first column of zeros\n",
        "  gen_mat = gen_mat.T\n",
        "  print(gen_mat)\n",
        "\n",
        "print_generators(cone)"
      ],
      "metadata": {
        "colab": {
          "base_uri": "https://localhost:8080/"
        },
        "id": "TJLMI0sK8UzB",
        "outputId": "64bb534c-50f5-42b4-f124-8d819c22d451"
      },
      "execution_count": 10,
      "outputs": [
        {
          "output_type": "stream",
          "name": "stdout",
          "text": [
            "Linear generators:  {7}\n",
            "Generator matrix: \n",
            "[[-1. -1. -1. -1. -1. -1. -1.  1.]\n",
            " [ 0. -1. -1. -1. -1. -1. -1.  1.]\n",
            " [ 0.  0. -1. -1. -1. -1. -1.  1.]\n",
            " [ 0.  0.  0. -1. -1. -1. -1.  1.]\n",
            " [ 0.  0.  0.  0. -1. -1. -1.  1.]\n",
            " [ 0.  0.  0.  0.  0. -1. -1.  1.]\n",
            " [ 0.  0.  0.  0.  0.  0. -1.  1.]\n",
            " [ 0.  0.  0.  0.  0.  0.  0.  1.]]\n"
          ]
        }
      ]
    },
    {
      "cell_type": "markdown",
      "source": [
        "# Nonincreasing polyhedral activation"
      ],
      "metadata": {
        "id": "7OPDS-U_3-97"
      }
    },
    {
      "cell_type": "code",
      "source": [
        "# print generators for non-increasing sequences\n",
        "# note - the matrix is exactly the negated matrix of non-decreasing sequences\n",
        "# we used above.\n",
        "cone = print_generators(make_cdd_cone(np.array(\n",
        "    [[1,  -1,  0,  0,  0,  0,  0,  0],\n",
        "     [ 0, 1,  -1,  0,  0,  0,  0,  0],\n",
        "     [ 0,  0, 1,  -1,  0,  0,  0,  0],\n",
        "     [ 0,  0,  0, 1,  -1,  0,  0,  0],\n",
        "     [ 0,  0,  0,  0, 1,  -1,  0,  0],\n",
        "     [ 0,  0,  0,  0,  0, 1,  -1,  0],\n",
        "     [ 0,  0,  0,  0,  0,  0, 1,  -1]])))"
      ],
      "metadata": {
        "colab": {
          "base_uri": "https://localhost:8080/"
        },
        "id": "i8FwaeemKAEd",
        "outputId": "f05da987-12d3-4114-a439-5b604b0ce4c1"
      },
      "execution_count": 11,
      "outputs": [
        {
          "output_type": "stream",
          "name": "stdout",
          "text": [
            "Linear generators:  {7}\n",
            "Generator matrix: \n",
            "[[1. 1. 1. 1. 1. 1. 1. 1.]\n",
            " [0. 1. 1. 1. 1. 1. 1. 1.]\n",
            " [0. 0. 1. 1. 1. 1. 1. 1.]\n",
            " [0. 0. 0. 1. 1. 1. 1. 1.]\n",
            " [0. 0. 0. 0. 1. 1. 1. 1.]\n",
            " [0. 0. 0. 0. 0. 1. 1. 1.]\n",
            " [0. 0. 0. 0. 0. 0. 1. 1.]\n",
            " [0. 0. 0. 0. 0. 0. 0. 1.]]\n"
          ]
        }
      ]
    },
    {
      "cell_type": "code",
      "source": [
        "def nonincreasing_module(n):\n",
        "  generators = torch.triu(torch.ones(n, n))\n",
        "\n",
        "  linear_mask = torch.zeros(n, dtype=bool)\n",
        "  linear_mask[n-1] = True # the last generator is linear\n",
        "\n",
        "  return polyhedral_cone_module(generators, linear_mask)"
      ],
      "metadata": {
        "id": "DZZE26-tP4Ow"
      },
      "execution_count": 12,
      "outputs": []
    },
    {
      "cell_type": "code",
      "source": [
        "n = 8\n",
        "mod = nonincreasing_module(n)\n",
        "\n",
        "torch.manual_seed(42)\n",
        "print(mod(torch.randn(n)))\n",
        "print(mod(torch.randn(n)))\n",
        "print(mod(torch.randn(n)))"
      ],
      "metadata": {
        "colab": {
          "base_uri": "https://localhost:8080/"
        },
        "id": "7vdWrWhCP5eB",
        "outputId": "008695c9-ce7c-4ed1-b97c-42e1dcf92699"
      },
      "execution_count": 13,
      "outputs": [
        {
          "output_type": "stream",
          "name": "stdout",
          "text": [
            "tensor([ 1.2874,  0.9507,  0.8596,  0.7242,  0.6091,  0.6091,  0.6091, -0.2256])\n",
            "tensor([2.1994, 1.7378, 1.5487, 1.2399, 0.8352, 0.3387, 0.3387, 0.3387])\n",
            "tensor([3.0661, 1.7440, 1.1661, 1.1661, 1.1661, 0.5613, 0.2811, 0.2811])\n"
          ]
        }
      ]
    },
    {
      "cell_type": "markdown",
      "source": [
        "# Convex sequences\n",
        "\n"
      ],
      "metadata": {
        "id": "ZqHQUpTx9E9Z"
      }
    },
    {
      "cell_type": "code",
      "source": [
        "# print generators for a convex sequence\n",
        "cone = print_generators(make_cdd_cone(np.array(\n",
        "    [[1,  -2,  1,  0,  0,  0,  0,  0],\n",
        "     [ 0, 1,  -2,  1,  0,  0,  0,  0],\n",
        "     [ 0,  0, 1,  -2,  1,  0,  0,  0],\n",
        "     [ 0,  0,  0, 1,  -2,  1,  0,  0],\n",
        "     [ 0,  0,  0,  0, 1,  -2,  1,  0],\n",
        "     [ 0,  0,  0,  0,  0, 1,  -2,  1]])))"
      ],
      "metadata": {
        "colab": {
          "base_uri": "https://localhost:8080/"
        },
        "id": "YbrnNxI_9Dya",
        "outputId": "97fdcdf3-2653-4bdf-8f2f-1de4c26d09e9"
      },
      "execution_count": 14,
      "outputs": [
        {
          "output_type": "stream",
          "name": "stdout",
          "text": [
            "Linear generators:  {6, 7}\n",
            "Generator matrix: \n",
            "[[ 1.  2.  3.  4.  5.  6.  7. -6.]\n",
            " [ 0.  1.  2.  3.  4.  5.  6. -5.]\n",
            " [ 0.  0.  1.  2.  3.  4.  5. -4.]\n",
            " [ 0.  0.  0.  1.  2.  3.  4. -3.]\n",
            " [ 0.  0.  0.  0.  1.  2.  3. -2.]\n",
            " [ 0.  0.  0.  0.  0.  1.  2. -1.]\n",
            " [ 0.  0.  0.  0.  0.  0.  1.  0.]\n",
            " [ 0.  0.  0.  0.  0.  0.  0.  1.]]\n"
          ]
        }
      ]
    },
    {
      "cell_type": "markdown",
      "source": [
        "Convex sequence generator pattern\n",
        "$$\n",
        "\\left(\n",
        "\\begin{array}{ccccc|c}\n",
        "1 & 2 & 3 & \\dots & n - 1 & -(n - 2) \\\\\n",
        "0 & 1 & 2 & \\dots & n - 2 & -(n - 3) \\\\\n",
        "\\vdots & \\ddots & \\ddots & 1 & 2 & -1 \\\\\n",
        "0 & 0 & \\dots & 0 & 1 & 0 \\\\\n",
        "\\hline\n",
        "0 & 0 & \\dots & 0 & 0 & 1\n",
        "\\end{array}\n",
        "\\right)\n",
        "$$\n",
        "The top-left block is a triangular matrix of arithmetic progressions. The top-right block is a column of increasing numbers from $-(n-2)$ up to $0$. The bottom-left block is zeros, and the bottom-right block is a one. Overall, the matrix is a square $n \\times n$ matrix."
      ],
      "metadata": {
        "id": "cTP4geE_9d_v"
      }
    },
    {
      "cell_type": "code",
      "source": [
        "def make_convex_generators(n):\n",
        "  top_left = torch.cumsum(torch.triu(torch.ones((n - 1, n - 1))), dim=1)\n",
        "  top_right = torch.arange(-(n-2), 1).reshape(-1, 1)\n",
        "  top = torch.cat([top_left, top_right], dim=1)\n",
        "\n",
        "  bottom_left = torch.zeros((1, n - 1))\n",
        "  bottom_right = torch.ones((1, 1))\n",
        "  bottom = torch.cat([bottom_left, bottom_right], dim=1)\n",
        "\n",
        "  generators = torch.cat([top, bottom], dim=0)\n",
        "  return generators\n",
        "\n",
        "make_convex_generators(8)"
      ],
      "metadata": {
        "colab": {
          "base_uri": "https://localhost:8080/"
        },
        "id": "jBCcs83S9cXj",
        "outputId": "ecab4819-46e1-4921-e482-e768382727de"
      },
      "execution_count": 15,
      "outputs": [
        {
          "output_type": "execute_result",
          "data": {
            "text/plain": [
              "tensor([[ 1.,  2.,  3.,  4.,  5.,  6.,  7., -6.],\n",
              "        [ 0.,  1.,  2.,  3.,  4.,  5.,  6., -5.],\n",
              "        [ 0.,  0.,  1.,  2.,  3.,  4.,  5., -4.],\n",
              "        [ 0.,  0.,  0.,  1.,  2.,  3.,  4., -3.],\n",
              "        [ 0.,  0.,  0.,  0.,  1.,  2.,  3., -2.],\n",
              "        [ 0.,  0.,  0.,  0.,  0.,  1.,  2., -1.],\n",
              "        [ 0.,  0.,  0.,  0.,  0.,  0.,  1.,  0.],\n",
              "        [ 0.,  0.,  0.,  0.,  0.,  0.,  0.,  1.]])"
            ]
          },
          "metadata": {},
          "execution_count": 15
        }
      ]
    },
    {
      "cell_type": "code",
      "source": [
        "def convex_module(n):\n",
        "  generators = make_convex_generators(n)\n",
        "  linear_mask = torch.zeros(n, dtype=bool)\n",
        "  linear_mask[-2:] = True\n",
        "  return polyhedral_cone_module(generators, linear_mask)"
      ],
      "metadata": {
        "id": "jmI_Nh6mBxCu"
      },
      "execution_count": 16,
      "outputs": []
    },
    {
      "cell_type": "code",
      "source": [
        "import matplotlib.pyplot as plt\n",
        "\n",
        "n = 32\n",
        "layer = convex_module(n)\n",
        "\n",
        "torch.manual_seed(56)\n",
        "for i in range(6):\n",
        "  t = torch.randn(n)\n",
        "  plt.plot(layer(t))\n",
        "plt.show()"
      ],
      "metadata": {
        "colab": {
          "base_uri": "https://localhost:8080/",
          "height": 430
        },
        "id": "bybNOGGkCN3s",
        "outputId": "0d17ea54-1513-4531-adfa-c9bf8a0519be"
      },
      "execution_count": 17,
      "outputs": [
        {
          "output_type": "display_data",
          "data": {
            "text/plain": [
              "<Figure size 640x480 with 1 Axes>"
            ],
            "image/png": "[encoded data removed]"
          },
          "metadata": {}
        }
      ]
    },
    {
      "cell_type": "code",
      "source": [
        "t = (torch.linspace(-1, 1, n)).square()\n",
        "t[-1] = n / 2\n",
        "t[-2] = -n / 2\n",
        "plt.plot(layer(t))"
      ],
      "metadata": {
        "colab": {
          "base_uri": "https://localhost:8080/",
          "height": 447
        },
        "id": "P5xZ6diAUPR3",
        "outputId": "b6743894-783b-4439-87d9-5efe5cc6bc86"
      },
      "execution_count": 18,
      "outputs": [
        {
          "output_type": "execute_result",
          "data": {
            "text/plain": [
              "[<matplotlib.lines.Line2D at 0x7ddb9d6b2830>]"
            ]
          },
          "metadata": {},
          "execution_count": 18
        },
        {
          "output_type": "display_data",
          "data": {
            "text/plain": [
              "<Figure size 640x480 with 1 Axes>"
            ],
            "image/png": "[encoded data removed]"
          },
          "metadata": {}
        }
      ]
    },
    {
      "cell_type": "markdown",
      "source": [
        "# Concave sequences"
      ],
      "metadata": {
        "id": "QnlS5mhbNw5h"
      }
    },
    {
      "cell_type": "code",
      "source": [
        "# print generators for a convex sequence\n",
        "cone = print_generators(make_cdd_cone(np.array(\n",
        "    [[-1,  2,  -1,  0,  0,  0,  0,  0],\n",
        "     [ 0, -1,  2,  -1,  0,  0,  0,  0],\n",
        "     [ 0,  0, -1,  2,  -1,  0,  0,  0],\n",
        "     [ 0,  0,  0, -1,  2,  -1,  0,  0],\n",
        "     [ 0,  0,  0,  0, -1,  2,  -1,  0],\n",
        "     [ 0,  0,  0,  0,  0, -1,  2,  -1]])))"
      ],
      "metadata": {
        "colab": {
          "base_uri": "https://localhost:8080/"
        },
        "id": "lWetzG_cNy9t",
        "outputId": "15ac9895-dec7-4aae-ac89-d88fa62326fb"
      },
      "execution_count": 19,
      "outputs": [
        {
          "output_type": "stream",
          "name": "stdout",
          "text": [
            "Linear generators:  {6, 7}\n",
            "Generator matrix: \n",
            "[[-1. -2. -3. -4. -5. -6.  7. -6.]\n",
            " [ 0. -1. -2. -3. -4. -5.  6. -5.]\n",
            " [ 0.  0. -1. -2. -3. -4.  5. -4.]\n",
            " [ 0.  0.  0. -1. -2. -3.  4. -3.]\n",
            " [ 0.  0.  0.  0. -1. -2.  3. -2.]\n",
            " [ 0.  0.  0.  0.  0. -1.  2. -1.]\n",
            " [ 0.  0.  0.  0.  0.  0.  1.  0.]\n",
            " [ 0.  0.  0.  0.  0.  0.  0.  1.]]\n"
          ]
        }
      ]
    },
    {
      "cell_type": "code",
      "source": [
        "def make_concave_generators(n):\n",
        "  top_left = torch.cumsum(torch.triu(torch.ones((n - 1, n - 1))), dim=1)\n",
        "  top_right = torch.arange(-(n-2), 1).reshape(-1, 1)\n",
        "  top = torch.cat([top_left, top_right], dim=1)\n",
        "\n",
        "  bottom_left = torch.zeros((1, n - 1))\n",
        "  bottom_right = torch.ones((1, 1))\n",
        "  bottom = torch.cat([bottom_left, bottom_right], dim=1)\n",
        "\n",
        "  mat = torch.cat([top, bottom], dim=0)\n",
        "  mat[:n-2, :n-2] *= -1\n",
        "  return mat\n",
        "\n",
        "make_concave_generators(8)"
      ],
      "metadata": {
        "colab": {
          "base_uri": "https://localhost:8080/"
        },
        "id": "voGPixFEOMKy",
        "outputId": "3ef88a15-19f3-4f83-a658-e52874ad2c95"
      },
      "execution_count": 20,
      "outputs": [
        {
          "output_type": "execute_result",
          "data": {
            "text/plain": [
              "tensor([[-1., -2., -3., -4., -5., -6.,  7., -6.],\n",
              "        [-0., -1., -2., -3., -4., -5.,  6., -5.],\n",
              "        [-0., -0., -1., -2., -3., -4.,  5., -4.],\n",
              "        [-0., -0., -0., -1., -2., -3.,  4., -3.],\n",
              "        [-0., -0., -0., -0., -1., -2.,  3., -2.],\n",
              "        [-0., -0., -0., -0., -0., -1.,  2., -1.],\n",
              "        [ 0.,  0.,  0.,  0.,  0.,  0.,  1.,  0.],\n",
              "        [ 0.,  0.,  0.,  0.,  0.,  0.,  0.,  1.]])"
            ]
          },
          "metadata": {},
          "execution_count": 20
        }
      ]
    },
    {
      "cell_type": "code",
      "source": [
        "def concave_module(n):\n",
        "  generators = make_concave_generators(n)\n",
        "  linear_mask = torch.zeros(n, dtype=bool)\n",
        "  linear_mask[-2:] = True\n",
        "  return polyhedral_cone_module(generators, linear_mask)"
      ],
      "metadata": {
        "id": "AQI8nkyGObWO"
      },
      "execution_count": 21,
      "outputs": []
    },
    {
      "cell_type": "code",
      "source": [
        "n = 32\n",
        "layer = concave_module(n)\n",
        "\n",
        "torch.manual_seed(42)\n",
        "for i in range(10):\n",
        "  t = torch.randn(n)\n",
        "  plt.plot(layer(t))\n",
        "plt.show()"
      ],
      "metadata": {
        "colab": {
          "base_uri": "https://localhost:8080/",
          "height": 430
        },
        "id": "hWH99W-_OjS2",
        "outputId": "ebc18a81-57be-4927-8b7d-ba2fa52d3dcf"
      },
      "execution_count": 22,
      "outputs": [
        {
          "output_type": "display_data",
          "data": {
            "text/plain": [
              "<Figure size 640x480 with 1 Axes>"
            ],
            "image/png": "[encoded data removed]"
          },
          "metadata": {}
        }
      ]
    },
    {
      "cell_type": "markdown",
      "source": [
        "# Concave increasing increasing"
      ],
      "metadata": {
        "id": "Mib-1irFO9gb"
      }
    },
    {
      "cell_type": "code",
      "source": [
        "# print generators for concave non-decreasing sequences\n",
        "print_generators(make_cdd_cone(np.array(\n",
        "    [[-1,  2,  -1,  0,  0,  0,  0,  0],\n",
        "     [ 0, -1,  2,  -1,  0,  0,  0,  0],\n",
        "     [ 0,  0, -1,  2,  -1,  0,  0,  0],\n",
        "     [ 0,  0,  0, -1,  2,  -1,  0,  0],\n",
        "     [ 0,  0,  0,  0, -1,  2,  -1,  0],\n",
        "     [ 0,  0,  0,  0,  0, -1,  2,  -1],\n",
        "     [-1,  1,  0,  0,  0,  0,  0,   0],\n",
        "     [ 0, -1,  1,  0,  0,  0,  0,   0],\n",
        "     [ 0,  0, -1,  1,  0,  0,  0,   0],\n",
        "     [ 0,  0,  0, -1,  1,  0,  0,   0],\n",
        "     [ 0,  0,  0,  0, -1,  1,  0,   0],\n",
        "     [ 0,  0,  0,  0,  0, -1,  1,   0],\n",
        "     [ 0,  0,  0,  0,  0,  0, -1,   1]]\n",
        "    )))"
      ],
      "metadata": {
        "colab": {
          "base_uri": "https://localhost:8080/"
        },
        "id": "cRJzrrBrO80l",
        "outputId": "76793414-43a8-4352-b64f-9be3c0a315e7"
      },
      "execution_count": 23,
      "outputs": [
        {
          "output_type": "stream",
          "name": "stdout",
          "text": [
            "Linear generators:  {7}\n",
            "Generator matrix: \n",
            "[[-7. -6. -5. -4. -3. -2. -1.  1.]\n",
            " [-6. -5. -4. -3. -2. -1.  0.  1.]\n",
            " [-5. -4. -3. -2. -1.  0.  0.  1.]\n",
            " [-4. -3. -2. -1.  0.  0.  0.  1.]\n",
            " [-3. -2. -1.  0.  0.  0.  0.  1.]\n",
            " [-2. -1.  0.  0.  0.  0.  0.  1.]\n",
            " [-1.  0.  0.  0.  0.  0.  0.  1.]\n",
            " [ 0.  0.  0.  0.  0.  0.  0.  1.]]\n"
          ]
        }
      ]
    },
    {
      "cell_type": "code",
      "source": [
        "def concave_nondecreasing_generators(n):\n",
        "  generators = -torch.ones(n, n).triu(1).cumsum(dim=1).fliplr()\n",
        "  generators[:, -1] = torch.ones(n)\n",
        "  return generators\n",
        "\n",
        "concave_nondecreasing_generators(8)"
      ],
      "metadata": {
        "colab": {
          "base_uri": "https://localhost:8080/"
        },
        "id": "h9ZPlOZnQ1Up",
        "outputId": "5edfcdcf-5d30-4fb5-92d7-343541ffb96a"
      },
      "execution_count": 24,
      "outputs": [
        {
          "output_type": "execute_result",
          "data": {
            "text/plain": [
              "tensor([[-7., -6., -5., -4., -3., -2., -1.,  1.],\n",
              "        [-6., -5., -4., -3., -2., -1., -0.,  1.],\n",
              "        [-5., -4., -3., -2., -1., -0., -0.,  1.],\n",
              "        [-4., -3., -2., -1., -0., -0., -0.,  1.],\n",
              "        [-3., -2., -1., -0., -0., -0., -0.,  1.],\n",
              "        [-2., -1., -0., -0., -0., -0., -0.,  1.],\n",
              "        [-1., -0., -0., -0., -0., -0., -0.,  1.],\n",
              "        [-0., -0., -0., -0., -0., -0., -0.,  1.]])"
            ]
          },
          "metadata": {},
          "execution_count": 24
        }
      ]
    },
    {
      "cell_type": "code",
      "source": [
        "def concave_nondecreasing_cone_module(n):\n",
        "  generators = concave_nondecreasing_generators(n)\n",
        "  linear_mask = torch.zeros(n, dtype=bool)\n",
        "  linear_mask[-1] = True\n",
        "  return polyhedral_cone_module(generators, linear_mask)"
      ],
      "metadata": {
        "id": "cqw21TW0Scn9"
      },
      "execution_count": 25,
      "outputs": []
    },
    {
      "cell_type": "code",
      "source": [
        "n = 32\n",
        "layer = concave_nondecreasing_cone_module(n)\n",
        "\n",
        "torch.manual_seed(42)\n",
        "for i in range(10):\n",
        "  t = torch.randn(n)\n",
        "  plt.plot(layer(t))\n",
        "plt.show()"
      ],
      "metadata": {
        "colab": {
          "base_uri": "https://localhost:8080/",
          "height": 430
        },
        "id": "qWeBeWq6Sgvx",
        "outputId": "73a14965-5cb3-4254-92e3-0de770a3f538"
      },
      "execution_count": 26,
      "outputs": [
        {
          "output_type": "display_data",
          "data": {
            "text/plain": [
              "<Figure size 640x480 with 1 Axes>"
            ],
            "image/png": "[encoded data removed]"
          },
          "metadata": {}
        }
      ]
    },
    {
      "cell_type": "markdown",
      "source": [
        "# Bernstein shape-constrained module"
      ],
      "metadata": {
        "id": "WOKV_2FXGLbT"
      }
    },
    {
      "cell_type": "code",
      "source": [
        "def log_binom_coef(n: torch.Tensor, k: torch.Tensor):\n",
        "  return (\n",
        "      torch.lgamma(n + 1)\n",
        "      - torch.lgamma(k + 1)\n",
        "      - torch.lgamma(n - k + 1)\n",
        "  )"
      ],
      "metadata": {
        "id": "Oaaq9C11qxsl"
      },
      "execution_count": 27,
      "outputs": []
    },
    {
      "cell_type": "code",
      "source": [
        "n = torch.tensor(5)\n",
        "k = torch.arange(6)\n",
        "print(log_binom_coef(n, k).exp())"
      ],
      "metadata": {
        "colab": {
          "base_uri": "https://localhost:8080/"
        },
        "id": "gHQS1LW_48U4",
        "outputId": "8d0107f3-f8fd-4498-d1c3-45b78dd93d95"
      },
      "execution_count": 28,
      "outputs": [
        {
          "output_type": "stream",
          "name": "stdout",
          "text": [
            "tensor([ 1.,  5., 10., 10.,  5.,  1.])\n"
          ]
        }
      ]
    },
    {
      "cell_type": "code",
      "source": [
        "def bernstein_basis(degree: int, z: torch.Tensor):\n",
        "  \"\"\"\n",
        "  Computes a matrix containing the Bernstein basis of a given degree, where\n",
        "  each row corresponds to an entry in the input tensor `z`.\n",
        "  \"\"\"\n",
        "\n",
        "  # entries of `z` in rows, and basis indices in columns\n",
        "  z = z.view(-1, 1)\n",
        "  ks = torch.arange(degree + 1, device=z.device).view(1, -1)\n",
        "\n",
        "  # degree in a tensor to call log_binom_coef\n",
        "  degree_tensor = torch.as_tensor(degree, device=z.device)\n",
        "\n",
        "  # now we compute the Bernstein basis by definition\n",
        "  binom_coef = torch.exp(log_binom_coef(degree_tensor, ks))\n",
        "  return binom_coef * (z ** ks) * ((1 - z) ** (degree_tensor - ks))"
      ],
      "metadata": {
        "id": "qtlBP5rB_V8N"
      },
      "execution_count": 29,
      "outputs": []
    },
    {
      "cell_type": "code",
      "source": [
        "from torch import nn\n",
        "\n",
        "class BernsteinPolynomialModel(nn.Module):\n",
        "  def __init__(self, x_model, coef_transformer):\n",
        "    super().__init__()\n",
        "    self.x_model = x_model\n",
        "    self.coef_transformer = coef_transformer\n",
        "\n",
        "  def forward(self, x, z):\n",
        "    coefs = self.coef_transformer(self.x_model(x))\n",
        "    degree = coefs.shape[-1] - 1\n",
        "    basis = bernstein_basis(degree, z)\n",
        "    return torch.sum(coefs * basis, dim=-1)"
      ],
      "metadata": {
        "id": "GO9oU6AuFE8b"
      },
      "execution_count": 30,
      "outputs": []
    },
    {
      "cell_type": "markdown",
      "source": [
        "# Fitting concave nondecreasing function"
      ],
      "metadata": {
        "id": "ENi_kNUXuPBZ"
      }
    },
    {
      "cell_type": "code",
      "source": [
        "import numpy as np\n",
        "\n",
        "def np_softplus(x):\n",
        "  return np.log1p(np.exp(x))\n",
        "\n",
        "def hairy_concave_func(x, z):\n",
        "  x1, x2, x3 = x[..., 0], x[..., 1], x[..., 2]\n",
        "  return np_softplus(x1) * np.sqrt(0.05 + z) - np_softplus(x3) * (z - np.cos(x2) ** 2) ** 2"
      ],
      "metadata": {
        "id": "w9LeQLZiuSi0"
      },
      "execution_count": 31,
      "outputs": []
    },
    {
      "cell_type": "code",
      "source": [
        "import matplotlib.pyplot as plt\n",
        "\n",
        "zs = np.linspace(0, 1, 1000)\n",
        "plt.plot(zs, hairy_concave_func(np.array([-1, 0.1, 0.5]), zs), label='function 1')\n",
        "plt.plot(zs, hairy_concave_func(np.array([1, 0.5, -0.5]), zs), label='function 2')\n",
        "plt.plot(zs, hairy_concave_func(np.array([-1.5, 0.8, 0.1]), zs), label='function 3')\n",
        "plt.legend()\n",
        "plt.show()"
      ],
      "metadata": {
        "colab": {
          "base_uri": "https://localhost:8080/",
          "height": 430
        },
        "id": "-Sbs9aXuuQ5y",
        "outputId": "e4af3179-03cc-4125-debb-f2e88489e8af"
      },
      "execution_count": 32,
      "outputs": [
        {
          "output_type": "display_data",
          "data": {
            "text/plain": [
              "<Figure size 640x480 with 1 Axes>"
            ],
            "image/png": "[encoded data removed]"
          },
          "metadata": {}
        }
      ]
    },
    {
      "cell_type": "code",
      "source": [
        "def make_model(layer_dims, constrained=True):\n",
        "  # create a fully connected ReLU network\n",
        "  layers = [\n",
        "      layer\n",
        "      for in_dim, out_dim in zip(layer_dims[:-1], layer_dims[1:])\n",
        "      for layer in [nn.Linear(in_dim, out_dim), nn.ReLU()]\n",
        "  ]\n",
        "\n",
        "  if constrained:\n",
        "    # define a model for x\n",
        "    x_model = nn.Sequential(*layers[:-1])\n",
        "\n",
        "    # construct a network for predicting non-decreasing functions\n",
        "    # the polynomial degree is the output dimension of the last\n",
        "    # layer.\n",
        "    return BernsteinPolynomialModel(\n",
        "        x_model,\n",
        "        concave_module(layer_dims[-1])\n",
        "    )\n",
        "  else:\n",
        "    layers.append(nn.Linear(layer_dims[-1], 1))\n",
        "    return nn.Sequential(*layers)"
      ],
      "metadata": {
        "id": "ETMahUrMuYSx"
      },
      "execution_count": 33,
      "outputs": []
    },
    {
      "cell_type": "code",
      "source": [
        "from tqdm.auto import tqdm\n",
        "\n",
        "def train_epoch(data_iter, model, loss_fn, optim, constrained):\n",
        "  for x, z, label in data_iter:\n",
        "    if constrained:\n",
        "      pred = model(x, z)\n",
        "    else:\n",
        "      pred = model(torch.cat([x, z.reshape(-1, 1)], dim=-1)).squeeze()\n",
        "    loss = loss_fn(pred, label)\n",
        "\n",
        "    optim.zero_grad()\n",
        "    loss.backward()\n",
        "    optim.step()\n",
        "\n",
        "\n",
        "@torch.no_grad()\n",
        "def evaluate_epoch(data_iter, model, loss_fn, constrained):\n",
        "  epoch_loss = 0.\n",
        "  num_samples = 0\n",
        "  for x, z, label in data_iter:\n",
        "    if constrained:\n",
        "      pred = model(x, z)\n",
        "    else:\n",
        "      pred = model(torch.cat([x, z.reshape(-1, 1)], dim=-1)).squeeze()\n",
        "    loss = loss_fn(pred, label)\n",
        "    epoch_loss += loss * label.size(0)\n",
        "    num_samples += label.size(0)\n",
        "  return epoch_loss.cpu().item() / num_samples\n",
        "\n",
        "\n",
        "def train_model(train_iter, valid_iter, layer_dims, constrained=True,\n",
        "                optim_fn=torch.optim.SGD, optim_params=None, num_epochs=100):\n",
        "  if optim_params is None:\n",
        "    optim_params = {}\n",
        "\n",
        "  torch.manual_seed(2024)\n",
        "  model = make_model(layer_dims, constrained=constrained)\n",
        "  optim = optim_fn(model.parameters(), **optim_params)\n",
        "  loss_fn = nn.MSELoss()\n",
        "\n",
        "  if torch.cuda.is_available():\n",
        "    model = model.cuda()\n",
        "\n",
        "  with tqdm(range(num_epochs)) as epoch_range:\n",
        "    for epoch in epoch_range:\n",
        "      train_epoch(train_iter, model, loss_fn, optim, constrained)\n",
        "      epoch_loss = evaluate_epoch(valid_iter, model, loss_fn, constrained)\n",
        "      epoch_range.set_description(f'Validation loss = {epoch_loss:.5f}')\n",
        "  return model, epoch_loss"
      ],
      "metadata": {
        "id": "oDUFrpDe2oXe"
      },
      "execution_count": 34,
      "outputs": []
    },
    {
      "cell_type": "code",
      "source": [
        "def generate_dataset(n_rows, noise=0.02, mean=0, std=1):\n",
        "  xs = std * np.random.randn(n_rows, 3) + mean\n",
        "  zs = np.random.rand(n_rows)\n",
        "  labels = hairy_concave_func(xs, zs) + np.random.randn(n_rows) * noise\n",
        "\n",
        "  xs = torch.as_tensor(xs).to(dtype=torch.float32)\n",
        "  zs = torch.as_tensor(zs).to(dtype=torch.float32)\n",
        "  labels = torch.as_tensor(labels).to(dtype=torch.float32)\n",
        "  if torch.cuda.is_available():\n",
        "    xs = xs.cuda()\n",
        "    zs = zs.cuda()\n",
        "    labels = labels.cuda()\n",
        "\n",
        "  return xs, zs, labels"
      ],
      "metadata": {
        "id": "W8TNX1OxUhxq"
      },
      "execution_count": 35,
      "outputs": []
    },
    {
      "cell_type": "code",
      "source": [
        "from batch_iter import BatchIter\n",
        "\n",
        "batch_size = 256\n",
        "train_iter = BatchIter(*generate_dataset(50000), batch_size=batch_size)\n",
        "valid_iter = BatchIter(*generate_dataset(10000), batch_size=batch_size)"
      ],
      "metadata": {
        "id": "AcqsjT4GPOic"
      },
      "execution_count": 36,
      "outputs": []
    },
    {
      "cell_type": "code",
      "source": [
        "lr = 1e-3\n",
        "weight_decay = 0.\n",
        "degree = 20\n",
        "layer_dims = [3,\n",
        "              4 * degree,\n",
        "              3 * degree,\n",
        "              2 * degree,\n",
        "              degree]\n",
        "model, val_loss = train_model(\n",
        "    train_iter, valid_iter, layer_dims,\n",
        "    optim_fn=torch.optim.AdamW,\n",
        "    optim_params=dict(lr=lr, weight_decay=weight_decay))\n",
        "model = model.cpu()"
      ],
      "metadata": {
        "colab": {
          "base_uri": "https://localhost:8080/",
          "height": 49,
          "referenced_widgets": [
            "fb460b8f6c594a5089b8b659d3c2bf55",
            "7b19ace5bcf541da86fa936bec4a4aa6",
            "70ecd123111e43a1b8b90082723537d8",
            "825bc34b1ff146d58dae3d33cf06186a",
            "37713a589ea84a74b70719251b15e06b",
            "a8ca6eb7a1e6404a977286754936d625",
            "7e230803f3764313a812f341e597cc8a",
            "0f3d282f57d34d368b2240ba4e582396",
            "6f5defe333f4497192f14722b4a8a887",
            "e1b3fba1858d4d04bc33cb6a798993cf",
            "55078115cffe4954ab5176842b99a232"
          ]
        },
        "id": "eFy66LGceyGR",
        "outputId": "15d2dddb-e0dc-4a84-fb87-31ddb3bd33fd"
      },
      "execution_count": 37,
      "outputs": [
        {
          "output_type": "display_data",
          "data": {
            "text/plain": [
              "  0%|          | 0/100 [00:00<?, ?it/s]"
            ],
            "application/vnd.jupyter.widget-view+json": {
              "version_major": 2,
              "version_minor": 0,
              "model_id": "fb460b8f6c594a5089b8b659d3c2bf55"
            }
          },
          "metadata": {}
        }
      ]
    },
    {
      "cell_type": "code",
      "source": [
        "from functools import partial\n",
        "\n",
        "plot_zs = torch.linspace(0, 1, 100)\n",
        "features = torch.tensor([-1, 0.1, 0.5]).repeat(100, 1)\n",
        "func = partial(model, features)\n",
        "plt.plot(plot_zs, func(plot_zs).detach().numpy(), label='Model function')\n",
        "plt.plot(plot_zs, hairy_concave_func(features.numpy(), plot_zs.numpy()), label='True function')\n",
        "\n",
        "plt.legend()\n",
        "plt.show()"
      ],
      "metadata": {
        "colab": {
          "base_uri": "https://localhost:8080/",
          "height": 430
        },
        "id": "qs-76Q8zPaI3",
        "outputId": "d4f8561e-7bbd-4423-a569-4dd43992af0e"
      },
      "execution_count": 38,
      "outputs": [
        {
          "output_type": "display_data",
          "data": {
            "text/plain": [
              "<Figure size 640x480 with 1 Axes>"
            ],
            "image/png": "[encoded data removed]"
          },
          "metadata": {}
        }
      ]
    },
    {
      "cell_type": "code",
      "source": [
        "features = torch.tensor([-2., -3., -4.]).repeat(100, 1)\n",
        "func = partial(model, features)\n",
        "plt.plot(plot_zs, func(plot_zs).detach().numpy(), label='Model function')\n",
        "plt.plot(plot_zs, hairy_concave_func(features.numpy(), plot_zs.numpy()), label='True function')\n",
        "\n",
        "plt.legend()\n",
        "plt.show()"
      ],
      "metadata": {
        "colab": {
          "base_uri": "https://localhost:8080/",
          "height": 430
        },
        "id": "XEJsu955Sqxk",
        "outputId": "01a0719a-8a12-4249-cf3b-ed26120c7e31"
      },
      "execution_count": 39,
      "outputs": [
        {
          "output_type": "display_data",
          "data": {
            "text/plain": [
              "<Figure size 640x480 with 1 Axes>"
            ],
            "image/png": "[encoded data removed]"
          },
          "metadata": {}
        }
      ]
    },
    {
      "cell_type": "code",
      "source": [
        "lr = 1e-3\n",
        "weight_decay = 0.\n",
        "degree = 10\n",
        "layer_dims = [4,\n",
        "              4 * degree,\n",
        "              3 * degree,\n",
        "              2 * degree,\n",
        "              degree]\n",
        "unconstrained_model, val_loss = train_model(\n",
        "    train_iter, valid_iter, layer_dims, constrained=False,\n",
        "    optim_fn=torch.optim.AdamW,\n",
        "    optim_params=dict(lr=lr, weight_decay=weight_decay))\n",
        "unconstrained_model = unconstrained_model.cpu()"
      ],
      "metadata": {
        "id": "vRUiCd-3TQiT",
        "colab": {
          "base_uri": "https://localhost:8080/",
          "height": 49,
          "referenced_widgets": [
            "dfbddb10bc284f67a8b8d14a9e8b9b66",
            "d1ca40face6a4689ba89e6c3143c9dc7",
            "17f1693cf2594a9dab978941d6ca4770",
            "78e0db96fda541a3b196ccaadb261ede",
            "6f42a0f1b64447d6a81328f805537d2e",
            "3775ad85e8b4408eb29b1fa03a353375",
            "0f96d7f865c4497d84884bf6287b1877",
            "3ebcf49f2769431b94e1b7a275f547ec",
            "8dfe02fd9b7849288a071aedaadbdb55",
            "78462069a48e410093f43cd73b2aa056",
            "7ef3673317b446f9bbb4b2565b5a3681"
          ]
        },
        "outputId": "8ca8b10d-0e13-4287-9b22-15fa590708bb"
      },
      "execution_count": 40,
      "outputs": [
        {
          "output_type": "display_data",
          "data": {
            "text/plain": [
              "  0%|          | 0/100 [00:00<?, ?it/s]"
            ],
            "application/vnd.jupyter.widget-view+json": {
              "version_major": 2,
              "version_minor": 0,
              "model_id": "dfbddb10bc284f67a8b8d14a9e8b9b66"
            }
          },
          "metadata": {}
        }
      ]
    },
    {
      "cell_type": "code",
      "source": [
        "features = torch.cat([\n",
        "    torch.tensor([-1, 0.1, 0.5]).repeat(100, 1),\n",
        "    plot_zs.reshape(-1, 1)\n",
        "], axis=-1)\n",
        "plt.plot(plot_zs, unconstrained_model(features).detach().numpy(), label='Model function')\n",
        "plt.plot(plot_zs, hairy_concave_func(features.numpy(), plot_zs.numpy()), label='True function')\n",
        "\n",
        "plt.legend()\n",
        "plt.show()"
      ],
      "metadata": {
        "colab": {
          "base_uri": "https://localhost:8080/",
          "height": 430
        },
        "id": "w5gP13Iio6ku",
        "outputId": "128229e9-1692-4783-a346-2352bf24f354"
      },
      "execution_count": 41,
      "outputs": [
        {
          "output_type": "display_data",
          "data": {
            "text/plain": [
              "<Figure size 640x480 with 1 Axes>"
            ],
            "image/png": "[encoded data removed]"
          },
          "metadata": {}
        }
      ]
    },
    {
      "cell_type": "code",
      "source": [
        "features = torch.cat([\n",
        "    torch.tensor([-2., -3., -4.]).repeat(100, 1),\n",
        "    plot_zs.reshape(-1, 1)\n",
        "], axis=-1)\n",
        "plt.plot(plot_zs, unconstrained_model(features).detach().numpy(), label='Model function')\n",
        "plt.plot(plot_zs, hairy_concave_func(features.numpy(), plot_zs.numpy()), label='True function')\n",
        "\n",
        "plt.legend()\n",
        "plt.show()"
      ],
      "metadata": {
        "colab": {
          "base_uri": "https://localhost:8080/",
          "height": 430
        },
        "id": "AF9HSRcvo9ni",
        "outputId": "8a698c36-cd8a-40e9-b3e9-0ee936b5280b"
      },
      "execution_count": 42,
      "outputs": [
        {
          "output_type": "display_data",
          "data": {
            "text/plain": [
              "<Figure size 640x480 with 1 Axes>"
            ],
            "image/png": "[encoded data removed]"
          },
          "metadata": {}
        }
      ]
    },
    {
      "cell_type": "code",
      "source": [
        "test_in_dist = BatchIter(*generate_dataset(50000, noise=0, mean=0, std=1), batch_size=batch_size)\n",
        "test_oo_dist = BatchIter(*generate_dataset(50000, noise=0, mean=1, std=2), batch_size=batch_size)"
      ],
      "metadata": {
        "id": "ab6MYym2Qe2J"
      },
      "execution_count": 43,
      "outputs": []
    },
    {
      "cell_type": "code",
      "source": [
        "unconstrained_model = unconstrained_model.cuda()\n",
        "model = model.cuda()\n",
        "loss = nn.MSELoss()\n",
        "\n",
        "print(f'In dist - unconstrained: {evaluate_epoch(test_in_dist, unconstrained_model, loss, constrained=False)}')\n",
        "print(f'In dist - constrained: {evaluate_epoch(test_in_dist, model, loss, constrained=True)}')\n",
        "print(f'Out of dist - unconstrained: {evaluate_epoch(test_oo_dist, unconstrained_model, loss, constrained=False)}')\n",
        "print(f'Out of dist - constrained: {evaluate_epoch(test_oo_dist, model, loss, constrained=True)}')"
      ],
      "metadata": {
        "colab": {
          "base_uri": "https://localhost:8080/"
        },
        "id": "HWiMFWYZS6u4",
        "outputId": "2485d8b6-8057-4752-e038-26ff61e1e3d4"
      },
      "execution_count": 44,
      "outputs": [
        {
          "output_type": "stream",
          "name": "stdout",
          "text": [
            "In dist - unconstrained: 0.0006760569763183593\n",
            "In dist - constrained: 0.0007351661682128907\n",
            "Out of dist - unconstrained: 0.218924140625\n",
            "Out of dist - constrained: 0.229988046875\n"
          ]
        }
      ]
    },
    {
      "cell_type": "code",
      "source": [],
      "metadata": {
        "id": "2sxJjO9JgHv5"
      },
      "execution_count": 44,
      "outputs": []
    }
  ]
}