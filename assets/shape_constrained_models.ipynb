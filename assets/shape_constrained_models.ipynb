{
  "nbformat": 4,
  "nbformat_minor": 0,
  "metadata": {
    "colab": {
      "provenance": [],
      "machine_shape": "hm",
      "gpuType": "T4",
      "authorship_tag": "ABX9TyPkqi6G9N3QbBsis/M67XQG",
      "include_colab_link": true
    },
    "kernelspec": {
      "name": "python3",
      "display_name": "Python 3"
    },
    "language_info": {
      "name": "python"
    },
    "accelerator": "GPU",
    "widgets": {
      "application/vnd.jupyter.widget-state+json": {
        "7ec70583c28d4237bfe548d252da2105": {
          "model_module": "@jupyter-widgets/controls",
          "model_name": "HBoxModel",
          "model_module_version": "1.5.0",
          "state": {
            "_dom_classes": [],
            "_model_module": "@jupyter-widgets/controls",
            "_model_module_version": "1.5.0",
            "_model_name": "HBoxModel",
            "_view_count": null,
            "_view_module": "@jupyter-widgets/controls",
            "_view_module_version": "1.5.0",
            "_view_name": "HBoxView",
            "box_style": "",
            "children": [
              "IPY_MODEL_0fafd5ea8ae840ed9d678c3af6560a1b",
              "IPY_MODEL_f9d9b5cb948a49048f5f2fdd9cec7020",
              "IPY_MODEL_9f175ce10d9f4323a8cf4a8810c94292"
            ],
            "layout": "IPY_MODEL_a5eb1e1d3d714e3891cf1f7da3aff940"
          }
        },
        "0fafd5ea8ae840ed9d678c3af6560a1b": {
          "model_module": "@jupyter-widgets/controls",
          "model_name": "HTMLModel",
          "model_module_version": "1.5.0",
          "state": {
            "_dom_classes": [],
            "_model_module": "@jupyter-widgets/controls",
            "_model_module_version": "1.5.0",
            "_model_name": "HTMLModel",
            "_view_count": null,
            "_view_module": "@jupyter-widgets/controls",
            "_view_module_version": "1.5.0",
            "_view_name": "HTMLView",
            "description": "",
            "description_tooltip": null,
            "layout": "IPY_MODEL_5a3c4c8970284bfbb661f13215e49bb0",
            "placeholder": "​",
            "style": "IPY_MODEL_5dea203d43b54340a21e77a60a9895e9",
            "value": "Validation loss = 0.01270: 100%"
          }
        },
        "f9d9b5cb948a49048f5f2fdd9cec7020": {
          "model_module": "@jupyter-widgets/controls",
          "model_name": "FloatProgressModel",
          "model_module_version": "1.5.0",
          "state": {
            "_dom_classes": [],
            "_model_module": "@jupyter-widgets/controls",
            "_model_module_version": "1.5.0",
            "_model_name": "FloatProgressModel",
            "_view_count": null,
            "_view_module": "@jupyter-widgets/controls",
            "_view_module_version": "1.5.0",
            "_view_name": "ProgressView",
            "bar_style": "success",
            "description": "",
            "description_tooltip": null,
            "layout": "IPY_MODEL_c193f92a47ca4ea28e93921dcd8dc6be",
            "max": 100,
            "min": 0,
            "orientation": "horizontal",
            "style": "IPY_MODEL_2244f034b0c5434a83c5abd5dd01e7b7",
            "value": 100
          }
        },
        "9f175ce10d9f4323a8cf4a8810c94292": {
          "model_module": "@jupyter-widgets/controls",
          "model_name": "HTMLModel",
          "model_module_version": "1.5.0",
          "state": {
            "_dom_classes": [],
            "_model_module": "@jupyter-widgets/controls",
            "_model_module_version": "1.5.0",
            "_model_name": "HTMLModel",
            "_view_count": null,
            "_view_module": "@jupyter-widgets/controls",
            "_view_module_version": "1.5.0",
            "_view_name": "HTMLView",
            "description": "",
            "description_tooltip": null,
            "layout": "IPY_MODEL_cd83659f54fe422fa54ebbeae78afa7f",
            "placeholder": "​",
            "style": "IPY_MODEL_d53a8c3c8278476ca3804b3e7755fa17",
            "value": " 100/100 [00:46&lt;00:00,  2.25it/s]"
          }
        },
        "a5eb1e1d3d714e3891cf1f7da3aff940": {
          "model_module": "@jupyter-widgets/base",
          "model_name": "LayoutModel",
          "model_module_version": "1.2.0",
          "state": {
            "_model_module": "@jupyter-widgets/base",
            "_model_module_version": "1.2.0",
            "_model_name": "LayoutModel",
            "_view_count": null,
            "_view_module": "@jupyter-widgets/base",
            "_view_module_version": "1.2.0",
            "_view_name": "LayoutView",
            "align_content": null,
            "align_items": null,
            "align_self": null,
            "border": null,
            "bottom": null,
            "display": null,
            "flex": null,
            "flex_flow": null,
            "grid_area": null,
            "grid_auto_columns": null,
            "grid_auto_flow": null,
            "grid_auto_rows": null,
            "grid_column": null,
            "grid_gap": null,
            "grid_row": null,
            "grid_template_areas": null,
            "grid_template_columns": null,
            "grid_template_rows": null,
            "height": null,
            "justify_content": null,
            "justify_items": null,
            "left": null,
            "margin": null,
            "max_height": null,
            "max_width": null,
            "min_height": null,
            "min_width": null,
            "object_fit": null,
            "object_position": null,
            "order": null,
            "overflow": null,
            "overflow_x": null,
            "overflow_y": null,
            "padding": null,
            "right": null,
            "top": null,
            "visibility": null,
            "width": null
          }
        },
        "5a3c4c8970284bfbb661f13215e49bb0": {
          "model_module": "@jupyter-widgets/base",
          "model_name": "LayoutModel",
          "model_module_version": "1.2.0",
          "state": {
            "_model_module": "@jupyter-widgets/base",
            "_model_module_version": "1.2.0",
            "_model_name": "LayoutModel",
            "_view_count": null,
            "_view_module": "@jupyter-widgets/base",
            "_view_module_version": "1.2.0",
            "_view_name": "LayoutView",
            "align_content": null,
            "align_items": null,
            "align_self": null,
            "border": null,
            "bottom": null,
            "display": null,
            "flex": null,
            "flex_flow": null,
            "grid_area": null,
            "grid_auto_columns": null,
            "grid_auto_flow": null,
            "grid_auto_rows": null,
            "grid_column": null,
            "grid_gap": null,
            "grid_row": null,
            "grid_template_areas": null,
            "grid_template_columns": null,
            "grid_template_rows": null,
            "height": null,
            "justify_content": null,
            "justify_items": null,
            "left": null,
            "margin": null,
            "max_height": null,
            "max_width": null,
            "min_height": null,
            "min_width": null,
            "object_fit": null,
            "object_position": null,
            "order": null,
            "overflow": null,
            "overflow_x": null,
            "overflow_y": null,
            "padding": null,
            "right": null,
            "top": null,
            "visibility": null,
            "width": null
          }
        },
        "5dea203d43b54340a21e77a60a9895e9": {
          "model_module": "@jupyter-widgets/controls",
          "model_name": "DescriptionStyleModel",
          "model_module_version": "1.5.0",
          "state": {
            "_model_module": "@jupyter-widgets/controls",
            "_model_module_version": "1.5.0",
            "_model_name": "DescriptionStyleModel",
            "_view_count": null,
            "_view_module": "@jupyter-widgets/base",
            "_view_module_version": "1.2.0",
            "_view_name": "StyleView",
            "description_width": ""
          }
        },
        "c193f92a47ca4ea28e93921dcd8dc6be": {
          "model_module": "@jupyter-widgets/base",
          "model_name": "LayoutModel",
          "model_module_version": "1.2.0",
          "state": {
            "_model_module": "@jupyter-widgets/base",
            "_model_module_version": "1.2.0",
            "_model_name": "LayoutModel",
            "_view_count": null,
            "_view_module": "@jupyter-widgets/base",
            "_view_module_version": "1.2.0",
            "_view_name": "LayoutView",
            "align_content": null,
            "align_items": null,
            "align_self": null,
            "border": null,
            "bottom": null,
            "display": null,
            "flex": null,
            "flex_flow": null,
            "grid_area": null,
            "grid_auto_columns": null,
            "grid_auto_flow": null,
            "grid_auto_rows": null,
            "grid_column": null,
            "grid_gap": null,
            "grid_row": null,
            "grid_template_areas": null,
            "grid_template_columns": null,
            "grid_template_rows": null,
            "height": null,
            "justify_content": null,
            "justify_items": null,
            "left": null,
            "margin": null,
            "max_height": null,
            "max_width": null,
            "min_height": null,
            "min_width": null,
            "object_fit": null,
            "object_position": null,
            "order": null,
            "overflow": null,
            "overflow_x": null,
            "overflow_y": null,
            "padding": null,
            "right": null,
            "top": null,
            "visibility": null,
            "width": null
          }
        },
        "2244f034b0c5434a83c5abd5dd01e7b7": {
          "model_module": "@jupyter-widgets/controls",
          "model_name": "ProgressStyleModel",
          "model_module_version": "1.5.0",
          "state": {
            "_model_module": "@jupyter-widgets/controls",
            "_model_module_version": "1.5.0",
            "_model_name": "ProgressStyleModel",
            "_view_count": null,
            "_view_module": "@jupyter-widgets/base",
            "_view_module_version": "1.2.0",
            "_view_name": "StyleView",
            "bar_color": null,
            "description_width": ""
          }
        },
        "cd83659f54fe422fa54ebbeae78afa7f": {
          "model_module": "@jupyter-widgets/base",
          "model_name": "LayoutModel",
          "model_module_version": "1.2.0",
          "state": {
            "_model_module": "@jupyter-widgets/base",
            "_model_module_version": "1.2.0",
            "_model_name": "LayoutModel",
            "_view_count": null,
            "_view_module": "@jupyter-widgets/base",
            "_view_module_version": "1.2.0",
            "_view_name": "LayoutView",
            "align_content": null,
            "align_items": null,
            "align_self": null,
            "border": null,
            "bottom": null,
            "display": null,
            "flex": null,
            "flex_flow": null,
            "grid_area": null,
            "grid_auto_columns": null,
            "grid_auto_flow": null,
            "grid_auto_rows": null,
            "grid_column": null,
            "grid_gap": null,
            "grid_row": null,
            "grid_template_areas": null,
            "grid_template_columns": null,
            "grid_template_rows": null,
            "height": null,
            "justify_content": null,
            "justify_items": null,
            "left": null,
            "margin": null,
            "max_height": null,
            "max_width": null,
            "min_height": null,
            "min_width": null,
            "object_fit": null,
            "object_position": null,
            "order": null,
            "overflow": null,
            "overflow_x": null,
            "overflow_y": null,
            "padding": null,
            "right": null,
            "top": null,
            "visibility": null,
            "width": null
          }
        },
        "d53a8c3c8278476ca3804b3e7755fa17": {
          "model_module": "@jupyter-widgets/controls",
          "model_name": "DescriptionStyleModel",
          "model_module_version": "1.5.0",
          "state": {
            "_model_module": "@jupyter-widgets/controls",
            "_model_module_version": "1.5.0",
            "_model_name": "DescriptionStyleModel",
            "_view_count": null,
            "_view_module": "@jupyter-widgets/base",
            "_view_module_version": "1.2.0",
            "_view_name": "StyleView",
            "description_width": ""
          }
        },
        "18a6125a58a04a988dc0d955cd171575": {
          "model_module": "@jupyter-widgets/controls",
          "model_name": "HBoxModel",
          "model_module_version": "1.5.0",
          "state": {
            "_dom_classes": [],
            "_model_module": "@jupyter-widgets/controls",
            "_model_module_version": "1.5.0",
            "_model_name": "HBoxModel",
            "_view_count": null,
            "_view_module": "@jupyter-widgets/controls",
            "_view_module_version": "1.5.0",
            "_view_name": "HBoxView",
            "box_style": "",
            "children": [
              "IPY_MODEL_baa93805ccd54a74b3e710d7fe3326e6",
              "IPY_MODEL_3c6059542aaa47e4918b0621ed080d3c",
              "IPY_MODEL_41b8b7032a8540e0a739ad3928a324ce"
            ],
            "layout": "IPY_MODEL_cc0485bd436c49c9937b69785454d681"
          }
        },
        "baa93805ccd54a74b3e710d7fe3326e6": {
          "model_module": "@jupyter-widgets/controls",
          "model_name": "HTMLModel",
          "model_module_version": "1.5.0",
          "state": {
            "_dom_classes": [],
            "_model_module": "@jupyter-widgets/controls",
            "_model_module_version": "1.5.0",
            "_model_name": "HTMLModel",
            "_view_count": null,
            "_view_module": "@jupyter-widgets/controls",
            "_view_module_version": "1.5.0",
            "_view_name": "HTMLView",
            "description": "",
            "description_tooltip": null,
            "layout": "IPY_MODEL_636a8fe973f04d44ac64a16cdbd247ea",
            "placeholder": "​",
            "style": "IPY_MODEL_4a6b5db5a6ed4dcb82d81dd03cad8ef4",
            "value": "Validation loss = 0.01404: 100%"
          }
        },
        "3c6059542aaa47e4918b0621ed080d3c": {
          "model_module": "@jupyter-widgets/controls",
          "model_name": "FloatProgressModel",
          "model_module_version": "1.5.0",
          "state": {
            "_dom_classes": [],
            "_model_module": "@jupyter-widgets/controls",
            "_model_module_version": "1.5.0",
            "_model_name": "FloatProgressModel",
            "_view_count": null,
            "_view_module": "@jupyter-widgets/controls",
            "_view_module_version": "1.5.0",
            "_view_name": "ProgressView",
            "bar_style": "success",
            "description": "",
            "description_tooltip": null,
            "layout": "IPY_MODEL_4833b596eefd46759a2929e17c501794",
            "max": 100,
            "min": 0,
            "orientation": "horizontal",
            "style": "IPY_MODEL_b3312b4ac74f4083a0b92c25a06137b4",
            "value": 100
          }
        },
        "41b8b7032a8540e0a739ad3928a324ce": {
          "model_module": "@jupyter-widgets/controls",
          "model_name": "HTMLModel",
          "model_module_version": "1.5.0",
          "state": {
            "_dom_classes": [],
            "_model_module": "@jupyter-widgets/controls",
            "_model_module_version": "1.5.0",
            "_model_name": "HTMLModel",
            "_view_count": null,
            "_view_module": "@jupyter-widgets/controls",
            "_view_module_version": "1.5.0",
            "_view_name": "HTMLView",
            "description": "",
            "description_tooltip": null,
            "layout": "IPY_MODEL_93736ed6d7cf4977b5319fecaa927dd2",
            "placeholder": "​",
            "style": "IPY_MODEL_a7c9339469074268b2251d50f87c1c3b",
            "value": " 100/100 [00:35&lt;00:00,  2.83it/s]"
          }
        },
        "cc0485bd436c49c9937b69785454d681": {
          "model_module": "@jupyter-widgets/base",
          "model_name": "LayoutModel",
          "model_module_version": "1.2.0",
          "state": {
            "_model_module": "@jupyter-widgets/base",
            "_model_module_version": "1.2.0",
            "_model_name": "LayoutModel",
            "_view_count": null,
            "_view_module": "@jupyter-widgets/base",
            "_view_module_version": "1.2.0",
            "_view_name": "LayoutView",
            "align_content": null,
            "align_items": null,
            "align_self": null,
            "border": null,
            "bottom": null,
            "display": null,
            "flex": null,
            "flex_flow": null,
            "grid_area": null,
            "grid_auto_columns": null,
            "grid_auto_flow": null,
            "grid_auto_rows": null,
            "grid_column": null,
            "grid_gap": null,
            "grid_row": null,
            "grid_template_areas": null,
            "grid_template_columns": null,
            "grid_template_rows": null,
            "height": null,
            "justify_content": null,
            "justify_items": null,
            "left": null,
            "margin": null,
            "max_height": null,
            "max_width": null,
            "min_height": null,
            "min_width": null,
            "object_fit": null,
            "object_position": null,
            "order": null,
            "overflow": null,
            "overflow_x": null,
            "overflow_y": null,
            "padding": null,
            "right": null,
            "top": null,
            "visibility": null,
            "width": null
          }
        },
        "636a8fe973f04d44ac64a16cdbd247ea": {
          "model_module": "@jupyter-widgets/base",
          "model_name": "LayoutModel",
          "model_module_version": "1.2.0",
          "state": {
            "_model_module": "@jupyter-widgets/base",
            "_model_module_version": "1.2.0",
            "_model_name": "LayoutModel",
            "_view_count": null,
            "_view_module": "@jupyter-widgets/base",
            "_view_module_version": "1.2.0",
            "_view_name": "LayoutView",
            "align_content": null,
            "align_items": null,
            "align_self": null,
            "border": null,
            "bottom": null,
            "display": null,
            "flex": null,
            "flex_flow": null,
            "grid_area": null,
            "grid_auto_columns": null,
            "grid_auto_flow": null,
            "grid_auto_rows": null,
            "grid_column": null,
            "grid_gap": null,
            "grid_row": null,
            "grid_template_areas": null,
            "grid_template_columns": null,
            "grid_template_rows": null,
            "height": null,
            "justify_content": null,
            "justify_items": null,
            "left": null,
            "margin": null,
            "max_height": null,
            "max_width": null,
            "min_height": null,
            "min_width": null,
            "object_fit": null,
            "object_position": null,
            "order": null,
            "overflow": null,
            "overflow_x": null,
            "overflow_y": null,
            "padding": null,
            "right": null,
            "top": null,
            "visibility": null,
            "width": null
          }
        },
        "4a6b5db5a6ed4dcb82d81dd03cad8ef4": {
          "model_module": "@jupyter-widgets/controls",
          "model_name": "DescriptionStyleModel",
          "model_module_version": "1.5.0",
          "state": {
            "_model_module": "@jupyter-widgets/controls",
            "_model_module_version": "1.5.0",
            "_model_name": "DescriptionStyleModel",
            "_view_count": null,
            "_view_module": "@jupyter-widgets/base",
            "_view_module_version": "1.2.0",
            "_view_name": "StyleView",
            "description_width": ""
          }
        },
        "4833b596eefd46759a2929e17c501794": {
          "model_module": "@jupyter-widgets/base",
          "model_name": "LayoutModel",
          "model_module_version": "1.2.0",
          "state": {
            "_model_module": "@jupyter-widgets/base",
            "_model_module_version": "1.2.0",
            "_model_name": "LayoutModel",
            "_view_count": null,
            "_view_module": "@jupyter-widgets/base",
            "_view_module_version": "1.2.0",
            "_view_name": "LayoutView",
            "align_content": null,
            "align_items": null,
            "align_self": null,
            "border": null,
            "bottom": null,
            "display": null,
            "flex": null,
            "flex_flow": null,
            "grid_area": null,
            "grid_auto_columns": null,
            "grid_auto_flow": null,
            "grid_auto_rows": null,
            "grid_column": null,
            "grid_gap": null,
            "grid_row": null,
            "grid_template_areas": null,
            "grid_template_columns": null,
            "grid_template_rows": null,
            "height": null,
            "justify_content": null,
            "justify_items": null,
            "left": null,
            "margin": null,
            "max_height": null,
            "max_width": null,
            "min_height": null,
            "min_width": null,
            "object_fit": null,
            "object_position": null,
            "order": null,
            "overflow": null,
            "overflow_x": null,
            "overflow_y": null,
            "padding": null,
            "right": null,
            "top": null,
            "visibility": null,
            "width": null
          }
        },
        "b3312b4ac74f4083a0b92c25a06137b4": {
          "model_module": "@jupyter-widgets/controls",
          "model_name": "ProgressStyleModel",
          "model_module_version": "1.5.0",
          "state": {
            "_model_module": "@jupyter-widgets/controls",
            "_model_module_version": "1.5.0",
            "_model_name": "ProgressStyleModel",
            "_view_count": null,
            "_view_module": "@jupyter-widgets/base",
            "_view_module_version": "1.2.0",
            "_view_name": "StyleView",
            "bar_color": null,
            "description_width": ""
          }
        },
        "93736ed6d7cf4977b5319fecaa927dd2": {
          "model_module": "@jupyter-widgets/base",
          "model_name": "LayoutModel",
          "model_module_version": "1.2.0",
          "state": {
            "_model_module": "@jupyter-widgets/base",
            "_model_module_version": "1.2.0",
            "_model_name": "LayoutModel",
            "_view_count": null,
            "_view_module": "@jupyter-widgets/base",
            "_view_module_version": "1.2.0",
            "_view_name": "LayoutView",
            "align_content": null,
            "align_items": null,
            "align_self": null,
            "border": null,
            "bottom": null,
            "display": null,
            "flex": null,
            "flex_flow": null,
            "grid_area": null,
            "grid_auto_columns": null,
            "grid_auto_flow": null,
            "grid_auto_rows": null,
            "grid_column": null,
            "grid_gap": null,
            "grid_row": null,
            "grid_template_areas": null,
            "grid_template_columns": null,
            "grid_template_rows": null,
            "height": null,
            "justify_content": null,
            "justify_items": null,
            "left": null,
            "margin": null,
            "max_height": null,
            "max_width": null,
            "min_height": null,
            "min_width": null,
            "object_fit": null,
            "object_position": null,
            "order": null,
            "overflow": null,
            "overflow_x": null,
            "overflow_y": null,
            "padding": null,
            "right": null,
            "top": null,
            "visibility": null,
            "width": null
          }
        },
        "a7c9339469074268b2251d50f87c1c3b": {
          "model_module": "@jupyter-widgets/controls",
          "model_name": "DescriptionStyleModel",
          "model_module_version": "1.5.0",
          "state": {
            "_model_module": "@jupyter-widgets/controls",
            "_model_module_version": "1.5.0",
            "_model_name": "DescriptionStyleModel",
            "_view_count": null,
            "_view_module": "@jupyter-widgets/base",
            "_view_module_version": "1.2.0",
            "_view_name": "StyleView",
            "description_width": ""
          }
        }
      }
    }
  },
  "cells": [
    {
      "cell_type": "markdown",
      "metadata": {
        "id": "view-in-github",
        "colab_type": "text"
      },
      "source": [
        "<a href=\"https://colab.research.google.com/github/alexshtf/alexshtf.github.io/blob/master/assets/shape_constrained_models.ipynb\" target=\"_parent\"><img src=\"https://colab.research.google.com/assets/colab-badge.svg\" alt=\"Open In Colab\"/></a>"
      ]
    },
    {
      "cell_type": "code",
      "source": [
        "%pip install batch-iter\n",
        "%pip install optuna"
      ],
      "metadata": {
        "colab": {
          "base_uri": "https://localhost:8080/"
        },
        "id": "U454v-svPSD_",
        "outputId": "974765de-cdf7-4b01-a685-facb71e2828c"
      },
      "execution_count": null,
      "outputs": [
        {
          "output_type": "stream",
          "name": "stdout",
          "text": [
            "Requirement already satisfied: batch-iter in /usr/local/lib/python3.10/dist-packages (0.1)\n",
            "Requirement already satisfied: torch>=2.1.0 in /usr/local/lib/python3.10/dist-packages (from batch-iter) (2.4.1+cu121)\n",
            "Requirement already satisfied: filelock in /usr/local/lib/python3.10/dist-packages (from torch>=2.1.0->batch-iter) (3.16.1)\n",
            "Requirement already satisfied: typing-extensions>=4.8.0 in /usr/local/lib/python3.10/dist-packages (from torch>=2.1.0->batch-iter) (4.12.2)\n",
            "Requirement already satisfied: sympy in /usr/local/lib/python3.10/dist-packages (from torch>=2.1.0->batch-iter) (1.13.3)\n",
            "Requirement already satisfied: networkx in /usr/local/lib/python3.10/dist-packages (from torch>=2.1.0->batch-iter) (3.3)\n",
            "Requirement already satisfied: jinja2 in /usr/local/lib/python3.10/dist-packages (from torch>=2.1.0->batch-iter) (3.1.4)\n",
            "Requirement already satisfied: fsspec in /usr/local/lib/python3.10/dist-packages (from torch>=2.1.0->batch-iter) (2024.6.1)\n",
            "Requirement already satisfied: MarkupSafe>=2.0 in /usr/local/lib/python3.10/dist-packages (from jinja2->torch>=2.1.0->batch-iter) (2.1.5)\n",
            "Requirement already satisfied: mpmath<1.4,>=1.1.0 in /usr/local/lib/python3.10/dist-packages (from sympy->torch>=2.1.0->batch-iter) (1.3.0)\n",
            "Requirement already satisfied: optuna in /usr/local/lib/python3.10/dist-packages (4.0.0)\n",
            "Requirement already satisfied: alembic>=1.5.0 in /usr/local/lib/python3.10/dist-packages (from optuna) (1.13.3)\n",
            "Requirement already satisfied: colorlog in /usr/local/lib/python3.10/dist-packages (from optuna) (6.8.2)\n",
            "Requirement already satisfied: numpy in /usr/local/lib/python3.10/dist-packages (from optuna) (1.26.4)\n",
            "Requirement already satisfied: packaging>=20.0 in /usr/local/lib/python3.10/dist-packages (from optuna) (24.1)\n",
            "Requirement already satisfied: sqlalchemy>=1.3.0 in /usr/local/lib/python3.10/dist-packages (from optuna) (2.0.35)\n",
            "Requirement already satisfied: tqdm in /usr/local/lib/python3.10/dist-packages (from optuna) (4.66.5)\n",
            "Requirement already satisfied: PyYAML in /usr/local/lib/python3.10/dist-packages (from optuna) (6.0.2)\n",
            "Requirement already satisfied: Mako in /usr/local/lib/python3.10/dist-packages (from alembic>=1.5.0->optuna) (1.3.5)\n",
            "Requirement already satisfied: typing-extensions>=4 in /usr/local/lib/python3.10/dist-packages (from alembic>=1.5.0->optuna) (4.12.2)\n",
            "Requirement already satisfied: greenlet!=0.4.17 in /usr/local/lib/python3.10/dist-packages (from sqlalchemy>=1.3.0->optuna) (3.1.1)\n",
            "Requirement already satisfied: MarkupSafe>=0.9.2 in /usr/local/lib/python3.10/dist-packages (from Mako->alembic>=1.5.0->optuna) (2.1.5)\n"
          ]
        }
      ]
    },
    {
      "cell_type": "code",
      "execution_count": null,
      "metadata": {
        "id": "sW15ExSAD_de"
      },
      "outputs": [],
      "source": [
        "import torch\n",
        "from torch import nn"
      ]
    },
    {
      "cell_type": "markdown",
      "source": [
        "# Bernstein shape-constrained module"
      ],
      "metadata": {
        "id": "WOKV_2FXGLbT"
      }
    },
    {
      "cell_type": "code",
      "source": [
        "def log_binom_coef(n: torch.Tensor, k: torch.Tensor):\n",
        "  return (\n",
        "      torch.lgamma(n + 1)\n",
        "      - torch.lgamma(k + 1)\n",
        "      - torch.lgamma(n - k + 1)\n",
        "  )"
      ],
      "metadata": {
        "id": "Oaaq9C11qxsl"
      },
      "execution_count": null,
      "outputs": []
    },
    {
      "cell_type": "code",
      "source": [
        "n = torch.tensor(5)\n",
        "k = torch.arange(6)\n",
        "print(log_binom_coef(n, k).exp())"
      ],
      "metadata": {
        "colab": {
          "base_uri": "https://localhost:8080/"
        },
        "id": "gHQS1LW_48U4",
        "outputId": "5e06152e-e278-4815-e1f4-3fc140d10d7c"
      },
      "execution_count": null,
      "outputs": [
        {
          "output_type": "stream",
          "name": "stdout",
          "text": [
            "tensor([ 1.,  5., 10., 10.,  5.,  1.])\n"
          ]
        }
      ]
    },
    {
      "cell_type": "code",
      "source": [
        "def bernstein_basis(degree: int, z: torch.Tensor):\n",
        "  \"\"\"\n",
        "  Computes a matrix containing the Bernstein basis of a given degree, where\n",
        "  each row corresponds to an entry in the input tensor `z`.\n",
        "  \"\"\"\n",
        "\n",
        "  # entries of `z` in rows, and basis indices in columns\n",
        "  z = z.view(-1, 1)\n",
        "  ks = torch.arange(degree + 1, device=z.device).view(1, -1)\n",
        "\n",
        "  # degree in a tensor to call log_binom_coef\n",
        "  degree_tensor = torch.as_tensor(degree, device=z.device)\n",
        "\n",
        "  # now we compute the Bernstein basis by definition\n",
        "  binom_coef = torch.exp(log_binom_coef(degree_tensor, ks))\n",
        "  return binom_coef * (z ** ks) * ((1 - z) ** (degree_tensor - ks))"
      ],
      "metadata": {
        "id": "qtlBP5rB_V8N"
      },
      "execution_count": null,
      "outputs": []
    },
    {
      "cell_type": "code",
      "source": [
        "from torch import nn\n",
        "\n",
        "class BernsteinPolynomialModel(nn.Module):\n",
        "  def __init__(self, x_model, coef_transformer):\n",
        "    super().__init__()\n",
        "    self.x_model = x_model\n",
        "    self.coef_transformer = coef_transformer\n",
        "\n",
        "  def forward(self, x, z):\n",
        "    coefs = self.coef_transformer(self.x_model(x))\n",
        "    degree = coefs.shape[-1] - 1\n",
        "    basis = bernstein_basis(degree, z)\n",
        "    return torch.sum(coefs * basis, dim=-1)"
      ],
      "metadata": {
        "id": "GO9oU6AuFE8b"
      },
      "execution_count": null,
      "outputs": []
    },
    {
      "cell_type": "markdown",
      "source": [
        "# Additional coefficient transform layers"
      ],
      "metadata": {
        "id": "ZtLhdbUjGHG0"
      }
    },
    {
      "cell_type": "code",
      "source": [
        "class NondecreasingCoefTransform(nn.Module):\n",
        "    def forward(self, u):\n",
        "        # We assume that `u` has mini-batch dimensions,\n",
        "        # and the 'coefficient' dimension is the last one.\n",
        "        u_head = u[... ,0:1]\n",
        "        u_tail_relu = nn.functional.softplus(u[..., 1:])\n",
        "        head_tail = torch.cat([u_head, u_tail_relu], dim=-1)\n",
        "        return torch.cumsum(head_tail, dim=-1)"
      ],
      "metadata": {
        "id": "Ax8SRubqGPZV"
      },
      "execution_count": null,
      "outputs": []
    },
    {
      "cell_type": "code",
      "source": [
        "class NonincreasingCoefTransform(nn.Module):\n",
        "    def forward(self, u):\n",
        "        # We assume that `u` has mini-batch dimensions,\n",
        "        # and the 'coefficient' dimension is the last one.\n",
        "        u_head = u[... ,0:1]\n",
        "        u_tail_relu = -nn.functional.softplus(u[..., 1:])\n",
        "        head_tail = torch.cat([u_head, u_tail_relu], dim=-1)\n",
        "        return torch.cumsum(head_tail, dim=-1)"
      ],
      "metadata": {
        "id": "ssP-s-XDt8Xh"
      },
      "execution_count": null,
      "outputs": []
    },
    {
      "cell_type": "code",
      "source": [
        "class CDFCoefTransform(nn.Module):\n",
        "  def forward(self, u):\n",
        "    zero = torch.zeros_like(u[..., :1])\n",
        "    cum_softmax = torch.cumsum(nn.functional.softmax(u, dim=-1), dim=-1)\n",
        "    cdf_coefs = torch.cat([zero, cum_softmax], dim=-1)\n",
        "    return cdf_coefs"
      ],
      "metadata": {
        "id": "jrJvzzB7GQIt"
      },
      "execution_count": null,
      "outputs": []
    },
    {
      "cell_type": "code",
      "source": [
        "print(NondecreasingCoefTransform()(torch.tensor([-5, 3., 2., -1., 3.])))"
      ],
      "metadata": {
        "colab": {
          "base_uri": "https://localhost:8080/"
        },
        "id": "QYn08E8yHNQf",
        "outputId": "30cd5128-e801-4c0f-c274-e753a2b2ffba"
      },
      "execution_count": null,
      "outputs": [
        {
          "output_type": "stream",
          "name": "stdout",
          "text": [
            "tensor([-5.0000, -1.9514,  0.1755,  0.4888,  3.5374])\n"
          ]
        }
      ]
    },
    {
      "cell_type": "code",
      "source": [
        "print(NonincreasingCoefTransform()(torch.tensor([-5, 3., 2., -1., 3.])))"
      ],
      "metadata": {
        "colab": {
          "base_uri": "https://localhost:8080/"
        },
        "id": "dMAKwki0wQja",
        "outputId": "52c3e37e-efca-46c6-f2d2-17fa6cffa66c"
      },
      "execution_count": null,
      "outputs": [
        {
          "output_type": "stream",
          "name": "stdout",
          "text": [
            "tensor([ -5.0000,  -8.0486, -10.1755, -10.4888, -13.5374])\n"
          ]
        }
      ]
    },
    {
      "cell_type": "code",
      "source": [
        "print(CDFCoefTransform()(torch.tensor([-5, 3., 2., -1., 3.])))"
      ],
      "metadata": {
        "colab": {
          "base_uri": "https://localhost:8080/"
        },
        "id": "g7vrxZXLwVjY",
        "outputId": "a350ace5-c44a-4c2c-bb00-7dbde6d1e52e"
      },
      "execution_count": null,
      "outputs": [
        {
          "output_type": "stream",
          "name": "stdout",
          "text": [
            "tensor([0.0000e+00, 1.4056e-04, 4.1916e-01, 5.7331e-01, 5.8098e-01, 1.0000e+00])\n"
          ]
        }
      ]
    },
    {
      "cell_type": "markdown",
      "source": [
        "# Fitting increasing function"
      ],
      "metadata": {
        "id": "ENi_kNUXuPBZ"
      }
    },
    {
      "cell_type": "code",
      "source": [
        "import numpy as np\n",
        "\n",
        "def relu(x):\n",
        "  return np.maximum(np.zeros_like(x), x)\n",
        "\n",
        "def softshrink(x, a=0.3):\n",
        "  return relu(x - a) - relu(-x - a)\n",
        "\n",
        "def sgn_square(x):\n",
        "  return x * np.abs(x)\n",
        "\n",
        "def hairy_increasing_func(x, z):\n",
        "  x1, x2, x3 = x[..., 0], x[..., 1], x[..., 2]\n",
        "  return (relu(np.cos(x1 - x2 + x3)) * sgn_square(softshrink(z - np.sin(x1) ** 2))\n",
        "          + (1 + np.cos(x2 + x3)) * sgn_square(softshrink(z - np.sin(x2) ** 2))\n",
        "          + (1 + np.cos(x1 - x2)) * sgn_square(softshrink(z - np.sin(x3) ** 2))\n",
        "          + np.cos(x1 + x2 + x3))"
      ],
      "metadata": {
        "id": "w9LeQLZiuSi0"
      },
      "execution_count": null,
      "outputs": []
    },
    {
      "cell_type": "code",
      "source": [
        "import matplotlib.pyplot as plt\n",
        "\n",
        "zs = np.linspace(0, 1, 1000)\n",
        "plt.plot(zs, hairy_increasing_func(np.array([-1, 0.1, 0.5]), zs), label='function 1')\n",
        "plt.plot(zs, hairy_increasing_func(np.array([1, 0.5, -0.5]), zs), label='function 2')\n",
        "plt.plot(zs, hairy_increasing_func(np.array([-1.5, 0.8, 0.1]), zs), label='function 3')\n",
        "plt.legend()\n",
        "plt.show()"
      ],
      "metadata": {
        "colab": {
          "base_uri": "https://localhost:8080/",
          "height": 430
        },
        "id": "-Sbs9aXuuQ5y",
        "outputId": "967c0172-07f2-473c-d2a8-fd4cebbe8d81"
      },
      "execution_count": null,
      "outputs": [
        {
          "output_type": "display_data",
          "data": {
            "text/plain": [
              "<Figure size 640x480 with 1 Axes>"
            ],
            "image/png": "[encoded data removed]"
          },
          "metadata": {}
        }
      ]
    },
    {
      "cell_type": "code",
      "source": [
        "def make_model(layer_dims, monotone=True):\n",
        "  # create a fully connected ReLU network\n",
        "  layers = [\n",
        "      layer\n",
        "      for in_dim, out_dim in zip(layer_dims[:-1], layer_dims[1:])\n",
        "      for layer in [nn.Linear(in_dim, out_dim), nn.ReLU()]\n",
        "  ]\n",
        "\n",
        "  if monotone:\n",
        "    # define a model for x\n",
        "    x_model = nn.Sequential(*layers[:-1])\n",
        "\n",
        "    # construct a network for predicting non-decreasing functions\n",
        "    # the polynomial degree is the output dimension of the last\n",
        "    # layer.\n",
        "    return BernsteinPolynomialModel(\n",
        "        x_model,\n",
        "        NondecreasingCoefTransform()\n",
        "    )\n",
        "  else:\n",
        "    layers.append(nn.Linear(layer_dims[-1], 1))\n",
        "    return nn.Sequential(*layers)"
      ],
      "metadata": {
        "id": "ETMahUrMuYSx"
      },
      "execution_count": null,
      "outputs": []
    },
    {
      "cell_type": "code",
      "source": [
        "from functools import partial\n",
        "torch.manual_seed(2024)  # just to make this result reproducible\n",
        "net = make_model([3, 10, 10, 10])\n",
        "\n",
        "plot_zs = torch.linspace(0, 1, 100)\n",
        "\n",
        "func = partial(net, torch.tensor([30., 20, 10]).repeat(100, 1))\n",
        "plt.plot(plot_zs, func(plot_zs).detach().numpy(), label='Input = [30, 20, 10]')\n",
        "\n",
        "func = partial(net, torch.tensor([10., 20, 30]).repeat(100, 1))\n",
        "plt.plot(plot_zs, func(plot_zs).detach().numpy(), label='Input = [10, 20, 30]')\n",
        "\n",
        "plt.legend()\n",
        "plt.show()"
      ],
      "metadata": {
        "id": "OqlVQ0UczXdr",
        "colab": {
          "base_uri": "https://localhost:8080/",
          "height": 430
        },
        "outputId": "b259c1b0-4350-4384-a66b-341f76b36a11"
      },
      "execution_count": null,
      "outputs": [
        {
          "output_type": "display_data",
          "data": {
            "text/plain": [
              "<Figure size 640x480 with 1 Axes>"
            ],
            "image/png": "[encoded data removed]"
          },
          "metadata": {}
        }
      ]
    },
    {
      "cell_type": "code",
      "source": [
        "from tqdm.auto import tqdm\n",
        "\n",
        "def train_epoch(data_iter, model, loss_fn, optim, monotone):\n",
        "  for x, z, label in data_iter:\n",
        "    if monotone:\n",
        "      pred = model(x, z)\n",
        "    else:\n",
        "      pred = model(torch.cat([x, z.reshape(-1, 1)], dim=-1)).squeeze()\n",
        "    loss = loss_fn(pred, label)\n",
        "\n",
        "    optim.zero_grad()\n",
        "    loss.backward()\n",
        "    optim.step()\n",
        "\n",
        "\n",
        "@torch.no_grad()\n",
        "def valid_epoch(data_iter, model, loss_fn, monotone):\n",
        "  epoch_loss = 0.\n",
        "  num_samples = 0\n",
        "  for x, z, label in data_iter:\n",
        "    if monotone:\n",
        "      pred = model(x, z)\n",
        "    else:\n",
        "      pred = model(torch.cat([x, z.reshape(-1, 1)], dim=-1)).squeeze()\n",
        "    loss = loss_fn(pred, label)\n",
        "    epoch_loss += loss * label.size(0)\n",
        "    num_samples += label.size(0)\n",
        "  return epoch_loss.cpu().item() / num_samples\n",
        "\n",
        "\n",
        "def train_model(train_iter, valid_iter, layer_dims, monotone=True,\n",
        "                optim_fn=torch.optim.SGD, optim_params=None, num_epochs=100):\n",
        "  if optim_params is None:\n",
        "    optim_params = {}\n",
        "\n",
        "  torch.manual_seed(2024)\n",
        "  model = make_model(layer_dims, monotone=monotone)\n",
        "  optim = optim_fn(model.parameters(), **optim_params)\n",
        "  loss_fn = nn.MSELoss()\n",
        "\n",
        "  if torch.cuda.is_available():\n",
        "    model = model.cuda()\n",
        "\n",
        "  with tqdm(range(num_epochs)) as epoch_range:\n",
        "    for epoch in epoch_range:\n",
        "      train_epoch(train_iter, model, loss_fn, optim, monotone)\n",
        "      epoch_loss = valid_epoch(valid_iter, model, loss_fn, monotone)\n",
        "      epoch_range.set_description(f'Validation loss = {epoch_loss:.5f}')\n",
        "  return model, epoch_loss"
      ],
      "metadata": {
        "id": "oDUFrpDe2oXe"
      },
      "execution_count": null,
      "outputs": []
    },
    {
      "cell_type": "code",
      "source": [
        "def generate_dataset(n_rows, noise=0.1):\n",
        "  xs = np.random.randn(n_rows, 3)\n",
        "  zs = np.random.rand(n_rows)\n",
        "  labels = hairy_increasing_func(xs, zs) + np.random.randn(n_rows) * noise\n",
        "\n",
        "  xs = torch.as_tensor(xs).to(dtype=torch.float32)\n",
        "  zs = torch.as_tensor(zs).to(dtype=torch.float32)\n",
        "  labels = torch.as_tensor(labels).to(dtype=torch.float32)\n",
        "  if torch.cuda.is_available():\n",
        "    xs = xs.cuda()\n",
        "    zs = zs.cuda()\n",
        "    labels = labels.cuda()\n",
        "\n",
        "  return xs, zs, labels"
      ],
      "metadata": {
        "id": "W8TNX1OxUhxq"
      },
      "execution_count": null,
      "outputs": []
    },
    {
      "cell_type": "code",
      "source": [
        "from batch_iter import BatchIter\n",
        "\n",
        "batch_size = 256\n",
        "train_iter = BatchIter(*generate_dataset(50000), batch_size=batch_size)\n",
        "valid_iter = BatchIter(*generate_dataset(10000), batch_size=batch_size)"
      ],
      "metadata": {
        "id": "AcqsjT4GPOic"
      },
      "execution_count": null,
      "outputs": []
    },
    {
      "cell_type": "code",
      "source": [
        "lr = 3e-3\n",
        "weight_decay = 1e-5\n",
        "degree = 50\n",
        "layer_dims = [3,\n",
        "              4 * degree,\n",
        "              3 * degree,\n",
        "              2 * degree,\n",
        "              degree]\n",
        "model, val_loss = train_model(\n",
        "    train_iter, valid_iter, layer_dims,\n",
        "    optim_fn=torch.optim.AdamW,\n",
        "    optim_params=dict(lr=lr, weight_decay=weight_decay))\n",
        "model = model.cpu()"
      ],
      "metadata": {
        "colab": {
          "base_uri": "https://localhost:8080/",
          "height": 49,
          "referenced_widgets": [
            "7ec70583c28d4237bfe548d252da2105",
            "0fafd5ea8ae840ed9d678c3af6560a1b",
            "f9d9b5cb948a49048f5f2fdd9cec7020",
            "9f175ce10d9f4323a8cf4a8810c94292",
            "a5eb1e1d3d714e3891cf1f7da3aff940",
            "5a3c4c8970284bfbb661f13215e49bb0",
            "5dea203d43b54340a21e77a60a9895e9",
            "c193f92a47ca4ea28e93921dcd8dc6be",
            "2244f034b0c5434a83c5abd5dd01e7b7",
            "cd83659f54fe422fa54ebbeae78afa7f",
            "d53a8c3c8278476ca3804b3e7755fa17"
          ]
        },
        "id": "eFy66LGceyGR",
        "outputId": "9c5fc456-fdd3-4172-95cc-4c330ef7f05e"
      },
      "execution_count": null,
      "outputs": [
        {
          "output_type": "display_data",
          "data": {
            "text/plain": [
              "  0%|          | 0/100 [00:00<?, ?it/s]"
            ],
            "application/vnd.jupyter.widget-view+json": {
              "version_major": 2,
              "version_minor": 0,
              "model_id": "7ec70583c28d4237bfe548d252da2105"
            }
          },
          "metadata": {}
        }
      ]
    },
    {
      "cell_type": "code",
      "source": [
        "features = torch.tensor([1, 0.5, -0.5]).repeat(100, 1)\n",
        "func = partial(model, features)\n",
        "plt.plot(plot_zs, func(plot_zs).detach().numpy(), label='Model function')\n",
        "plt.plot(plot_zs, hairy_increasing_func(features.numpy(), plot_zs.numpy()), label='True function')\n",
        "\n",
        "plt.legend()\n",
        "plt.show()"
      ],
      "metadata": {
        "colab": {
          "base_uri": "https://localhost:8080/",
          "height": 430
        },
        "id": "qs-76Q8zPaI3",
        "outputId": "703e84df-f0c0-409b-8130-62a87151631b"
      },
      "execution_count": null,
      "outputs": [
        {
          "output_type": "display_data",
          "data": {
            "text/plain": [
              "<Figure size 640x480 with 1 Axes>"
            ],
            "image/png": "[encoded data removed]"
          },
          "metadata": {}
        }
      ]
    },
    {
      "cell_type": "code",
      "source": [
        "features = torch.tensor([-1.5, 0.8, 0.1]).repeat(100, 1)\n",
        "func = partial(model, features)\n",
        "plt.plot(plot_zs, func(plot_zs).detach().numpy(), label='Model function')\n",
        "plt.plot(plot_zs, hairy_increasing_func(features.numpy(), plot_zs.numpy()), label='True function')\n",
        "\n",
        "plt.legend()\n",
        "plt.show()"
      ],
      "metadata": {
        "colab": {
          "base_uri": "https://localhost:8080/",
          "height": 430
        },
        "id": "XEJsu955Sqxk",
        "outputId": "01aadcaf-7ba7-4027-fba9-178c8b78b89f"
      },
      "execution_count": null,
      "outputs": [
        {
          "output_type": "display_data",
          "data": {
            "text/plain": [
              "<Figure size 640x480 with 1 Axes>"
            ],
            "image/png": "[encoded data removed]"
          },
          "metadata": {}
        }
      ]
    },
    {
      "cell_type": "code",
      "source": [
        "lr = 3e-3\n",
        "weight_decay = 1e-5\n",
        "degree = 50\n",
        "layer_dims = [4,\n",
        "              4 * degree,\n",
        "              3 * degree,\n",
        "              2 * degree,\n",
        "              degree]\n",
        "model, val_loss = train_model(\n",
        "    train_iter, valid_iter, layer_dims, monotone=False,\n",
        "    optim_fn=torch.optim.AdamW,\n",
        "    optim_params=dict(lr=lr, weight_decay=weight_decay))\n",
        "model = model.cpu()"
      ],
      "metadata": {
        "id": "vRUiCd-3TQiT",
        "colab": {
          "base_uri": "https://localhost:8080/",
          "height": 49,
          "referenced_widgets": [
            "18a6125a58a04a988dc0d955cd171575",
            "baa93805ccd54a74b3e710d7fe3326e6",
            "3c6059542aaa47e4918b0621ed080d3c",
            "41b8b7032a8540e0a739ad3928a324ce",
            "cc0485bd436c49c9937b69785454d681",
            "636a8fe973f04d44ac64a16cdbd247ea",
            "4a6b5db5a6ed4dcb82d81dd03cad8ef4",
            "4833b596eefd46759a2929e17c501794",
            "b3312b4ac74f4083a0b92c25a06137b4",
            "93736ed6d7cf4977b5319fecaa927dd2",
            "a7c9339469074268b2251d50f87c1c3b"
          ]
        },
        "outputId": "dd338cae-e37b-4eed-e90a-c9b5148755bd"
      },
      "execution_count": null,
      "outputs": [
        {
          "output_type": "display_data",
          "data": {
            "text/plain": [
              "  0%|          | 0/100 [00:00<?, ?it/s]"
            ],
            "application/vnd.jupyter.widget-view+json": {
              "version_major": 2,
              "version_minor": 0,
              "model_id": "18a6125a58a04a988dc0d955cd171575"
            }
          },
          "metadata": {}
        }
      ]
    },
    {
      "cell_type": "code",
      "source": [
        "features = torch.cat([\n",
        "    torch.tensor([1, 0.5, -0.5]).repeat(100, 1),\n",
        "    plot_zs.reshape(-1, 1)\n",
        "], axis=-1)\n",
        "plt.plot(plot_zs, model(features).detach().numpy(), label='Model function')\n",
        "plt.plot(plot_zs, hairy_increasing_func(features.numpy(), plot_zs.numpy()), label='True function')\n",
        "\n",
        "plt.legend()\n",
        "plt.show()"
      ],
      "metadata": {
        "colab": {
          "base_uri": "https://localhost:8080/",
          "height": 430
        },
        "id": "w5gP13Iio6ku",
        "outputId": "02ebfbf1-e516-4354-a0e8-d6ff3e68b5b0"
      },
      "execution_count": null,
      "outputs": [
        {
          "output_type": "display_data",
          "data": {
            "text/plain": [
              "<Figure size 640x480 with 1 Axes>"
            ],
            "image/png": "[encoded data removed]"
          },
          "metadata": {}
        }
      ]
    },
    {
      "cell_type": "code",
      "source": [
        "features = torch.cat([\n",
        "    torch.tensor([-1.5, 0.8, 0.1]).repeat(100, 1),\n",
        "    plot_zs.reshape(-1, 1)\n",
        "], axis=-1)\n",
        "plt.plot(plot_zs, model(features).detach().numpy(), label='Model function')\n",
        "plt.plot(plot_zs, hairy_increasing_func(features.numpy(), plot_zs.numpy()), label='True function')\n",
        "\n",
        "plt.legend()\n",
        "plt.show()"
      ],
      "metadata": {
        "colab": {
          "base_uri": "https://localhost:8080/",
          "height": 430
        },
        "id": "AF9HSRcvo9ni",
        "outputId": "b64e566c-d992-4316-fa14-861d1716ef5f"
      },
      "execution_count": null,
      "outputs": [
        {
          "output_type": "display_data",
          "data": {
            "text/plain": [
              "<Figure size 640x480 with 1 Axes>"
            ],
            "image/png": "[encoded data removed]"
          },
          "metadata": {}
        }
      ]
    },
    {
      "cell_type": "code",
      "source": [],
      "metadata": {
        "id": "8eE_4gnZpKns"
      },
      "execution_count": null,
      "outputs": []
    }
  ]
}